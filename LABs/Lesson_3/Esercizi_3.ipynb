{
 "cells": [
  {
   "cell_type": "markdown",
   "id": "cd8d6a57-49d8-4eab-bb0f-107b277ad3d1",
   "metadata": {},
   "source": [
    "## Esercizi sui Numpy array  5 Marzo 2024\n"
   ]
  },
  {
   "cell_type": "markdown",
   "id": "d3445102-1135-4f49-8673-dcba181f883b",
   "metadata": {},
   "source": [
    "**Esercizio 1**\n",
    "\n",
    "Confrontare il tempo di esecuzione dei due metodi per la creazione di un numpy array di 2000000 di elementi equidistanti nell'intervallo [-4,4]:\n",
    "\n",
    "    1) costruzione con utilizzo di np.linspace\n",
    "    \n",
    "    2) Assegnazione manuale dei valori nel ciclo.\n",
    "    "
   ]
  },
  {
   "cell_type": "code",
   "execution_count": 62,
   "id": "cb502b52-3626-407f-ab03-66f0195836fc",
   "metadata": {
    "tags": []
   },
   "outputs": [
    {
     "name": "stdout",
     "output_type": "stream",
     "text": [
      "Tempo linspace  0.007998399999905814\n"
     ]
    }
   ],
   "source": [
    "import numpy as np\n",
    "import time\n",
    "n=2000000\n",
    "a=0\n",
    "b=4\n",
    "start=time.perf_counter()\n",
    "c=np.linspace(a,b,n)\n",
    "end =time.perf_counter()\n",
    "print(\"Tempo linspace \",end-start) "
   ]
  },
  {
   "cell_type": "code",
   "execution_count": 63,
   "id": "335378d9-aa81-4f03-b96c-bea8e84a4067",
   "metadata": {
    "tags": []
   },
   "outputs": [
    {
     "name": "stdout",
     "output_type": "stream",
     "text": [
      "Tempo ciclo  0.36682180000025255\n"
     ]
    }
   ],
   "source": [
    "step=(b-a)/(n-1)\n",
    "start=time.perf_counter()\n",
    "x=[]\n",
    "for i in range(n):\n",
    "    x.append(a+i*step)\n",
    "end=time.perf_counter()\n",
    "x=np.array(x)\n",
    "print(\"Tempo ciclo \",end-start)  "
   ]
  },
  {
   "cell_type": "markdown",
   "id": "59db5cfc-4e88-42a8-afc7-1d666abd0abc",
   "metadata": {},
   "source": [
    "**Esercizio 2**\n",
    "\n",
    "-     Creare un numpy array 1D (chiamato c) di valori equidistanti tra 7 e 41 con step 2.\n",
    "\n",
    "-      Trasformare l'array c in un numpy array 2d (chiamato c1) con shape (2,9) usando il metodo .reshape((m,n))\n",
    "\n",
    "-       Determinare se c1 e' una copia o una vista dell'originale."
   ]
  },
  {
   "cell_type": "code",
   "execution_count": 64,
   "id": "2dd5d36c-2785-4aa9-ac26-1226d890fcd9",
   "metadata": {
    "tags": []
   },
   "outputs": [
    {
     "name": "stdout",
     "output_type": "stream",
     "text": [
      "c (18,)\n",
      "c1 [ 7  9 11 13 15 17 19 21 23 25 27 29 31 33 35 37 39 41]\n"
     ]
    }
   ],
   "source": [
    "c=np.arange(7,42,2)\n",
    "print(\"c\",c.shape)\n",
    "c1=c.reshape((2,9))\n",
    "print(\"c1\",c1.base)\n",
    "\n",
    "#il metodo .reshape() restituisce una \n",
    "#vista dell'array originale con una nuova forma, \n",
    "#senza creare una copia dei dati dell'array, \n",
    "#ma condividendoli con l'array originale."
   ]
  },
  {
   "cell_type": "markdown",
   "id": "7b81197a-a950-48ab-8e75-31855ac69d9d",
   "metadata": {},
   "source": [
    "**Esercizio 3**\n",
    "\n",
    "-     Costruire un numpy array 1d, denominato C  di valori che variano tra 15 e 41 con step 2\n",
    "\n",
    "-     Trasformarlo in un numpy array 2d con shape(7,2) usando il metodo . resize(7,2)  che lavora in-place,  (cioè  modifica l'array esistente, non è necessario creare una copia). Verificare la shape di C e dire se C è copia o vista?"
   ]
  },
  {
   "cell_type": "code",
   "execution_count": 65,
   "id": "57b7c83c-287b-46b6-b2a5-424f975844cf",
   "metadata": {},
   "outputs": [
    {
     "name": "stdout",
     "output_type": "stream",
     "text": [
      "(7, 2)\n",
      "None\n"
     ]
    }
   ],
   "source": [
    "C=np.arange(15,42,2)\n",
    "C.resize((7,2))\n",
    "print(C.shape)\n",
    "print(C.base)\n"
   ]
  },
  {
   "cell_type": "markdown",
   "id": "d1adc080-9ce4-404c-ba18-c831f2625214",
   "metadata": {},
   "source": [
    "**Esercizio 4**\n",
    "\n",
    "-      Costruire il numpy array  s  formato da 100 valori equidistanti in  [0,4],\n",
    "\n",
    "-      considerarne il reshape in un array 2d che ha 4 righe con un numero opportuno di colonne"
   ]
  },
  {
   "cell_type": "code",
   "execution_count": 66,
   "id": "e06da32b-80f5-4aad-bc98-3329fda6a1c0",
   "metadata": {
    "tags": []
   },
   "outputs": [
    {
     "name": "stdout",
     "output_type": "stream",
     "text": [
      "[[0.         0.04040404 0.08080808 0.12121212 0.16161616 0.2020202\n",
      "  0.24242424 0.28282828 0.32323232 0.36363636 0.4040404  0.44444444\n",
      "  0.48484848 0.52525253 0.56565657 0.60606061 0.64646465 0.68686869\n",
      "  0.72727273 0.76767677 0.80808081 0.84848485 0.88888889 0.92929293\n",
      "  0.96969697 1.01010101 1.05050505 1.09090909 1.13131313 1.17171717\n",
      "  1.21212121 1.25252525 1.29292929 1.33333333 1.37373737 1.41414141\n",
      "  1.45454545 1.49494949 1.53535354 1.57575758 1.61616162 1.65656566\n",
      "  1.6969697  1.73737374 1.77777778 1.81818182 1.85858586 1.8989899\n",
      "  1.93939394 1.97979798]\n",
      " [2.02020202 2.06060606 2.1010101  2.14141414 2.18181818 2.22222222\n",
      "  2.26262626 2.3030303  2.34343434 2.38383838 2.42424242 2.46464646\n",
      "  2.50505051 2.54545455 2.58585859 2.62626263 2.66666667 2.70707071\n",
      "  2.74747475 2.78787879 2.82828283 2.86868687 2.90909091 2.94949495\n",
      "  2.98989899 3.03030303 3.07070707 3.11111111 3.15151515 3.19191919\n",
      "  3.23232323 3.27272727 3.31313131 3.35353535 3.39393939 3.43434343\n",
      "  3.47474747 3.51515152 3.55555556 3.5959596  3.63636364 3.67676768\n",
      "  3.71717172 3.75757576 3.7979798  3.83838384 3.87878788 3.91919192\n",
      "  3.95959596 4.        ]]\n"
     ]
    }
   ],
   "source": [
    "s=np.linspace(0,4,100).reshape(2,-1) #l'utilizzo di -1 nel secondo argomento fa sì che il\n",
    "#numero di colonne opportuno sia calcolato automaticamente\n",
    "print(s)  "
   ]
  },
  {
   "cell_type": "markdown",
   "id": "d40f5d7a-4808-4004-b806-b8b75bcaa01b",
   "metadata": {},
   "source": [
    "**Esercizio 5**\n",
    "\n",
    "-     Costruire il numpy array s formato da 100 valori equidistanti in  [0,4]\n",
    "-     considerarne il reshape in un array 2d che ha 4 colonne con un numero opportuno di righe"
   ]
  },
  {
   "cell_type": "code",
   "execution_count": 67,
   "id": "21d7df93-0837-4431-8ccc-01350c26c959",
   "metadata": {
    "tags": []
   },
   "outputs": [
    {
     "name": "stdout",
     "output_type": "stream",
     "text": [
      "[[0.         0.04040404 0.08080808 0.12121212]\n",
      " [0.16161616 0.2020202  0.24242424 0.28282828]\n",
      " [0.32323232 0.36363636 0.4040404  0.44444444]\n",
      " [0.48484848 0.52525253 0.56565657 0.60606061]\n",
      " [0.64646465 0.68686869 0.72727273 0.76767677]\n",
      " [0.80808081 0.84848485 0.88888889 0.92929293]\n",
      " [0.96969697 1.01010101 1.05050505 1.09090909]\n",
      " [1.13131313 1.17171717 1.21212121 1.25252525]\n",
      " [1.29292929 1.33333333 1.37373737 1.41414141]\n",
      " [1.45454545 1.49494949 1.53535354 1.57575758]\n",
      " [1.61616162 1.65656566 1.6969697  1.73737374]\n",
      " [1.77777778 1.81818182 1.85858586 1.8989899 ]\n",
      " [1.93939394 1.97979798 2.02020202 2.06060606]\n",
      " [2.1010101  2.14141414 2.18181818 2.22222222]\n",
      " [2.26262626 2.3030303  2.34343434 2.38383838]\n",
      " [2.42424242 2.46464646 2.50505051 2.54545455]\n",
      " [2.58585859 2.62626263 2.66666667 2.70707071]\n",
      " [2.74747475 2.78787879 2.82828283 2.86868687]\n",
      " [2.90909091 2.94949495 2.98989899 3.03030303]\n",
      " [3.07070707 3.11111111 3.15151515 3.19191919]\n",
      " [3.23232323 3.27272727 3.31313131 3.35353535]\n",
      " [3.39393939 3.43434343 3.47474747 3.51515152]\n",
      " [3.55555556 3.5959596  3.63636364 3.67676768]\n",
      " [3.71717172 3.75757576 3.7979798  3.83838384]\n",
      " [3.87878788 3.91919192 3.95959596 4.        ]]\n"
     ]
    }
   ],
   "source": [
    "s=np.linspace(0,4,100).reshape(-1,4)\n",
    "print(s)"
   ]
  },
  {
   "cell_type": "markdown",
   "id": "6df0f7e2-8d6d-45e3-b6c8-73ed973b62f0",
   "metadata": {},
   "source": [
    "**Esercizio 6**  \n",
    "\n",
    "-     Scrivere il numpy  array 2d, A, [[10,11,12],[13,14,15],[16,17,18]] \n",
    "-     trasformarlo in un numpy array 1d usando il metodo .ravel()  \n",
    "-     Si tratta di una copia o di una vista?"
   ]
  },
  {
   "cell_type": "code",
   "execution_count": 68,
   "id": "4b85533a-ccb3-40cf-8fad-c5e2321b05b7",
   "metadata": {
    "tags": []
   },
   "outputs": [
    {
     "name": "stdout",
     "output_type": "stream",
     "text": [
      "[10 11 12 13 14 15 16 17 18]\n",
      "[[10 11 12]\n",
      " [13 14 15]\n",
      " [16 17 18]]\n"
     ]
    }
   ],
   "source": [
    "A=np.array([[10,11,12],[13,14,15],[16,17,18]])\n",
    "b=A.ravel()\n",
    "print(b)\n",
    "print(b.base) #Ravel  crea una vista"
   ]
  },
  {
   "cell_type": "markdown",
   "id": "19559c2a-0ac7-4d4a-b6ff-38e58843b3b6",
   "metadata": {},
   "source": [
    "**Esercizio 7**  \n",
    "\n",
    "-     Scrivere il numpy  array 2d, A, [[10,11,12],[13,14,15],[16,17,18]] \n",
    "-     trasformarlo in un numpy array 1d usando il metodo  .flatten().\n",
    "-     Si tratta di una copia o di una vista?"
   ]
  },
  {
   "cell_type": "code",
   "execution_count": 69,
   "id": "a89e19ac-0dbd-4817-83e6-6d767a8f7c01",
   "metadata": {
    "tags": []
   },
   "outputs": [
    {
     "name": "stdout",
     "output_type": "stream",
     "text": [
      "[10 11 12 13 14 15 16 17 18]\n",
      "None\n"
     ]
    }
   ],
   "source": [
    "A=np.array([[10,11,12],[13,14,15],[16,17,18]])\n",
    "b=A.flatten()\n",
    "print(b)\n",
    "print(b.base)  #Flatten crea una copia"
   ]
  },
  {
   "cell_type": "markdown",
   "id": "c77c2529-d680-42c9-9231-3aca724b1c12",
   "metadata": {},
   "source": [
    "**Esercizio 8** \n",
    "\n",
    "-     creare i due  numpy array 1d\n",
    "        f1= [ 0  1  2  3  4  5  6  7  8  9 10 11 12 13 14 15]  \n",
    "        f2= [16 17 18 19 20 21 22 23 24 25 26 27 28 29 30 31]\n",
    "-     \"vederli\" come matrici  4x4 ed effettuarne il prodotto scalare, memorizzando in f3 la matrice che nasce dal loro prodotto."
   ]
  },
  {
   "cell_type": "code",
   "execution_count": 70,
   "id": "1d358a12-f59a-454d-ad79-e3d8463485ab",
   "metadata": {
    "tags": []
   },
   "outputs": [
    {
     "name": "stdout",
     "output_type": "stream",
     "text": [
      "[[ 152  158  164  170]\n",
      " [ 504  526  548  570]\n",
      " [ 856  894  932  970]\n",
      " [1208 1262 1316 1370]]\n"
     ]
    }
   ],
   "source": [
    "f1=np.arange(16)\n",
    "f2=np.arange(16,32)\n",
    "c=f1.reshape(4,4)@f2.reshape(4,4)\n",
    "print(c)"
   ]
  },
  {
   "cell_type": "markdown",
   "id": "c9249961-c220-46c0-9e0d-e59dfefe662c",
   "metadata": {},
   "source": [
    "**Esercizio 9**    \n",
    "\n",
    " Costruire:\n",
    "-      Numpy Array A di shape (2,10) : array di valori random campionati da una distribuzione gaussiana con media 0 e varianza 1.\n",
    " -     Numpy array 1D B di shape (20,) formato dagli interi da 0 a 19.\n",
    " \n",
    " \"Vedere\" A come un array 1D di 20 elementi ed effettuare la somma di A+B\n",
    "\n"
   ]
  },
  {
   "cell_type": "code",
   "execution_count": 71,
   "id": "a90ce65a-69c6-4069-8b37-5961d1b19f79",
   "metadata": {
    "tags": []
   },
   "outputs": [
    {
     "name": "stdout",
     "output_type": "stream",
     "text": [
      "C [-0.15526378  0.99836868  0.68329392  2.82799444  5.07082225  4.09318675\n",
      "  7.82788789  7.1740387   7.53882105  9.01089322  8.88430879 11.64700127\n",
      " 11.46979298 13.5872556  13.33455251 14.56042931 17.31074238 16.61201366\n",
      " 18.80822401 18.57649533]\n"
     ]
    }
   ],
   "source": [
    "A=np.random.randn(2,10)\n",
    "B=np.arange(0,20)\n",
    "C=A.ravel()+B  #.ravel() produce una vista, non occupa memoria\n",
    "print(\"C\",C)"
   ]
  },
  {
   "cell_type": "markdown",
   "id": "7f6cf29e-d14a-46c9-8f35-e66151a9e0a3",
   "metadata": {},
   "source": [
    "**Esercizio 10** \n",
    "-     Creare un array 2D di shape (5,5), denominato B2, con valori tutti uguali a 15.\n",
    "-     Creare una copia B3 di B2. Modificare l'elemento B3[0,0] assegnandogli il valore 150. \n",
    "-     Stampare il numpy array B2 ed il numpy array B3 e verificare che B2, dopo la modifica di B3, è rimasto inalterato"
   ]
  },
  {
   "cell_type": "code",
   "execution_count": 72,
   "id": "68e1d2d0-fd56-4d41-95bc-68e70f9adaeb",
   "metadata": {
    "tags": []
   },
   "outputs": [
    {
     "name": "stdout",
     "output_type": "stream",
     "text": [
      "B2= [[15 15 15 15 15]\n",
      " [15 15 15 15 15]\n",
      " [15 15 15 15 15]\n",
      " [15 15 15 15 15]\n",
      " [15 15 15 15 15]]\n",
      "B3= [[150  15  15  15  15]\n",
      " [ 15  15  15  15  15]\n",
      " [ 15  15  15  15  15]\n",
      " [ 15  15  15  15  15]\n",
      " [ 15  15  15  15  15]]\n"
     ]
    }
   ],
   "source": [
    "B2=np.full((5,5),15)\n",
    "B3=B2.copy()\n",
    "B3[0,0]=150\n",
    "print(\"B2=\",B2)\n",
    "print(\"B3=\",B3)"
   ]
  },
  {
   "cell_type": "markdown",
   "id": "af234d9c-98b6-4741-91a8-0c1d14ff8183",
   "metadata": {},
   "source": [
    "\n"
   ]
  },
  {
   "cell_type": "markdown",
   "id": "22c456d1-2897-412c-99c1-e9b19cbab4e7",
   "metadata": {},
   "source": [
    "**Esercizio 11**   \n",
    "\n",
    "-     Costruire  un numpy array 1D, di shape (10,) denominato  f , costituito da 10 valori equidistanti nell'intervallo [0,1]\n",
    "-     aumentarne la dimensionalità, in maniera tale che abbia shape (10,1)"
   ]
  },
  {
   "cell_type": "code",
   "execution_count": 73,
   "id": "8b735745-e5cd-41e0-8bf6-91df729afe3b",
   "metadata": {
    "tags": []
   },
   "outputs": [
    {
     "name": "stdout",
     "output_type": "stream",
     "text": [
      "(10, 1)\n"
     ]
    }
   ],
   "source": [
    "f=np.linspace(0,1,10)\n",
    "f1=f.reshape(10,1)\n",
    "print(f1.shape)"
   ]
  },
  {
   "cell_type": "code",
   "execution_count": 74,
   "id": "bbfa77b9-928d-4976-8de4-a364cccb085e",
   "metadata": {
    "tags": []
   },
   "outputs": [
    {
     "name": "stdout",
     "output_type": "stream",
     "text": [
      "Shape di f  (10,)\n",
      "[[0.        ]\n",
      " [0.11111111]\n",
      " [0.22222222]\n",
      " [0.33333333]\n",
      " [0.44444444]\n",
      " [0.55555556]\n",
      " [0.66666667]\n",
      " [0.77777778]\n",
      " [0.88888889]\n",
      " [1.        ]]\n",
      "Shape di f2  (10, 1)\n"
     ]
    }
   ],
   "source": [
    "#Altra possibilià\n",
    "f=np.linspace(0,1,10)\n",
    "print(\"Shape di f \",f.shape)\n",
    "f2=f[:,np.newaxis]\n",
    "print(f2)\n",
    "print(\"Shape di f2 \",f2.shape)"
   ]
  },
  {
   "cell_type": "markdown",
   "id": "2866db7c-cbcb-431e-bc6a-2645577a65e8",
   "metadata": {},
   "source": [
    "- **Esercizio 12**\n",
    "-     Costruire i seguenti numpy array\n",
    "      a= np.array([14,13,12,11])\n",
    "      b=np.array([[4,3,2,1],[9,10,11,12]])\n",
    "\n",
    "  Costruire il numpy array che si ottiene concatenando a e b per righe\n"
   ]
  },
  {
   "cell_type": "code",
   "execution_count": 75,
   "id": "5bc2f950-b05e-4925-84ba-fb10b0eb6e25",
   "metadata": {
    "tags": []
   },
   "outputs": [
    {
     "name": "stdout",
     "output_type": "stream",
     "text": [
      "[[14 13 12 11]\n",
      " [ 4  3  2  1]\n",
      " [ 9 10 11 12]]\n"
     ]
    }
   ],
   "source": [
    "a= np.array([14,13,12,11])\n",
    "b=np.array([[4,3,2,1],[9,10,11,12]])\n",
    "c=np.concatenate((a.reshape(1,4),b),axis=0) #E' necessario aggiungere una dimensione ad a \n",
    "# deve essre un 2d array con 1 riga e 4 colonne\n",
    "print(c)"
   ]
  },
  {
   "cell_type": "markdown",
   "id": "d57c7290-27ce-4dce-a8e2-6b89124ed223",
   "metadata": {},
   "source": [
    "- **Esercizio 13**\n",
    "-     Costruire i seguenti numpy array\n",
    "      a= np.array([14,13,12,11])\n",
    "      b=np.array([[4,3,2,1],[9,10,11,12],[4,3,2,1],[9,10,11,12]])\n",
    "\n",
    "-\n",
    "- Costruire il numpy array che si ottiene concatenando a e b per colonne"
   ]
  },
  {
   "cell_type": "code",
   "execution_count": 76,
   "id": "6a27d599-87b0-4fc3-9a5e-ee948813badf",
   "metadata": {
    "tags": []
   },
   "outputs": [
    {
     "name": "stdout",
     "output_type": "stream",
     "text": [
      "a= [14 13 12 11]\n",
      "b= [[ 4  3  2  1]\n",
      " [ 9 10 11 12]\n",
      " [ 4  3  2  1]\n",
      " [ 9 10 11 12]]\n",
      "[[14  4  3  2  1]\n",
      " [13  9 10 11 12]\n",
      " [12  4  3  2  1]\n",
      " [11  9 10 11 12]]\n"
     ]
    }
   ],
   "source": [
    "a= np.array([14,13,12,11])\n",
    "b=np.array([[4,3,2,1],[9,10,11,12],[4,3,2,1],[9,10,11,12]])\n",
    "print(\"a=\",a)\n",
    "print(\"b=\",b)\n",
    "c=np.concatenate((a.reshape(4,1),b),axis=1)\n",
    "print(c)  #E' necessario aggiungere una dimensione ad a \n",
    "# deve essre un 2d array con 4 righe e 1 colonna"
   ]
  },
  {
   "cell_type": "markdown",
   "id": "7c6eb421-0e1f-445b-b72f-7d2a2451fcb4",
   "metadata": {},
   "source": [
    "**Esercizio 14**\n",
    "\n",
    "Costruire, facendo uso di una sola riga di codice, la matrice A di ordine 20, che ha gli unici elementi diversi da zero, sulla diagonale princiaple, sulla codiagonale inferiore e sulla codiagonale superiore:\n",
    "\n",
    "elementi diagonali $A_{i,i}=10 \\quad$, i=1,20\n",
    "\n",
    "elementi nella codiagonale inferiore $A_{i-1,i}=-12, \\quad$ i=2,..,20, \n",
    "\n",
    "elementi nella codiagonale superiore $A_{i,i+1}=-2 \\quad$ i=1,..,19"
   ]
  },
  {
   "cell_type": "code",
   "execution_count": 77,
   "id": "1cb6c555-5bc5-4cea-b6e2-c457260bfc3b",
   "metadata": {
    "tags": []
   },
   "outputs": [
    {
     "name": "stdout",
     "output_type": "stream",
     "text": [
      "[[ 10.  -2.   0.   0.   0.   0.   0.   0.   0.   0.   0.   0.   0.   0.\n",
      "    0.   0.   0.   0.   0.   0.]\n",
      " [-12.  10.  -2.   0.   0.   0.   0.   0.   0.   0.   0.   0.   0.   0.\n",
      "    0.   0.   0.   0.   0.   0.]\n",
      " [  0. -12.  10.  -2.   0.   0.   0.   0.   0.   0.   0.   0.   0.   0.\n",
      "    0.   0.   0.   0.   0.   0.]\n",
      " [  0.   0. -12.  10.  -2.   0.   0.   0.   0.   0.   0.   0.   0.   0.\n",
      "    0.   0.   0.   0.   0.   0.]\n",
      " [  0.   0.   0. -12.  10.  -2.   0.   0.   0.   0.   0.   0.   0.   0.\n",
      "    0.   0.   0.   0.   0.   0.]\n",
      " [  0.   0.   0.   0. -12.  10.  -2.   0.   0.   0.   0.   0.   0.   0.\n",
      "    0.   0.   0.   0.   0.   0.]\n",
      " [  0.   0.   0.   0.   0. -12.  10.  -2.   0.   0.   0.   0.   0.   0.\n",
      "    0.   0.   0.   0.   0.   0.]\n",
      " [  0.   0.   0.   0.   0.   0. -12.  10.  -2.   0.   0.   0.   0.   0.\n",
      "    0.   0.   0.   0.   0.   0.]\n",
      " [  0.   0.   0.   0.   0.   0.   0. -12.  10.  -2.   0.   0.   0.   0.\n",
      "    0.   0.   0.   0.   0.   0.]\n",
      " [  0.   0.   0.   0.   0.   0.   0.   0. -12.  10.  -2.   0.   0.   0.\n",
      "    0.   0.   0.   0.   0.   0.]\n",
      " [  0.   0.   0.   0.   0.   0.   0.   0.   0. -12.  10.  -2.   0.   0.\n",
      "    0.   0.   0.   0.   0.   0.]\n",
      " [  0.   0.   0.   0.   0.   0.   0.   0.   0.   0. -12.  10.  -2.   0.\n",
      "    0.   0.   0.   0.   0.   0.]\n",
      " [  0.   0.   0.   0.   0.   0.   0.   0.   0.   0.   0. -12.  10.  -2.\n",
      "    0.   0.   0.   0.   0.   0.]\n",
      " [  0.   0.   0.   0.   0.   0.   0.   0.   0.   0.   0.   0. -12.  10.\n",
      "   -2.   0.   0.   0.   0.   0.]\n",
      " [  0.   0.   0.   0.   0.   0.   0.   0.   0.   0.   0.   0.   0. -12.\n",
      "   10.  -2.   0.   0.   0.   0.]\n",
      " [  0.   0.   0.   0.   0.   0.   0.   0.   0.   0.   0.   0.   0.   0.\n",
      "  -12.  10.  -2.   0.   0.   0.]\n",
      " [  0.   0.   0.   0.   0.   0.   0.   0.   0.   0.   0.   0.   0.   0.\n",
      "    0. -12.  10.  -2.   0.   0.]\n",
      " [  0.   0.   0.   0.   0.   0.   0.   0.   0.   0.   0.   0.   0.   0.\n",
      "    0.   0. -12.  10.  -2.   0.]\n",
      " [  0.   0.   0.   0.   0.   0.   0.   0.   0.   0.   0.   0.   0.   0.\n",
      "    0.   0.   0. -12.  10.  -2.]\n",
      " [  0.   0.   0.   0.   0.   0.   0.   0.   0.   0.   0.   0.   0.   0.\n",
      "    0.   0.   0.   0. -12.  10.]]\n"
     ]
    }
   ],
   "source": [
    "A=np.diag(np.ones((20,))*10)+np.diag(np.ones((19,))*(-12),-1)+np.diag(np.ones((19,))*(-2),1)\n",
    "print(A)"
   ]
  },
  {
   "cell_type": "markdown",
   "id": "bae8a3dc-e71c-4ff4-8062-2d66c377d63f",
   "metadata": {},
   "source": [
    "**Esercizio 15**\n",
    "\n",
    "Costruire la matrice identità, denominata *I*,  della stessa dimensione di *A*"
   ]
  },
  {
   "cell_type": "code",
   "execution_count": 78,
   "id": "bcf2bf90-0742-49da-b9d5-d773e1dfaf74",
   "metadata": {
    "tags": []
   },
   "outputs": [
    {
     "name": "stdout",
     "output_type": "stream",
     "text": [
      "I= [[1. 0. 0. 0. 0. 0. 0. 0. 0. 0. 0. 0. 0. 0. 0. 0. 0. 0. 0. 0.]\n",
      " [0. 1. 0. 0. 0. 0. 0. 0. 0. 0. 0. 0. 0. 0. 0. 0. 0. 0. 0. 0.]\n",
      " [0. 0. 1. 0. 0. 0. 0. 0. 0. 0. 0. 0. 0. 0. 0. 0. 0. 0. 0. 0.]\n",
      " [0. 0. 0. 1. 0. 0. 0. 0. 0. 0. 0. 0. 0. 0. 0. 0. 0. 0. 0. 0.]\n",
      " [0. 0. 0. 0. 1. 0. 0. 0. 0. 0. 0. 0. 0. 0. 0. 0. 0. 0. 0. 0.]\n",
      " [0. 0. 0. 0. 0. 1. 0. 0. 0. 0. 0. 0. 0. 0. 0. 0. 0. 0. 0. 0.]\n",
      " [0. 0. 0. 0. 0. 0. 1. 0. 0. 0. 0. 0. 0. 0. 0. 0. 0. 0. 0. 0.]\n",
      " [0. 0. 0. 0. 0. 0. 0. 1. 0. 0. 0. 0. 0. 0. 0. 0. 0. 0. 0. 0.]\n",
      " [0. 0. 0. 0. 0. 0. 0. 0. 1. 0. 0. 0. 0. 0. 0. 0. 0. 0. 0. 0.]\n",
      " [0. 0. 0. 0. 0. 0. 0. 0. 0. 1. 0. 0. 0. 0. 0. 0. 0. 0. 0. 0.]\n",
      " [0. 0. 0. 0. 0. 0. 0. 0. 0. 0. 1. 0. 0. 0. 0. 0. 0. 0. 0. 0.]\n",
      " [0. 0. 0. 0. 0. 0. 0. 0. 0. 0. 0. 1. 0. 0. 0. 0. 0. 0. 0. 0.]\n",
      " [0. 0. 0. 0. 0. 0. 0. 0. 0. 0. 0. 0. 1. 0. 0. 0. 0. 0. 0. 0.]\n",
      " [0. 0. 0. 0. 0. 0. 0. 0. 0. 0. 0. 0. 0. 1. 0. 0. 0. 0. 0. 0.]\n",
      " [0. 0. 0. 0. 0. 0. 0. 0. 0. 0. 0. 0. 0. 0. 1. 0. 0. 0. 0. 0.]\n",
      " [0. 0. 0. 0. 0. 0. 0. 0. 0. 0. 0. 0. 0. 0. 0. 1. 0. 0. 0. 0.]\n",
      " [0. 0. 0. 0. 0. 0. 0. 0. 0. 0. 0. 0. 0. 0. 0. 0. 1. 0. 0. 0.]\n",
      " [0. 0. 0. 0. 0. 0. 0. 0. 0. 0. 0. 0. 0. 0. 0. 0. 0. 1. 0. 0.]\n",
      " [0. 0. 0. 0. 0. 0. 0. 0. 0. 0. 0. 0. 0. 0. 0. 0. 0. 0. 1. 0.]\n",
      " [0. 0. 0. 0. 0. 0. 0. 0. 0. 0. 0. 0. 0. 0. 0. 0. 0. 0. 0. 1.]]\n"
     ]
    }
   ],
   "source": [
    "I=np.eye(A.shape[0])\n",
    "print(\"I=\",I)"
   ]
  },
  {
   "cell_type": "markdown",
   "id": "612458f4-d8f6-4015-ae74-042d73cbd9f9",
   "metadata": {},
   "source": [
    "**Esercizio 16**\n",
    "\n",
    "Facendo uso dell'operatore slicing *:* ,costruire la matrice AA selezionando dalla matrice A le righe che vanno dalla 2 alla 9 con step 2 e le colonne che vanno dalla 3 alla 6 con step 2.\n",
    "La matrice AA è una vista o una copia?\n"
   ]
  },
  {
   "cell_type": "code",
   "execution_count": 79,
   "id": "7275e8a1-3bc5-4ddb-ac4d-dfed5445f065",
   "metadata": {
    "tags": []
   },
   "outputs": [
    {
     "name": "stdout",
     "output_type": "stream",
     "text": [
      "[[ -2.   0.]\n",
      " [-12.  -2.]\n",
      " [  0. -12.]\n",
      " [  0.   0.]]\n",
      "[[ 10.  -2.   0.   0.   0.   0.   0.   0.   0.   0.   0.   0.   0.   0.\n",
      "    0.   0.   0.   0.   0.   0.]\n",
      " [-12.  10.  -2.   0.   0.   0.   0.   0.   0.   0.   0.   0.   0.   0.\n",
      "    0.   0.   0.   0.   0.   0.]\n",
      " [  0. -12.  10.  -2.   0.   0.   0.   0.   0.   0.   0.   0.   0.   0.\n",
      "    0.   0.   0.   0.   0.   0.]\n",
      " [  0.   0. -12.  10.  -2.   0.   0.   0.   0.   0.   0.   0.   0.   0.\n",
      "    0.   0.   0.   0.   0.   0.]\n",
      " [  0.   0.   0. -12.  10.  -2.   0.   0.   0.   0.   0.   0.   0.   0.\n",
      "    0.   0.   0.   0.   0.   0.]\n",
      " [  0.   0.   0.   0. -12.  10.  -2.   0.   0.   0.   0.   0.   0.   0.\n",
      "    0.   0.   0.   0.   0.   0.]\n",
      " [  0.   0.   0.   0.   0. -12.  10.  -2.   0.   0.   0.   0.   0.   0.\n",
      "    0.   0.   0.   0.   0.   0.]\n",
      " [  0.   0.   0.   0.   0.   0. -12.  10.  -2.   0.   0.   0.   0.   0.\n",
      "    0.   0.   0.   0.   0.   0.]\n",
      " [  0.   0.   0.   0.   0.   0.   0. -12.  10.  -2.   0.   0.   0.   0.\n",
      "    0.   0.   0.   0.   0.   0.]\n",
      " [  0.   0.   0.   0.   0.   0.   0.   0. -12.  10.  -2.   0.   0.   0.\n",
      "    0.   0.   0.   0.   0.   0.]\n",
      " [  0.   0.   0.   0.   0.   0.   0.   0.   0. -12.  10.  -2.   0.   0.\n",
      "    0.   0.   0.   0.   0.   0.]\n",
      " [  0.   0.   0.   0.   0.   0.   0.   0.   0.   0. -12.  10.  -2.   0.\n",
      "    0.   0.   0.   0.   0.   0.]\n",
      " [  0.   0.   0.   0.   0.   0.   0.   0.   0.   0.   0. -12.  10.  -2.\n",
      "    0.   0.   0.   0.   0.   0.]\n",
      " [  0.   0.   0.   0.   0.   0.   0.   0.   0.   0.   0.   0. -12.  10.\n",
      "   -2.   0.   0.   0.   0.   0.]\n",
      " [  0.   0.   0.   0.   0.   0.   0.   0.   0.   0.   0.   0.   0. -12.\n",
      "   10.  -2.   0.   0.   0.   0.]\n",
      " [  0.   0.   0.   0.   0.   0.   0.   0.   0.   0.   0.   0.   0.   0.\n",
      "  -12.  10.  -2.   0.   0.   0.]\n",
      " [  0.   0.   0.   0.   0.   0.   0.   0.   0.   0.   0.   0.   0.   0.\n",
      "    0. -12.  10.  -2.   0.   0.]\n",
      " [  0.   0.   0.   0.   0.   0.   0.   0.   0.   0.   0.   0.   0.   0.\n",
      "    0.   0. -12.  10.  -2.   0.]\n",
      " [  0.   0.   0.   0.   0.   0.   0.   0.   0.   0.   0.   0.   0.   0.\n",
      "    0.   0.   0. -12.  10.  -2.]\n",
      " [  0.   0.   0.   0.   0.   0.   0.   0.   0.   0.   0.   0.   0.   0.\n",
      "    0.   0.   0.   0. -12.  10.]]\n"
     ]
    }
   ],
   "source": [
    "A1=A[2:10:2,3:7:2]\n",
    "print(A1)\n",
    "print(A1.base) #La matrice è una vista"
   ]
  },
  {
   "cell_type": "markdown",
   "id": "db2a4f82-fe57-4763-bd58-9921869c671c",
   "metadata": {},
   "source": [
    "**Esercizio 17**\n",
    "\n",
    "Facendo uso dell'operatore slicing *:*, costruire la matrice A1 selezionando dalla matrice A le colonne che vanno dalla 1 alla 5 con step 2.  Trasforma la matrice A1 in una copia."
   ]
  },
  {
   "cell_type": "code",
   "execution_count": 80,
   "id": "6782b1a1-e875-4930-8fa6-48c98783b981",
   "metadata": {},
   "outputs": [
    {
     "name": "stdout",
     "output_type": "stream",
     "text": [
      "[[ -2.   0.   0.]\n",
      " [ 10.   0.   0.]\n",
      " [-12.  -2.   0.]\n",
      " [  0.  10.   0.]\n",
      " [  0. -12.  -2.]\n",
      " [  0.   0.  10.]\n",
      " [  0.   0. -12.]\n",
      " [  0.   0.   0.]\n",
      " [  0.   0.   0.]\n",
      " [  0.   0.   0.]\n",
      " [  0.   0.   0.]\n",
      " [  0.   0.   0.]\n",
      " [  0.   0.   0.]\n",
      " [  0.   0.   0.]\n",
      " [  0.   0.   0.]\n",
      " [  0.   0.   0.]\n",
      " [  0.   0.   0.]\n",
      " [  0.   0.   0.]\n",
      " [  0.   0.   0.]\n",
      " [  0.   0.   0.]]\n",
      "None\n"
     ]
    }
   ],
   "source": [
    "A1=A[:,1:7:2].copy()\n",
    "print(A1)\n",
    "print(A1.base) #La matrice è una copia"
   ]
  },
  {
   "cell_type": "markdown",
   "id": "f5a336bc-5cf9-4400-ae23-4be1f35521de",
   "metadata": {
    "tags": []
   },
   "source": [
    "**Esercizio 18**\n",
    "\n",
    "Costruisci due numpy array A e B di shape (5,5) \n",
    "   - A formata da numeri interi casuali  nell'intervallo [1,20]\n",
    "   - B formata da numeri interi casuali  nell'intervallo [1,6]\n",
    " \n",
    "  Costruisci con una sola riga di codice le seguenti matrici\n",
    "  \n",
    "  C=A+B   dove  $\\quad c_{ij}=a_{ij}+b_{ij} \\quad i=0,..,n, \\quad j=0,...,n$\n",
    "  \n",
    "  D=A-B   dove  $\\quad d_{ij}=a_{ij}-b_{ij} \\quad i=0,..,n, \\quad j=0,...,n$\n",
    "  \n",
    "  E=A*B   dove  $\\quad e_{ij}=a_{ij}*b_{ij} \\quad i=0,..,n, \\quad j=0,...,n$\n",
    "  \n",
    "  F=A/B   dove  $\\quad f_{ij}=a_{ij}/b_{ij} \\quad i=0,..,n, \\quad j=0,...,n$"
   ]
  },
  {
   "cell_type": "code",
   "execution_count": 81,
   "id": "c22fdc27-db6e-42ce-97a0-68896583ef7c",
   "metadata": {
    "tags": []
   },
   "outputs": [
    {
     "name": "stdout",
     "output_type": "stream",
     "text": [
      "A= [[18 15  4 13 15]\n",
      " [ 3  3 14 19 10]\n",
      " [ 9 10 14  6  6]\n",
      " [15  1 15  6  4]\n",
      " [ 3  3  6 12  8]]\n",
      "B= [[3 1 4 1 2]\n",
      " [2 2 2 3 4]\n",
      " [2 1 1 3 2]\n",
      " [2 5 1 5 5]\n",
      " [4 1 1 4 5]]\n",
      "C= [[21 16  8 14 17]\n",
      " [ 5  5 16 22 14]\n",
      " [11 11 15  9  8]\n",
      " [17  6 16 11  9]\n",
      " [ 7  4  7 16 13]]\n",
      "D= [[15 14  0 12 13]\n",
      " [ 1  1 12 16  6]\n",
      " [ 7  9 13  3  4]\n",
      " [13 -4 14  1 -1]\n",
      " [-1  2  5  8  3]]\n",
      "E= [[54 15 16 13 30]\n",
      " [ 6  6 28 57 40]\n",
      " [18 10 14 18 12]\n",
      " [30  5 15 30 20]\n",
      " [12  3  6 48 40]]\n",
      "F= [[ 6.         15.          1.         13.          7.5       ]\n",
      " [ 1.5         1.5         7.          6.33333333  2.5       ]\n",
      " [ 4.5        10.         14.          2.          3.        ]\n",
      " [ 7.5         0.2        15.          1.2         0.8       ]\n",
      " [ 0.75        3.          6.          3.          1.6       ]]\n"
     ]
    }
   ],
   "source": [
    "A=np.random.randint(1,20,25).reshape(5,5)\n",
    "B=np.random.randint(1,6,25).reshape(5,5)\n",
    "C=A+B\n",
    "D=A-B\n",
    "E=A*B\n",
    "F=A/B\n",
    "print(\"A=\",A)\n",
    "print(\"B=\",B)\n",
    "print(\"C=\",C)\n",
    "print(\"D=\",D)\n",
    "print(\"E=\",E)\n",
    "print(\"F=\",F)\n",
    "\n"
   ]
  },
  {
   "cell_type": "markdown",
   "id": "43fad425-0411-4471-962e-c79247aecb83",
   "metadata": {},
   "source": [
    "**Esercizio 19**\n",
    "\n",
    "Costruisci la matrice ottenuta facendo il prodotto scalare tra le  matrici A e B (righe per colonne)"
   ]
  },
  {
   "cell_type": "markdown",
   "id": "e6ae130a-1d6c-429b-ab62-718ff805d9bc",
   "metadata": {},
   "source": [
    "**Esercizio 20**\n",
    "\n",
    "Costruisci l'array ottenuto sommando gli elementi delle righe della matrice B usando l'appropriata funzione di Numpy."
   ]
  },
  {
   "cell_type": "code",
   "execution_count": 82,
   "id": "9d7916c4-4107-46b9-a569-8215cae9f5b4",
   "metadata": {
    "tags": []
   },
   "outputs": [
    {
     "name": "stdout",
     "output_type": "stream",
     "text": [
      "B= [[3 1 4 1 2]\n",
      " [2 2 2 3 4]\n",
      " [2 1 1 3 2]\n",
      " [2 5 1 5 5]\n",
      " [4 1 1 4 5]]\n",
      "somma righe  [13 10  9 16 18]\n"
     ]
    }
   ],
   "source": [
    "print(\"B=\",B)\n",
    "c=np.sum(B,axis=0)\n",
    "print(\"somma righe \",c)"
   ]
  },
  {
   "cell_type": "markdown",
   "id": "4cb04c63-c9c6-41a8-8e62-bc4497a4251b",
   "metadata": {},
   "source": [
    "**Esercizio 21** \n",
    "\n",
    "Costruisci l'array ottenuto sommando gli elementi delle colonne della matrice B usando l'appropriata funzione di Numpy."
   ]
  },
  {
   "cell_type": "code",
   "execution_count": 83,
   "id": "92d808f7-2eb5-4071-830b-c73aa0e6620d",
   "metadata": {
    "tags": []
   },
   "outputs": [
    {
     "name": "stdout",
     "output_type": "stream",
     "text": [
      "B= [[3 1 4 1 2]\n",
      " [2 2 2 3 4]\n",
      " [2 1 1 3 2]\n",
      " [2 5 1 5 5]\n",
      " [4 1 1 4 5]]\n",
      "[11 13  9 18 15]\n"
     ]
    }
   ],
   "source": [
    "print(\"B=\",B)\n",
    "c=np.sum(B,axis=1)\n",
    "print(c)"
   ]
  },
  {
   "cell_type": "markdown",
   "id": "5715d0db-b005-4256-86a0-4a94a46fdd96",
   "metadata": {},
   "source": [
    "**Esercizio 22** \n",
    "\n",
    "Somma tutti gli elementi di B usando l'appropriata funzione di Numpy."
   ]
  },
  {
   "cell_type": "code",
   "execution_count": 84,
   "id": "92299ab9-045b-44f3-b919-7c1d12f8dedc",
   "metadata": {
    "tags": []
   },
   "outputs": [
    {
     "name": "stdout",
     "output_type": "stream",
     "text": [
      "66\n"
     ]
    }
   ],
   "source": [
    "c=np.sum(B)\n",
    "print(c)"
   ]
  },
  {
   "cell_type": "markdown",
   "id": "337c76cc-d82b-4bbb-a57c-52080a6aa9cb",
   "metadata": {},
   "source": [
    "**Esercizio 23**\n",
    "\n",
    "Calcolare il minimo degli elementi di B, tra le righe, tra le colonne, il minimo di tutta la matrice B"
   ]
  },
  {
   "cell_type": "code",
   "execution_count": 85,
   "id": "05fded6c-207b-4ae0-bef7-4f52b6e95911",
   "metadata": {
    "tags": []
   },
   "outputs": [
    {
     "name": "stdout",
     "output_type": "stream",
     "text": [
      "[[3 1 4 1 2]\n",
      " [2 2 2 3 4]\n",
      " [2 1 1 3 2]\n",
      " [2 5 1 5 5]\n",
      " [4 1 1 4 5]]\n",
      "[2 1 1 1 2]\n"
     ]
    }
   ],
   "source": [
    "print(B)\n",
    "r=np.min(B,axis=0)\n",
    "print(r)"
   ]
  },
  {
   "cell_type": "markdown",
   "id": "30bc84d9-f2ff-42aa-95ee-b10d69e50762",
   "metadata": {},
   "source": [
    "**Esercizio 24**\n",
    "\n",
    "Calcola e memorizza in un vettore la somma degli elementi di ogni colonna di $ |B |$. Calcola successivamente il massimo di questo vettore.\n",
    "$maxsc= \\max_{j=1,n} \\sum_{i} |b_{ij}|$"
   ]
  },
  {
   "cell_type": "code",
   "execution_count": 86,
   "id": "7161e310-9bf7-451e-b772-459a88262777",
   "metadata": {
    "tags": []
   },
   "outputs": [
    {
     "name": "stdout",
     "output_type": "stream",
     "text": [
      "B= [[3 1 4 1 2]\n",
      " [2 2 2 3 4]\n",
      " [2 1 1 3 2]\n",
      " [2 5 1 5 5]\n",
      " [4 1 1 4 5]]\n",
      "somma degli elementi delle righe \n",
      " [13 10  9 16 18]\n",
      "massimo  18\n"
     ]
    }
   ],
   "source": [
    "print(\"B=\",B)\n",
    "c=np.sum(np.abs(B),axis=0)  #equivale a sommare gli elementi di tutte le righe\n",
    "cmaxc=np.max(c)\n",
    "print(\"somma degli elementi delle righe \\n\",c)\n",
    "print(\"massimo \",cmaxc)"
   ]
  },
  {
   "cell_type": "markdown",
   "id": "7763e180-a6f1-41d3-9af7-4fb92bacd72d",
   "metadata": {},
   "source": [
    "**Esercizio 25**\n",
    "Calcola, memorizzando in un vettore, la somma degli elementi di ogni riga  di $ |B |$. Calcola successivamente il massimo di questo vettore.\n",
    "$maxsr= \\max_{i=1,n} \\sum_{j} |b_{ij}|$"
   ]
  },
  {
   "cell_type": "code",
   "execution_count": 87,
   "id": "2880e42d-0efc-4ca5-bafd-aefd94005615",
   "metadata": {
    "tags": []
   },
   "outputs": [
    {
     "name": "stdout",
     "output_type": "stream",
     "text": [
      "B  [[3 1 4 1 2]\n",
      " [2 2 2 3 4]\n",
      " [2 1 1 3 2]\n",
      " [2 5 1 5 5]\n",
      " [4 1 1 4 5]]\n",
      "somma elementi colonne  [11 13  9 18 15]\n",
      "massimo  18\n"
     ]
    }
   ],
   "source": [
    "print(\"B \",B)\n",
    "c=np.sum(np.abs(B),axis=1)  #equivale a sommare gli elementi di tutte le colonne\n",
    "print(\"somma elementi colonne \",c)\n",
    "cmaxr=np.max(c)\n",
    "print(\"massimo \",cmaxr)"
   ]
  },
  {
   "cell_type": "markdown",
   "id": "89a136bb-2e23-4fca-9717-d32434f5f5ce",
   "metadata": {},
   "source": [
    "**Esercizio 26**\n",
    "\n",
    "Effettua nella matrice B lo scambio tra la  riga 2 e  la riga 3"
   ]
  },
  {
   "cell_type": "code",
   "execution_count": 88,
   "id": "9c2f2fa6-f603-428e-be27-b717c3a923aa",
   "metadata": {
    "tags": []
   },
   "outputs": [
    {
     "name": "stdout",
     "output_type": "stream",
     "text": [
      "B [[3 1 4 1 2]\n",
      " [2 2 2 3 4]\n",
      " [2 1 1 3 2]\n",
      " [2 5 1 5 5]\n",
      " [4 1 1 4 5]]\n",
      "B [[3 1 4 1 2]\n",
      " [2 2 2 3 4]\n",
      " [2 5 1 5 5]\n",
      " [2 1 1 3 2]\n",
      " [4 1 1 4 5]]\n"
     ]
    }
   ],
   "source": [
    "print(\"B\",B)\n",
    "B[[2,3],:] = B[[3,2],:]\n",
    "print(\"B\",B)"
   ]
  },
  {
   "cell_type": "markdown",
   "id": "5a00eaef-f14c-49f9-b9d1-c8ad90627935",
   "metadata": {},
   "source": [
    "**Esercizio 27**\n",
    "\n",
    "Calcola il valore massimo della colonna 0-esima della matrice B e l'indice di riga a cui appartiene"
   ]
  },
  {
   "cell_type": "code",
   "execution_count": 89,
   "id": "963f2851-7ee3-4015-ae86-96b80c122621",
   "metadata": {
    "tags": []
   },
   "outputs": [
    {
     "name": "stdout",
     "output_type": "stream",
     "text": [
      "[[3 1 4 1 2]\n",
      " [2 2 2 3 4]\n",
      " [2 5 1 5 5]\n",
      " [2 1 1 3 2]\n",
      " [4 1 1 4 5]]\n",
      "elemento di valore massimo nella colonna 0-esima pari a  4   riga di appartenenza  4\n"
     ]
    }
   ],
   "source": [
    "print(B)\n",
    "vmc=np.max(B[:,0])\n",
    "rigamin=np.argmax(B[:,0])\n",
    "print('elemento di valore massimo nella colonna 0-esima pari a ',vmc,'  riga di appartenenza ', rigamin)"
   ]
  },
  {
   "cell_type": "markdown",
   "id": "12be327e-41a9-4700-82b2-f78709585ce3",
   "metadata": {},
   "source": [
    "**Esercizio 28**   \n",
    "\n",
    "\n",
    "Scrivi una funzione border(m,n,visualizza=False) che:\n",
    "-      crea un array 2D di shape(m,n) che abbia tutti valori nulli\n",
    "-     imposta ad 1  i valori degli elementi sul bordo dell'array (prima ed ultima riga, prima e l'ultima colonna)\n",
    "-      Preveda un argomento di default che se impostato a True visualizza la matrice"
   ]
  },
  {
   "cell_type": "code",
   "execution_count": 90,
   "id": "8520d852-edf3-4957-96f1-7f308ce86f60",
   "metadata": {
    "tags": []
   },
   "outputs": [],
   "source": [
    "def border(m,n,stampa=True):\n",
    "    A=np.zeros((m,n));\n",
    "    A[[0,m-1],:]=1\n",
    "    A[:,[0,n-1]]=1\n",
    "    if stampa:\n",
    "        print(A)\n",
    "    return A"
   ]
  },
  {
   "cell_type": "code",
   "execution_count": 91,
   "id": "04d2cb85-4dbf-48ef-bcfd-1511bb95ab40",
   "metadata": {
    "tags": []
   },
   "outputs": [
    {
     "name": "stdout",
     "output_type": "stream",
     "text": [
      "[[1. 1. 1. 1. 1. 1. 1.]\n",
      " [1. 0. 0. 0. 0. 0. 1.]\n",
      " [1. 0. 0. 0. 0. 0. 1.]\n",
      " [1. 1. 1. 1. 1. 1. 1.]]\n"
     ]
    }
   ],
   "source": [
    "S=border(4,7,stampa=True)"
   ]
  },
  {
   "cell_type": "markdown",
   "id": "20e88028-91cf-4f99-90b9-5d2f8148b3a9",
   "metadata": {},
   "source": [
    "**Esercizio 29**\n",
    "\n",
    "Scrivi una funzione `visualizza(f,a,b)`che prende in input una lambda function f, gli estremi dell'intervallo [a,b] su cui è definita e la visualizzi in una finestra grafica\n",
    "\n",
    "Chiama la funzione passandogli la funzione f(x)=sin(2*$\\pi$*x), [a,b]=[0,2*$\\pi$]"
   ]
  },
  {
   "cell_type": "code",
   "execution_count": 92,
   "id": "8acb990f-8a4e-4d68-99a3-37cb891bc735",
   "metadata": {
    "tags": []
   },
   "outputs": [],
   "source": [
    "def visualizza(f,a,b):\n",
    "    x=np.linspace(a,b,100)\n",
    "    funz=f(x)\n",
    "    plt.plot(x,funz,'r')"
   ]
  },
  {
   "cell_type": "code",
   "execution_count": 93,
   "id": "384f0a9b-8b5c-4a81-bdcb-6b9f5ee22082",
   "metadata": {
    "tags": []
   },
   "outputs": [
    {
     "data": {
      "image/png": "[encoded data removed]",
      "text/plain": [
       "<Figure size 432x288 with 1 Axes>"
      ]
     },
     "metadata": {
      "needs_background": "light"
     },
     "output_type": "display_data"
    }
   ],
   "source": [
    "import matplotlib.pyplot as plt\n",
    "f= lambda x: np.sin(x)+np.cos(12*x)\n",
    "visualizza(f,0,2*np.pi)"
   ]
  },
  {
   "cell_type": "markdown",
   "id": "c4e0b8d0-b590-4554-9954-7333715b3c63",
   "metadata": {},
   "source": [
    "**Esercizio 30**\n",
    "\n",
    "Scrivi una funzione `visualizza2(f,a,b,f2,a2,b2)`che prende in input una lambda function f e gli estremi dell'intervallo [a,b]  su cui è definita, una lambda function f2 e gli estremi dell'intervallo su cui è definita [a2,b2] e le visualizzi sulla stessa finestra grafica.\n",
    "\n",
    "Chaima la funzione passandogli  una funzione f(x) quadratica ed una funzione f2(x) exponenziale ed [a,b]=[0,2]"
   ]
  },
  {
   "cell_type": "code",
   "execution_count": 94,
   "id": "a75c13c6-6d7b-4e63-ac48-87a0081886a4",
   "metadata": {
    "tags": []
   },
   "outputs": [],
   "source": [
    "def visualizza2(f1,a,b,f2,a2,b2):\n",
    "    x=np.linspace(a,b,100)\n",
    "    funz=f1(x)\n",
    "    x2=np.linspace(a2,b2,100)\n",
    "    funz2=f2(x2)\n",
    "    plt.grid(True)\n",
    "    plt.plot(x,funz,'r:',x2,funz2,'g--')\n",
    "    plt.legend(['Funzione 1','Funzione 2'])\n",
    "    plt.show()"
   ]
  },
  {
   "cell_type": "code",
   "execution_count": 95,
   "id": "e67b133d-b095-44ad-a8c5-bcda330bacca",
   "metadata": {},
   "outputs": [
    {
     "data": {
      "image/png": "[encoded data removed]",
      "text/plain": [
       "<Figure size 432x288 with 1 Axes>"
      ]
     },
     "metadata": {
      "needs_background": "light"
     },
     "output_type": "display_data"
    }
   ],
   "source": [
    "f= lambda x: 2*x+3*x**2+4\n",
    "f2= lambda x: np.exp(2*x)\n",
    "\n",
    "visualizza2(f,0.0,2.0,f2,0.0,2.0)\n"
   ]
  },
  {
   "cell_type": "code",
   "execution_count": null,
   "id": "29d5cc48-8ce7-4bfa-a222-b11e0426e522",
   "metadata": {},
   "outputs": [],
   "source": []
  },
  {
   "cell_type": "code",
   "execution_count": null,
   "id": "1dc1b74e-c568-4000-b9ab-000c77b089f4",
   "metadata": {},
   "outputs": [],
   "source": []
  }
 ],
 "metadata": {
  "kernelspec": {
   "display_name": "Python 3 (ipykernel)",
   "language": "python",
   "name": "python3"
  },
  "language_info": {
   "codemirror_mode": {
    "name": "ipython",
    "version": 3
   },
   "file_extension": ".py",
   "mimetype": "text/x-python",
   "name": "python",
   "nbconvert_exporter": "python",
   "pygments_lexer": "ipython3",
   "version": "3.9.12"
  }
 },
 "nbformat": 4,
 "nbformat_minor": 5
}
