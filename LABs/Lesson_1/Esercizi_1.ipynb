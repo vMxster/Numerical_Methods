{
 "cells": [
  {
   "cell_type": "markdown",
   "metadata": {},
   "source": [
    "# Esercizio n. 1\n",
    "Scrivere un programma che, data una lista (ad esempio, a = [1, 1, 2, 3, 5, 8, 13, 21, 34, 55, 89]) stampa tutti gli elementi della lista che sono minori di 5.\n",
    "\n",
    "Extra:\n",
    "* Invece di stampare gli elementi uno per uno, creare un nuovo elenco che contenga tutti gli elementi inferiori a 5 dall'elenco di input e stampare questo nuovo elenco.\n"
   ]
  },
  {
   "cell_type": "code",
   "execution_count": 1,
   "metadata": {
    "tags": []
   },
   "outputs": [
    {
     "name": "stdout",
     "output_type": "stream",
     "text": [
      "Elemento lista < 5 1\n",
      "Elemento lista < 5 1\n",
      "Elemento lista < 5 2\n",
      "Elemento lista < 5 3\n",
      "[1, 1, 2, 3]\n",
      "[1, 1, 2, 3]\n"
     ]
    }
   ],
   "source": [
    "a = [1, 1, 2, 3, 5, 8, 13, 21, 34, 55, 89]\n",
    "# soluzione no. 1: print dei valori dentro il ciclo for\n",
    "for aa in a:\n",
    "    if aa < 5 :\n",
    "        print(\"Elemento lista < 5\",aa)\n",
    "# soluzione no. 2 (extras): creazione di una nuova lista con i valori che soddisfano la condizione e print fuori dal for\n",
    "b = []\n",
    "for aa in a:\n",
    "    if aa < 5:\n",
    "        b.append(aa)\n",
    "print(b)\n",
    "# soluzione no. 3 (extras): uguale a soluzione no. 2 ma con list comprehension\n",
    "b = [aa for aa in a if aa < 5]\n",
    "print(b)"
   ]
  },
  {
   "cell_type": "markdown",
   "metadata": {},
   "source": [
    "# Esercizio n. 2\n",
    "Scrivere un programma che, date due liste, restituisca una lista che contiene solo gli elementi che sono comuni tra le prime due liste (senza duplicati), ad esempio, usando a = [1, 1, 2, 3, 5, 8, 13, 21, 34, 55, 89], b = [1, 2, 3, 4, 5, 6, 7, 8, 9, 10, 11, 12, 13].\n",
    "\n",
    "Assicurati che il tuo programma funzioni su due elenchi di dimensioni diverse.\n",
    "\n",
    "Extra:\n",
    "* Scrivere lo stesso programma per restituire un elenco con elementi concatenati tra gli elenchi di input (con ripetizioni)."
   ]
  },
  {
   "cell_type": "code",
   "execution_count": 2,
   "metadata": {
    "tags": []
   },
   "outputs": [
    {
     "name": "stdout",
     "output_type": "stream",
     "text": [
      "prima soluzione  [1, 2, 3, 5, 8, 13]\n",
      "prima soluzione usando set [1, 2, 3, 5, 8, 13]\n",
      "seconda soluzione [1, 2, 3, 5, 8, 13]\n"
     ]
    }
   ],
   "source": [
    "# soluzione no. 1: elementi in comune tra le due liste\n",
    "a = [1, 1, 2, 3, 5, 8, 13, 21, 34, 55, 89]\n",
    "b = [1, 2, 3, 4, 5, 6, 7, 8, 9, 10, 11, 12, 13]\n",
    "c = []\n",
    "for aa in a: \n",
    "    if aa in b and aa not in c:\n",
    "        c.append(aa)\n",
    "print(\"prima soluzione \",c)\n",
    "\n",
    "c = []\n",
    "for aa in a: \n",
    "    if aa in b :\n",
    "        c.append(aa)\n",
    "print(\"prima soluzione usando set\",list(set(c)))\n",
    "      \n",
    "# soluzione no. 2: uguale a soluzione no. 1 ma con list comprehension\n",
    "c = [aa for aa in a if aa in b]\n",
    "print(\"seconda soluzione\",list(set(c)))"
   ]
  },
  {
   "cell_type": "markdown",
   "metadata": {},
   "source": [
    "# Esercizio n. 3\n",
    "Sfruttando la list comprehension, scrivi una riga di codice Python che prende un elenco (ad esempio, a = [1, 4, 9, 16, 25, 36, 49, 64, 81, 100]) e crea un nuovo elenco che ha solo gli elementi pari di questo elenco "
   ]
  },
  {
   "cell_type": "code",
   "execution_count": 3,
   "metadata": {
    "tags": []
   },
   "outputs": [
    {
     "name": "stdout",
     "output_type": "stream",
     "text": [
      "[4, 16, 36, 64, 100]\n"
     ]
    }
   ],
   "source": [
    "a = [1, 4, 9, 16, 25, 36, 49, 64, 81, 100]\n",
    "b = [aa for aa in a if aa%2==0]\n",
    "print(b)"
   ]
  },
  {
   "cell_type": "markdown",
   "metadata": {},
   "source": [
    "# Esercizio n. 4\n",
    "Scrivete un programma per stampare il seguente modello usando i cicli for.\n",
    "\n",
    "```\n",
    "* \n",
    "* * \n",
    "* * * \n",
    "* * * * \n",
    "* * * * * \n",
    "* * * * \n",
    "* * * \n",
    "* * \n",
    "*\n",
    "```"
   ]
  },
  {
   "cell_type": "code",
   "execution_count": 4,
   "metadata": {
    "tags": []
   },
   "outputs": [
    {
     "name": "stdout",
     "output_type": "stream",
     "text": [
      "* \n",
      "* * \n",
      "* * * \n",
      "* * * * \n",
      "* * * * * \n",
      "* * * * \n",
      "* * * \n",
      "* * \n",
      "* \n",
      "\n"
     ]
    }
   ],
   "source": [
    "ncols = 5\n",
    "for i in range(ncols):\n",
    "    print(\"* \"*(i+1))\n",
    "for i in range(ncols-1,-1,-1):\n",
    "    print(\"* \"*(i))"
   ]
  },
  {
   "cell_type": "markdown",
   "metadata": {},
   "source": [
    "# Esercizio n. 5\n",
    "Scrivere un programma per controllare se tutti i caratteri di s1 sono contenuti in s2. La posizione del carattere non ha importanza.\n",
    "\n",
    "Ad esempio con s1='by' e s2='blueberry' dovrebbe restituire true. Al contrario, con s1='byZ' e s2='blueberry' dovrebbe restituire false.\n"
   ]
  },
  {
   "cell_type": "code",
   "execution_count": 5,
   "metadata": {
    "tags": []
   },
   "outputs": [
    {
     "name": "stdout",
     "output_type": "stream",
     "text": [
      "output: False (3/4 chars of s1 in s2)\n"
     ]
    }
   ],
   "source": [
    "s1 = 'by' #'byZ',\n",
    "s2 = 'blueberry'\n",
    "\n",
    "nchars = 0\n",
    "for ss1 in s1:\n",
    "    if ss1 in s2:\n",
    "        nchars += 1\n",
    "out = nchars==len(s1)\n",
    "print(\"output: {0} ({1}/{2} chars of s1 in s2)\".format(out, nchars, len(s1)))"
   ]
  },
  {
   "cell_type": "markdown",
   "metadata": {},
   "source": [
    "# Esercizio n. 6\n",
    "Crea una funzione che accetta due numeri interi come parametri di input e se il loro prodotto è minore di 1000 restituisce il prodotto, altrimenti restituisce la somma dei numeri di input.\n",
    "\n",
    "Extra:\n",
    "* Scrivere lo stesso programma utilizzando il parametro soglia (1000) come parametro opzionale di input. Ciò significa che questo parametro deve essere definito al suo valore predefinito nella funzione. Testare la funzione modificando la soglia quando la si chiama."
   ]
  },
  {
   "cell_type": "code",
   "execution_count": 6,
   "metadata": {
    "tags": []
   },
   "outputs": [],
   "source": [
    "def thresh(a,b,soglia=100):\n",
    "    if a*b<soglia:\n",
    "       return a*b\n",
    "    else:\n",
    "        return a+b"
   ]
  },
  {
   "cell_type": "code",
   "execution_count": 7,
   "metadata": {
    "tags": []
   },
   "outputs": [
    {
     "name": "stdout",
     "output_type": "stream",
     "text": [
      "a  1 b  200 soglia  10 c= 201\n"
     ]
    }
   ],
   "source": [
    "a=1\n",
    "b=200\n",
    "soglia=10\n",
    "c=thresh(a,b,soglia)\n",
    "print(\"a \",a,\"b \",b,\"soglia \",soglia, \"c=\",c)"
   ]
  },
  {
   "cell_type": "markdown",
   "metadata": {},
   "source": [
    "# Esercizio n. 7\n",
    "Scrivi una funzione Python che:\n",
    "* restituisce la somma e il prodotto degli elementi contenuti in una lista\n",
    "* restituisce la somma o il prodotto degli elementi della lista a seconda di un parametro di input aggiuntivo specificato dall'utente.\n"
   ]
  },
  {
   "cell_type": "code",
   "execution_count": 8,
   "metadata": {
    "tags": []
   },
   "outputs": [
    {
     "name": "stdout",
     "output_type": "stream",
     "text": [
      "sum: 10; prod: 24\n",
      "sum: 10\n"
     ]
    }
   ],
   "source": [
    "def sum_and_product_lst(a):\n",
    "    \"\"\"\n",
    "    This function returns the sum and the product of the elements contained in a list. Outputs are provided in a tuple (sum, prod).\n",
    "    \"\"\"\n",
    "    out0 = 0\n",
    "    out1 = 1\n",
    "    for aa in a:\n",
    "        out0+=aa\n",
    "        out1*=aa\n",
    "    return (out0, out1)\n",
    "\n",
    "def sum_or_product_lst(a, out_type='sum'):\n",
    "    \"\"\"\n",
    "    This function returns the sum or the product of the elements contained in a list, depending on the input parameter 'out_type'.\n",
    "    \"\"\"\n",
    "    out0 = 0\n",
    "    out1 = 1\n",
    "    for aa in a:\n",
    "        out0+=aa\n",
    "        out1*=aa\n",
    "    if out_type=='sum':\n",
    "        return out0\n",
    "    elif out_type=='prod':\n",
    "        return out1\n",
    "    else:\n",
    "        print('unknown \"out_type\" parameter specified')\n",
    "\n",
    "\n",
    "#print(help(sum_and_product_lst))\n",
    "s, p = sum_and_product_lst(a=[1,2,3,4])\n",
    "print('sum: {0}; prod: {1}'.format(s, p))\n",
    "\n",
    "out_type = 'sum'\n",
    "out = sum_or_product_lst(a=[1,2,3,4], out_type=out_type)\n",
    "print('{0}: {1}'.format(out_type, out))"
   ]
  },
  {
   "cell_type": "markdown",
   "metadata": {
    "ExecuteTime": {
     "end_time": "2023-02-21T00:10:18.015779Z",
     "start_time": "2023-02-21T00:10:17.978520Z"
    }
   },
   "source": [
    "# Esercizio n. 8\n",
    "Dato una lista di numeri interi, ad esempio x = [0,1,2,3,4,5,6,7,8,9,], eleva al quadrato tutti i suoi valori in una nuova lista  y. Usa la list comprehension per farlo.\n",
    "\n",
    "* Traccia y su x usando la libreria matplotlib. Aggiungi anche un indicatore per ogni punto (ad esempio, un indicatore quadrato).\n",
    "\n",
    "* Prova a modificare alcuni parametri della trama come:\n",
    "     * colore\n",
    "     * etichetta x, etichetta y\n",
    "     * grid(axis='y')# \n",
    "     * titolo\n",
    "     * larghezza della linea\n",
    "\n",
    "* Tracciare una seconda curva (ad esempio, una relazione cubica o lineare semplice su x) sulla curva precedente.\n",
    "* Invece di tracciare le due curve in un unico grafico, riportarle su due subplot distinti organizzate per colonne (ad esempio, subplot(1,2,1) e subplot(1,2,2))."
   ]
  },
  {
   "cell_type": "code",
   "execution_count": 9,
   "metadata": {
    "tags": []
   },
   "outputs": [
    {
     "data": {
      "image/png": "[encoded data removed]",
      "text/plain": [
       "<Figure size 432x288 with 1 Axes>"
      ]
     },
     "metadata": {
      "needs_background": "light"
     },
     "output_type": "display_data"
    },
    {
     "data": {
      "image/png": "[encoded data removed]",
      "text/plain": [
       "<Figure size 432x288 with 1 Axes>"
      ]
     },
     "metadata": {
      "needs_background": "light"
     },
     "output_type": "display_data"
    },
    {
     "data": {
      "image/png": "[encoded data removed]",
      "text/plain": [
       "<Figure size 432x288 with 2 Axes>"
      ]
     },
     "metadata": {
      "needs_background": "light"
     },
     "output_type": "display_data"
    }
   ],
   "source": [
    "import matplotlib.pyplot as plt\n",
    "\n",
    "x = [0,1,2,3,4,5,6,7,8,9,]\n",
    "y0 = [xx**2 for xx in x]\n",
    "\n",
    "plt.figure()\n",
    "plt.plot(x, y0, 'k', linewidth=0.5)\n",
    "plt.plot(x, y0, 'rs', ms=5)\n",
    "plt.xlabel('x')\n",
    "plt.ylabel('y')\n",
    "plt.grid(axis='both')\n",
    "plt.title('matplotlib example 1')\n",
    "plt.show()\n",
    "\n",
    "y1 = [xx*5 for xx in x]\n",
    "plt.figure()\n",
    "plt.plot(x, y0, 'k', linewidth=0.5)\n",
    "plt.plot(x, y1, 'b', linewidth=0.5)\n",
    "plt.legend(['y=x**2', 'y=5*x'])\n",
    "plt.plot(x, y0, 'rs', ms=5)\n",
    "plt.plot(x, y1, 'rs', ms=5)\n",
    "plt.grid(axis='y')\n",
    "plt.xlabel('x')\n",
    "plt.ylabel('y')\n",
    "plt.title('matplotlib example 2')\n",
    "plt.show()\n",
    "\n",
    "plt.figure()\n",
    "plt.subplot(1,2,1)\n",
    "plt.plot(x, y0, 'k', linewidth=0.5)\n",
    "plt.plot(x, y0, 'rs', ms=5)\n",
    "plt.xlabel('x')\n",
    "plt.ylabel('y')\n",
    "plt.title('subplot 1')\n",
    "plt.subplot(1,2,2)\n",
    "plt.plot(x, y1, 'b', linewidth=0.5)\n",
    "plt.plot(x, y1, 'rs', ms=5)\n",
    "plt.xlabel('x')\n",
    "plt.ylabel('y')\n",
    "plt.title('subplot 2')\n",
    "plt.suptitle('matplotlib example 3')\n",
    "plt.show()"
   ]
  }
 ],
 "metadata": {
  "kernelspec": {
   "display_name": "Python 3 (ipykernel)",
   "language": "python",
   "name": "python3"
  },
  "language_info": {
   "codemirror_mode": {
    "name": "ipython",
    "version": 3
   },
   "file_extension": ".py",
   "mimetype": "text/x-python",
   "name": "python",
   "nbconvert_exporter": "python",
   "pygments_lexer": "ipython3",
   "version": "3.9.12"
  },
  "varInspector": {
   "cols": {
    "lenName": 16,
    "lenType": 16,
    "lenVar": 40
   },
   "kernels_config": {
    "python": {
     "delete_cmd_postfix": "",
     "delete_cmd_prefix": "del ",
     "library": "var_list.py",
     "varRefreshCmd": "print(var_dic_list())"
    },
    "r": {
     "delete_cmd_postfix": ") ",
     "delete_cmd_prefix": "rm(",
     "library": "var_list.r",
     "varRefreshCmd": "cat(var_dic_list()) "
    }
   },
   "types_to_exclude": [
    "module",
    "function",
    "builtin_function_or_method",
    "instance",
    "_Feature"
   ],
   "window_display": false
  }
 },
 "nbformat": 4,
 "nbformat_minor": 4
}
