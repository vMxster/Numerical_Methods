{
 "cells": [
  {
   "cell_type": "markdown",
   "id": "bf169812-94dc-4b34-83ff-c84a3e29571a",
   "metadata": {},
   "source": [
    "## Esercitazione 6 - 26 Marzo 2024"
   ]
  },
  {
   "cell_type": "markdown",
   "id": "6776a84b-7a0a-4001-bb1c-2316249e1bb4",
   "metadata": {},
   "source": [
    "Scrivere le funzioni python `bisezione.py`, `falsi.py`, `corde.py`, `secanti.py`,`newton.py` che implementino rispettivamente il metodo di bisezione, di falsa posizione, delle corde, delle secanti e di Newton.\n",
    "\n",
    "Le funzioni `bisezione.py`, `falsi.py` devono assumere come input:\n",
    "\n",
    "-  gli estremi dell'intervallo [a,b], dominio di f.\n",
    "-  il nome `fname` della funzione di cui calcolare lo zero\n",
    "-  tol: tolleranza per il test di arresto.\n",
    "    Nel caso del metodo di bisezione e di falsa posizione si considera per il test di arresto l’ampiezza del sottointervallo confrontata con tolx.\n",
    "-  nmax= numero massimo di iterazioni\n",
    "    \n",
    "In output:\n",
    "-      lo zero della funzione\n",
    "-      il numero di iterazioni effettuate\n",
    "-      una lista contenente tutti gli iterati xk\n",
    "\n",
    "La funzione `corde.py` deve assumere come input:\n",
    "\n",
    "-  l'iterato iniziale x_0.\n",
    "-  il coefficiente angolare comune a tutte le rette\n",
    "-  il nome `fname` della funzione di cui calcolare lo zero\n",
    "-  tolx: tolleranza per il test di arresto sull'incremento:          \n",
    "               |x_k+1-x_k|/|x_k+1|<= tolx\n",
    "-  tolf: tolleranza per il test di arresto sulla funzione\n",
    "        \n",
    "                |abs(f(x_k+1)|<= tolf\n",
    "-  nmax= numero massimo di iterazioni\n",
    "    \n",
    "In output:\n",
    "-      lo zero della funzione\n",
    "-      il numero di iterazioni effettuate\n",
    "-      una lista contenente tutti gli iterati xk\n",
    "La funzione `newton.py` deve assumere come input:\n",
    "\n",
    "-  l'iterato iniziale x_0.\n",
    "-  il nome `fname` della funzione di cui calcolare lo zero\n",
    "-  il nome `fpname` della derivata prima della funzione di cui calcolare lo zero\n",
    "-  tolx: tolleranza per il test di arresto sull'incremento:          \n",
    "               |x_k+1-x_k|/|x_k+1|<= tols\n",
    "-  tolf: tolleranza per il test di arresto sulla funzione\n",
    "        \n",
    "                |abs(f(x_k+1)|<= tolf\n",
    "-  nmax= numero massimo di iterazioni\n",
    "    \n",
    "In output:\n",
    "-      lo zero della funzione\n",
    "-      il numero di iterazioni effettuate\n",
    "-      una lista contenente tutti gli iterati xk\n",
    "\n",
    "La funzione `secanti.py` deve assumere come input:\n",
    "\n",
    "-  due iterati iniziali x_1, x_0.\n",
    "-  il nome `fname` della funzione di cui calcolare lo zero\n",
    "-  tolx: tolleranza per il test di arresto sull'incremento:         \n",
    "               |x_k+1-x_k|/|x_k+1|<= tolx\n",
    "-  tolf: tolleranza per il test di arresto sulla funzione\n",
    "        \n",
    "                |abs(f(x_k+1)|<= tolf\n",
    "-  nmax= numero massimo di iterazioni\n",
    "    \n",
    "In output:\n",
    "-      lo zero della funzione\n",
    "-      il numero di iterazioni effettuate\n",
    "-      una lista contenente tutti gli iterati xk"
   ]
  },
  {
   "cell_type": "code",
   "execution_count": 1,
   "id": "f6c8cf9a-1306-4a0e-ad8d-8cbb59caf6c5",
   "metadata": {
    "tags": []
   },
   "outputs": [],
   "source": [
    "import math\n",
    "import sympy as sym\n"
   ]
  },
  {
   "cell_type": "code",
   "execution_count": 2,
   "id": "50986ef9-6527-49fc-8dee-7b8d9d4c05b2",
   "metadata": {
    "tags": []
   },
   "outputs": [],
   "source": [
    "def sign(x):\n",
    "  \"\"\"\n",
    "  Funzione segno che restituisce 1 se x è positivo, 0 se x è zero e -1 se x è negativo.\n",
    "  \"\"\"\n",
    "  return math.copysign(1, x)"
   ]
  },
  {
   "cell_type": "code",
   "execution_count": 3,
   "id": "efc19ce4-f606-47f2-9028-0c722385b1f1",
   "metadata": {
    "tags": []
   },
   "outputs": [],
   "source": [
    "def metodo_bisezione(fname, a, b, tolx):\n",
    " \"\"\"\n",
    " Implementa il metodo di bisezione per il calcolo degli zeri di un'equazione non lineare.\n",
    "\n",
    " Parametri:\n",
    "  f: La funzione da cui si vuole calcolare lo zero.\n",
    "  a: L'estremo sinistro dell'intervallo di ricerca.\n",
    "  b: L'estremo destro dell'intervallo di ricerca.\n",
    "  tol: La tolleranza di errore.\n",
    "\n",
    " Restituisce:\n",
    "  Lo zero approssimato della funzione, il numero di iterazioni e la lista di valori intermedi.\n",
    " \"\"\"\n",
    " fa=fname(a)\n",
    " fb=fname(b)\n",
    " if sign(fa)*sign(fb)>=0:\n",
    "     print(\"Non è possibile applicare il metodo di bisezione \\n\")\n",
    "     return None, None,None\n",
    "\n",
    " it = 0\n",
    " v_xk = []\n",
    "\n",
    " \n",
    " maxit = math.ceil(math.log2((b - a) / tolx))-1\n",
    "\n",
    " \n",
    " while abs(b - a) > tolx:\n",
    "    xk = a+(b-a)/2\n",
    "    v_xk.append(xk)\n",
    "    it += 1\n",
    "    fxk=fname(xk)\n",
    "    if fxk==0:\n",
    "      return xk, it, v_xk\n",
    "\n",
    "    if sign(fa)*sign(fxk)>0:  #continua su [xk,b]\n",
    "      a = xk\n",
    "      fa=fxk\n",
    "    elif sign(fxk)*sign(fb)>0:   #continua su [a,xk]\n",
    "      b = xk\n",
    "      fb=fxk\n",
    "\n",
    " \n",
    " return xk, it, v_xk\n",
    "\n",
    "\n"
   ]
  },
  {
   "cell_type": "code",
   "execution_count": 4,
   "id": "927f9270-ae77-47e4-8dcd-7779fbbd9a16",
   "metadata": {
    "tags": []
   },
   "outputs": [],
   "source": [
    "def falsi(fname, a, b, maxit, tolx,tolf):\n",
    " \"\"\"\n",
    " Implementa il metodo di falsa posizione per il calcolo degli zeri di un'equazione non lineare.\n",
    "\n",
    " Parametri:\n",
    "  f: La funzione da cui si vuole calcolare lo zero.\n",
    "  a: L'estremo sinistro dell'intervallo di ricerca.\n",
    "  b: L'estremo destro dell'intervallo di ricerca.\n",
    "  tol: La tolleranza di errore.\n",
    "\n",
    " Restituisce:\n",
    "  Lo zero approssimato della funzione, il numero di iterazioni e la lista di valori intermedi.\n",
    " \"\"\"\n",
    " fa=fname(a);\n",
    " fb=fname(b);\n",
    " if sign(fa)*sign(fb)>=0:\n",
    "     print(\"Non è possibile applicare il metodo di falsa posizione \\n\")\n",
    "     return None, None,None\n",
    "\n",
    " it = 0\n",
    " v_xk = []\n",
    " \n",
    " fxk=10\n",
    "\n",
    " \n",
    " while it < maxit and abs(b - a) > tolx and abs(fxk) > tolf:\n",
    "    xk = a-fa*(b-a)/(fb-fa)\n",
    "    v_xk.append(xk)\n",
    "    it += 1\n",
    "    fxk=fname(xk)\n",
    "    if fxk==0:\n",
    "      return xk, it, v_xk\n",
    "\n",
    "    if sign(fa)*sign(fxk)>0:  #continua su [xk,b]\n",
    "      a = xk\n",
    "      fa=fxk\n",
    "    elif sign(fxk)*sign(fb)>0:   #continua su [a,xk]\n",
    "      b = xk\n",
    "      fb=fxk\n",
    "\n",
    " \n",
    " return xk, it, v_xk\n"
   ]
  },
  {
   "cell_type": "code",
   "execution_count": 5,
   "id": "5ab18efd-e99f-41ea-a4b6-6120336824db",
   "metadata": {
    "tags": []
   },
   "outputs": [],
   "source": [
    "def corde(fname,m,x0,tolx,tolf,nmax):\n",
    "    \n",
    "     # m è il coefficiente angolare della retta che rimane fisso per tutte le iterazioni\n",
    "        xk=[]\n",
    "        fx0=fname(x0)\n",
    "        d=fx0/m\n",
    "        x1=x0-d\n",
    "        fx1=fname(x1)\n",
    "        xk.append(x1)\n",
    "        it=1\n",
    "        \n",
    "        while it<nmax and  abs(fx1)>=tolf and abs(d)>=tolx*abs(x1) :\n",
    "           x0=x1\n",
    "           fx0=fname(x0)\n",
    "           d=fx0/m\n",
    "           '''\n",
    "           #x1= ascissa del punto di intersezione tra  la retta che passa per il punto\n",
    "           (xi,f(xi)) e ha pendenza uguale a m  e l'asse x\n",
    "           '''\n",
    "           x1=x0-d  \n",
    "           fx1=fname(x1)\n",
    "           it=it+1\n",
    "         \n",
    "           xk.append(x1)\n",
    "          \n",
    "        if it==nmax:\n",
    "            print('raggiunto massimo numero di iterazioni \\n')\n",
    "            \n",
    "        \n",
    "        return x1,it,xk"
   ]
  },
  {
   "cell_type": "code",
   "execution_count": 122,
   "id": "d7f4464e-0a95-4487-9ef8-a5f8742f7482",
   "metadata": {
    "tags": []
   },
   "outputs": [],
   "source": [
    "def newton(fname,fpname,x0,tolx,tolf,nmax):\n",
    "  \n",
    "        xk=[]\n",
    "        fx0=fname(x0)\n",
    "        if abs(fpname(x0))<=np.spacing(1): #Se la derivata prima e' pià piccola della precisione di macchina stop\n",
    "            print(\" derivata prima nulla in x0\")\n",
    "            return None, None,None\n",
    "        \n",
    "        d=fx0/fpname(x0)\n",
    "        x1=x0-d\n",
    "        \n",
    "        fx1=fname(x1)\n",
    "        xk.append(x1)\n",
    "        it=1\n",
    "        \n",
    "        while it<nmax and  abs(fx1)>=tolf and abs(d)>=tolx*abs(x1) :\n",
    "           x0=x1\n",
    "           fx0=fname(x0)\n",
    "           if abs(fpname(x0))<=np.spacing(1): #Se la derivata prima e' pià piccola della precisione di macchina stop\n",
    "                print(\" derivata prima nulla in x0\")\n",
    "                return None, None,None\n",
    "           d=fx0/fpname(x0)\n",
    "           '''\n",
    "           #x1= ascissa del punto di intersezione tra  la retta che passa per il punto\n",
    "           (xi,f(xi)) ed è tangente alla funzione f(x) nel punto (xi.f(xi))  e l'asse x\n",
    "           '''\n",
    "           x1=x0-d  \n",
    "           fx1=fname(x1)\n",
    "           it=it+1\n",
    "         \n",
    "           xk.append(x1)\n",
    "          \n",
    "        if it==nmax:\n",
    "            print('raggiunto massimo numero di iterazioni \\n')\n",
    "            \n",
    "        \n",
    "        return x1,it,xk"
   ]
  },
  {
   "cell_type": "code",
   "execution_count": 123,
   "id": "6c58ed59-1c70-4ff4-ba5b-0631c466b3cd",
   "metadata": {
    "tags": []
   },
   "outputs": [],
   "source": [
    "def secanti(fname,xm1,x0,tolx,tolf,nmax):\n",
    "        xk=[]\n",
    "        fxm1=fname(xm1);\n",
    "        fx0=fname(x0); \n",
    "        d=fx0*(x0-xm1)/(fx0-fxm1)\n",
    "        x1=x0-d;\n",
    "        xk.append(x1)\n",
    "        fx1=fname(x1);\n",
    "        it=1\n",
    "       \n",
    "        while it<nmax and abs(fx1)>=tolf and abs(d)>=tolx*abs(x1):\n",
    "            xm1=x0\n",
    "            x0=x1\n",
    "            fxm1=fname(xm1)\n",
    "            fx0=fname(x0) \n",
    "            d=fx0*(x0-xm1)/(fx0-fxm1)\n",
    "            x1=x0-d\n",
    "            fx1=fname(x1)\n",
    "            xk.append(x1);\n",
    "            it=it+1;\n",
    "           \n",
    "       \n",
    "        if it==nmax:\n",
    "           print('Secanti: raggiunto massimo numero di iterazioni \\n')\n",
    "        \n",
    "        return x1,it,xk"
   ]
  },
  {
   "cell_type": "code",
   "execution_count": 126,
   "id": "e5637df8-c4b8-4231-9535-aae4aa01d732",
   "metadata": {
    "tags": []
   },
   "outputs": [],
   "source": [
    "def stima_ordine(xk,iterazioni):\n",
    "     #Vedi dispensa allegata per la spiegazione\n",
    "\n",
    "      k=iterazioni-4\n",
    "      p=np.log(abs(xk[k+2]-xk[k+3])/abs(xk[k+1]-xk[k+2]))/np.log(abs(xk[k+1]-xk[k+2])/abs(xk[k]-xk[k+1]));\n",
    "     \n",
    "      ordine=p\n",
    "      return ordine\n"
   ]
  },
  {
   "cell_type": "code",
   "execution_count": 125,
   "id": "f22cc48f-1b52-4fbc-bbae-98e10bb6cfaf",
   "metadata": {
    "tags": []
   },
   "outputs": [
    {
     "name": "stdin",
     "output_type": "stream",
     "text": [
      "Scegli funzione di cui calcolare lo zero 2\n"
     ]
    },
    {
     "name": "stdout",
     "output_type": "stream",
     "text": [
      "1/((x + 3)*log(2))\n"
     ]
    },
    {
     "data": {
      "image/png": "[encoded data removed]",
      "text/plain": [
       "<Figure size 432x288 with 1 Axes>"
      ]
     },
     "metadata": {
      "needs_background": "light"
     },
     "output_type": "display_data"
    },
    {
     "name": "stdout",
     "output_type": "stream",
     "text": [
      "Ordine Bisezione  1.0\n",
      "Ordine Falsa posizione  0.9998929113294419\n",
      "Ordine Corde  0.9999755300449991\n",
      "Ordine Newton  2.0007077949472403\n",
      "Ordine Secanti  1.7319074349157517\n",
      "Lo zero approssimato è: 1.0000000000002274\n",
      "f(1.0000000000002274) = 8.215650382226158e-14\n",
      "[5.00000000e-01 2.50000000e-01 1.25000000e-01 6.25000000e-02\n",
      " 3.12500000e-02 1.56250000e-02 7.81250000e-03 3.90625000e-03\n",
      " 1.95312500e-03 9.76562500e-04 4.88281250e-04 2.44140625e-04\n",
      " 1.22070312e-04 6.10351562e-05 3.05175781e-05 1.52587891e-05\n",
      " 7.62939453e-06 3.81469727e-06 1.90734863e-06 9.53674316e-07\n",
      " 4.76837158e-07 2.38418579e-07 1.19209290e-07 5.96046448e-08\n",
      " 2.98023224e-08 1.49011612e-08 7.45058060e-09 3.72529030e-09\n",
      " 1.86264515e-09 9.31322575e-10 4.65661287e-10 2.32830644e-10\n",
      " 1.16415322e-10 5.82076609e-11 2.91038305e-11 1.45519152e-11\n",
      " 7.27595761e-12 3.63797881e-12 1.81898940e-12 9.09494702e-13\n",
      " 4.54747351e-13 2.27373675e-13]\n",
      "Lo zero approssimato è: 1.000000000002117\n",
      "f(1.0000000000002274) = 7.638334409421077e-13\n",
      "Lo zero approssimato è: 1.0000000000016753\n",
      "f(1.0000000000002274) = 6.039613253960852e-13\n",
      "Lo zero approssimato è: 1.0000000000000004\n",
      "Errore Newton [3.24990927e-01 1.35752166e-02 2.30619171e-05 6.64818200e-11\n",
      " 4.44089210e-16]\n",
      "f(1.0000000000002274) = 0.0\n",
      "Lo zero approssimato è: 0.9999999999999999\n",
      "Errore secanti [3.24990927e-01 1.35752166e-02 2.30619171e-05 6.64818200e-11\n",
      " 4.44089210e-16]\n",
      "f(1.0000000000002274) = 0.0\n"
     ]
    },
    {
     "data": {
      "image/png": "[encoded data removed]",
      "text/plain": [
       "<Figure size 432x288 with 1 Axes>"
      ]
     },
     "metadata": {
      "needs_background": "light"
     },
     "output_type": "display_data"
    }
   ],
   "source": [
    "# Esempio di utilizzo\n",
    "import numpy as np\n",
    "import matplotlib.pyplot as plt\n",
    "from sympy.utilities.lambdify import lambdify\n",
    " \n",
    "scelta=int(input(\"Scegli funzione di cui calcolare lo zero\"))\n",
    "\n",
    "if scelta==1:\n",
    "    x=sym.symbols('x')\n",
    "    fs =  sym.exp(-x)-(x+1)\n",
    "    dfs=sym.diff(fs,x,1)\n",
    "    print(dfs)\n",
    "    titolo='exp(-x)-(x+1)'\n",
    "    fp=lambdify(x,dfs,np)  #l'ultimo argomento np (nickaname di numpy) serve per specificare che la lambda function \n",
    "#può prendere come argomento un numpy array ed eseguire l'operazione su tutte le sue componenti.\n",
    "    f=lambdify(x,fs,np)\n",
    "\n",
    "    alfa=0\n",
    "    a = -1\n",
    "    b = 2\n",
    "    x0=-0.5\n",
    "    xm1=-0.3\n",
    "\n",
    "if scelta==2:\n",
    "    x=sym.symbols('x')\n",
    "    fs =  sym.log(x+3)/sym.log(2)-2 #log_b(a)=log(a)/log(b)\n",
    "    dfs=sym.diff(fs,x,1)\n",
    "    print(dfs)\n",
    "    titolo='log2(x+3)-2'\n",
    "    fp=lambdify(x,dfs,np)  #l'ultimo argomento np (nickaname di numpy) serve per specificare che la lambda function \n",
    "#può prendere come argomento un numpy array ed eseguire l'operazione su tutte le sue componenti.\n",
    "    f=lambdify(x,fs,np)\n",
    "\n",
    "    alfa=1\n",
    "    a = -1\n",
    "    b = 2\n",
    "    x0=-0.5\n",
    "    xm1=0.5\n",
    "    \n",
    "if scelta==3:\n",
    "    x=sym.symbols('x')\n",
    "    fs =  sym.sqrt(x)-x**2/4\n",
    "    dfs=sym.diff(fs,x,1)\n",
    "    print(dfs)\n",
    "    titolo='sqrt(x)-x**2/4'\n",
    "    fp=lambdify(x,dfs,np)  #l'ultimo argomento np (nickaname di numpy) serve per specificare che la lambda function \n",
    "#può prendere come argomento un numpy array ed eseguire l'operazione su tutte le sue componenti.\n",
    "    f=lambdify(x,fs,np)\n",
    "\n",
    "    alfa=2.0**(4/3)\n",
    "    a = 1\n",
    "    b = 3\n",
    "    x0=1.8\n",
    "    xm1=1.5\n",
    "       \n",
    "xx=np.linspace(a,b,100)\n",
    "plt.plot(xx,f(xx))\n",
    "plt.title(titolo)\n",
    "plt.show()\n",
    "tolx = 1e-12\n",
    "tolf=1e-12\n",
    "maxit=1000\n",
    "zero,it,xk = metodo_bisezione(f, a, b, tolx)\n",
    "print(\"Ordine Bisezione \",stima_ordine(xk,it))\n",
    "zero_f,it_f,xk_f = falsi(f, a, b, maxit, tolx,tolf)\n",
    "print(\"Ordine Falsa posizione \",stima_ordine(xk_f,it_f))\n",
    "coeff_ang=(f(b)-f(a))/(b-a)\n",
    "zero_c,it_c,xk_c = corde(f, coeff_ang,x0, tolx,tolf, maxit)\n",
    "print(\"Ordine Corde \",stima_ordine(xk_c,it_c))\n",
    "zero_n,it_n,xk_n = newton(f, fp,x0, tolx,tolf, maxit) \n",
    "print(\"Ordine Newton \",stima_ordine(xk_n,it_n))\n",
    "zero_s,it_s,xk_s = secanti(f,xm1,x0,tolx,tolf, maxit) \n",
    "print(\"Ordine Secanti \",stima_ordine(xk_s,it_s))\n",
    "\n",
    "xk=np.array(xk)\n",
    "\n",
    "if (zero!=None):\n",
    "    print(f\"Lo zero approssimato è: {zero}\")\n",
    "    print(f\"f({zero}) = {f(zero)}\")\n",
    "    ek=np.abs(xk-alfa)\n",
    "    print(ek)\n",
    "    plt.semilogy(range(it),ek,'-s')\n",
    "\n",
    "xk_f=np.array(xk_f)\n",
    "if (zero_f!=None):\n",
    "    print(f\"Lo zero approssimato è: {zero_f}\")\n",
    "    ek_f=np.abs(xk_f-alfa)\n",
    "    print(f\"f({zero}) = {f(zero_f)}\")\n",
    "    plt.semilogy(range(it_f),ek_f,'-s')\n",
    "\n",
    "xk_c=np.array(xk_c)\n",
    "if (zero_c!=None):\n",
    "    print(f\"Lo zero approssimato è: {zero_c}\")\n",
    "    ek_c=np.abs(xk_c-alfa)\n",
    "    print(f\"f({zero}) = {f(zero_c)}\")\n",
    "    plt.semilogy(range(it_c),ek_c,'-o')\n",
    "    \n",
    "\n",
    "xk_n=np.array(xk_n)\n",
    "if (zero_n!=None):\n",
    "    print(f\"Lo zero approssimato è: {zero_n}\")\n",
    "    ek_n=np.abs(xk_n-alfa)\n",
    "    print(\"Errore Newton\",ek_n)\n",
    "    print(f\"f({zero}) = {f(zero_n)}\")\n",
    "    plt.semilogy(range(it_n),ek_n,'-*')\n",
    "    \n",
    "    xk_s=np.array(xk_s)\n",
    "if (zero_s!=None):\n",
    "    print(f\"Lo zero approssimato è: {zero_s}\")\n",
    "    ek_s=np.abs(xk_s-alfa)\n",
    "    print(\"Errore secanti\",ek_n)\n",
    "    print(f\"f({zero}) = {f(zero_s)}\")\n",
    "    plt.semilogy(range(it_s),ek_s,'o--')\n",
    "    plt.legend([\"Metodo di Bisezione \", \"Falsa Posizione\", \"Corde \", \"Newton \", \"Secanti\"])\n",
    "    plt.show()"
   ]
  },
  {
   "cell_type": "markdown",
   "id": "22339d84-a5cc-4950-a537-104611a315f8",
   "metadata": {},
   "source": [
    " Confrontare i metodi sopra implementati nei casi seguenti:\n",
    "\n",
    "- f(x) = exp(−x) − (x + 1) in [−1, 2] con x0 = −0.5, x−1 = −0.3, tolx = 1.e − 12, tolf = 1.e − 12, (soluzione esatta alfa=0);\n",
    "- f(x) = log2(x + 3) − 2 in [−1, 2] con x0 = −0.5, x−1 = 0.5, tolx = 1.e − 12, tolf = 1.e − 12, (soluzione esatta alfa=1);\n",
    "- f(x) =sqrt(x)-(x^2)/4 in [1, 3] con x0 = 1.8, x−1 = 1.5, tolx = 1.e − 12, tolf =1.e − 12, (soluzione esatta alfa=2**(4/3))\n",
    "\n",
    "Mostrare in un grafico in scala semilogaritmica sulle ordinate (comando semilogy) l’andamento di ek = |xk − α|, k = 1, ..., nit, sapendo che α = 0, 1, 2**(4/3) nei\n",
    "tre casi.\n",
    "Calcolare infine, a partire dai valori di {xk} con k sufficientemente grande, la stima dell’ordine di convergenza p come\n",
    "\n",
    "p= ln (|x_{k+1}-x_k|/|x_k-x_{k-1}|)/ln (|x_k-x_{k-1}|/|x_{k-1}-x_{k-2}|)"
   ]
  },
  {
   "cell_type": "markdown",
   "id": "deaeb530-4fe7-4ded-9f34-449ef48fa995",
   "metadata": {},
   "source": [
    "## Esercizio 2\n",
    "Utilizzare il metodo di Newton e il metodo di Newton modificato per il calcolo\n",
    "dello zero di molteplicita' 2 della funzione f(x) = \n",
    "x^3 + x^2− 33x + 63 con x0 = 1,\n",
    "tolx = 1.e − 12 e tolf = 1.e − 12. Calcolare infine, a partire dai valori di {xk}\n",
    "ottenuti nei due casi, la stima dell’ordine di convergenza p."
   ]
  },
  {
   "cell_type": "code",
   "execution_count": 134,
   "id": "0cb4d561-483d-41ba-85b3-073f2c811d4f",
   "metadata": {
    "tags": []
   },
   "outputs": [
    {
     "data": {
      "text/plain": [
       "[<matplotlib.lines.Line2D at 0x1c47ce09040>,\n",
       " <matplotlib.lines.Line2D at 0x1c47ce09460>]"
      ]
     },
     "execution_count": 134,
     "metadata": {},
     "output_type": "execute_result"
    },
    {
     "data": {
      "image/png": "[encoded data removed]",
      "text/plain": [
       "<Figure size 432x288 with 1 Axes>"
      ]
     },
     "metadata": {
      "needs_background": "light"
     },
     "output_type": "display_data"
    }
   ],
   "source": [
    "f1= lambda x: x**3+x**2-33*x+63\n",
    "fp= lambda x: 3*x**2+2*x-33\n",
    "xx=np.linspace(1,4,200)\n",
    "plt.plot(xx,f1(xx),xx,np.zeros_like(xx))"
   ]
  },
  {
   "cell_type": "code",
   "execution_count": 140,
   "id": "8b58594b-a16f-47eb-bcbf-d5569ea5b12a",
   "metadata": {
    "tags": []
   },
   "outputs": [
    {
     "name": "stdout",
     "output_type": "stream",
     "text": [
      "Zero Newton a partire da x0=1.0 --- 2.999999813817361 Numero di iterazioni  23\n",
      "Ordine Newton  1.0008987815015167\n"
     ]
    }
   ],
   "source": [
    "x0=1.0\n",
    "tolx=1e-12\n",
    "tolf=1e-12\n",
    "zero_nf1,it_nf1,xk_nf1 = newton(f1, fp,x0, tolx,tolf, maxit) \n",
    "print(\"Zero Newton a partire da x0=1.0 ---\",zero_nf1, \"Numero di iterazioni \",it_nf1)\n",
    "print(\"Ordine Newton \",stima_ordine(xk_nf1,it_nf1))"
   ]
  },
  {
   "cell_type": "code",
   "execution_count": 143,
   "id": "e59b9cb9-76ae-40ba-88e2-e789e6a2ae8d",
   "metadata": {
    "tags": []
   },
   "outputs": [],
   "source": [
    "def newton_mod(fname,fpname,m,x0,tolx,tolf,nmax):\n",
    "  #m: molteplicità della radice\n",
    "        xk=[]\n",
    "        fx0=fname(x0)\n",
    "        if abs(fpname(x0))<=np.spacing(1): #Se la derivata prima e' pià piccola della precisione di macchina stop\n",
    "            print(\" derivata prima nulla in x0\")\n",
    "            return None, None,None\n",
    "\n",
    "        d=fx0/fpname(x0)\n",
    "        x1=x0-m*d\n",
    "        \n",
    "        fx1=fname(x1)\n",
    "        xk.append(x1)\n",
    "        it=1\n",
    "        \n",
    "        while it<nmax and  abs(fx1)>=tolf and abs(d)>=tolx*abs(x1) :\n",
    "           x0=x1\n",
    "           fx0=fname(x0)\n",
    "           if abs(fpname(x0))<=np.spacing(1): #Se la derivata prima e' pià piccola della precisione di macchina stop\n",
    "                print(\" derivata prima nulla in x0\")\n",
    "                return None, None,None\n",
    "           d=fx0/fpname(x0)\n",
    "           '''\n",
    "           #x1= ascissa del punto di intersezione tra  la retta che passa per il punto\n",
    "           (xi,f(xi)) ed è tangente alla funzione f(x) nel punto (xi.f(xi))  e l'asse x\n",
    "           '''\n",
    "           x1=x0-m*d  \n",
    "           fx1=fname(x1)\n",
    "           it=it+1\n",
    "         \n",
    "           xk.append(x1)\n",
    "          \n",
    "        if it==nmax:\n",
    "            print('raggiunto massimo numero di iterazioni \\n')\n",
    "            \n",
    "        \n",
    "        return x1,it,xk"
   ]
  },
  {
   "cell_type": "code",
   "execution_count": 144,
   "id": "8c1c29ee-f855-4351-a549-6f01b8fe60dc",
   "metadata": {
    "tags": []
   },
   "outputs": [
    {
     "name": "stdout",
     "output_type": "stream",
     "text": [
      "Ordine Newton modificato 1.9965427710643453\n",
      "Zero Newton a partire da x0=1.0 --- 2.9999999996871622 Numero di iterazioni  4\n"
     ]
    }
   ],
   "source": [
    "x0=1.0\n",
    "tolx=1e-12\n",
    "tolf=1e-12\n",
    "m=2 #molteplicità della radice\n",
    "zero_nm_f1,it_nm_f1,xk_nm_f1 = newton_mod(f1, fp,m,x0, tolx,tolf, maxit) \n",
    "print(\"Ordine Newton modificato\",stima_ordine(xk_nm_f1,it_nm_f1))\n",
    "print(\"Zero Newton a partire da x0=1.0 ---\",zero_nm_f1, \"Numero di iterazioni \",it_nm_f1)\n"
   ]
  },
  {
   "cell_type": "markdown",
   "id": "d9787fdd-725e-4803-b148-8a137e4335c8",
   "metadata": {},
   "source": [
    "## Esercizio 3\n",
    "Utilizzare il metodo di bisezione ed il metodo di Newton per calcolare la radice quadrata di 2. Analizzate i risultati."
   ]
  },
  {
   "cell_type": "code",
   "execution_count": 145,
   "id": "d782cd98-8b02-4df5-8fb8-9b013db95d64",
   "metadata": {
    "tags": []
   },
   "outputs": [
    {
     "data": {
      "image/png": "[encoded data removed]",
      "text/plain": [
       "<Figure size 432x288 with 1 Axes>"
      ]
     },
     "metadata": {
      "needs_background": "light"
     },
     "output_type": "display_data"
    },
    {
     "name": "stdout",
     "output_type": "stream",
     "text": [
      "Ordine Bisezione  1.0\n"
     ]
    }
   ],
   "source": [
    "f4= lambda x: x**2-2\n",
    "f4p= lambda x: 2*x\n",
    "a=1\n",
    "b=2\n",
    "xx=np.linspace(a,b,100)\n",
    "plt.plot(xx,f4(xx),xx,np.zeros_like(xx))\n",
    "plt.show()\n",
    "tolx = 1e-12\n",
    "tolf=1e-12\n",
    "maxit=1000\n",
    "zero_b_4,it_b_4,xk_b_4 = metodo_bisezione(f4, a, b, tolx)\n",
    "print(\"Ordine Bisezione \",stima_ordine(xk_b_4,it_b_4))\n",
    " \n"
   ]
  },
  {
   "cell_type": "code",
   "execution_count": 146,
   "id": "95f96470-2c6e-4027-aa1b-f5ec1d9dffb6",
   "metadata": {
    "tags": []
   },
   "outputs": [],
   "source": [
    "alfa=np.sqrt(2)\n",
    "err_rel_bis_4=np.abs(np.array(xk_b_4)-alfa)\n"
   ]
  },
  {
   "cell_type": "code",
   "execution_count": 147,
   "id": "459ad3fe-cd88-400b-a78c-6ecb20df5a41",
   "metadata": {
    "tags": []
   },
   "outputs": [
    {
     "name": "stdout",
     "output_type": "stream",
     "text": [
      "Ordine Newton  2.0000120123420904\n"
     ]
    }
   ],
   "source": [
    "x0=1\n",
    "zero_n4,it_n4,xk_n4 = newton(f4, f4p,x0, tolx,tolf, maxit) \n",
    "err_rel_new_4=np.abs(np.array(xk_n4)-alfa)\n",
    "print(\"Ordine Newton \",stima_ordine(xk_n4,it_n4))"
   ]
  },
  {
   "cell_type": "code",
   "execution_count": 148,
   "id": "ce66c3b5-44fd-43d7-915f-35676eb0105d",
   "metadata": {
    "tags": []
   },
   "outputs": [],
   "source": [
    "err_rel_n_4=np.abs(np.array(xk_n4)-alfa)"
   ]
  },
  {
   "cell_type": "code",
   "execution_count": 149,
   "id": "d77b5619-e0af-4ce2-80c1-fb5a93ecee58",
   "metadata": {
    "tags": []
   },
   "outputs": [
    {
     "data": {
      "text/plain": [
       "<matplotlib.legend.Legend at 0x1c47cced550>"
      ]
     },
     "execution_count": 149,
     "metadata": {},
     "output_type": "execute_result"
    },
    {
     "data": {
      "image/png": "[encoded data removed]",
      "text/plain": [
       "<Figure size 432x288 with 1 Axes>"
      ]
     },
     "metadata": {
      "needs_background": "light"
     },
     "output_type": "display_data"
    }
   ],
   "source": [
    "plt.semilogy(range(it_b_4),err_rel_bis_4,'r-o',range(it_n4),err_rel_new_4,'d-')\n",
    "plt.legend(['Bisezione ', 'Newton'])"
   ]
  },
  {
   "cell_type": "markdown",
   "id": "6ffd1881-6df4-426e-a962-3a5318513229",
   "metadata": {},
   "source": [
    "Scrivere la function `NewtonRaphson.py`, che implementa il metodo di Newton-Raphson\n",
    "per il calcolo della soluzione di un sistema di equazioni non lineari. \n",
    "\n",
    "Tale function\n",
    "deve assumere come dati in input:\n",
    "- fname: nome della funzione vettoriale di cui calcolare lo zero;\n",
    "- JacName: nome della funzione che calcola lo J acobiano della funzione vettoriale;\n",
    "- X0: vettore contenente le componenti dell'iterato iniziale);\n",
    "- tolx tolleranza  per il test d'arresto sull'incremento\n",
    "        ||X_{k+1}-X_k||/||X_{k}||<= tolx\n",
    "- tolf tolleranza per il test del residuo\n",
    "        ||F(Xk+1)|| <= tolf;\n",
    "- NMAX numero massimo di iterazioni.\n",
    "In output devono essere restituiti il vettore contenente l'approssimazione dello zero x, un vettore contenente l'errore relativo tra due iterati successivi, il numero di iterazioni\n",
    "effettuate, nit.\n"
   ]
  },
  {
   "cell_type": "markdown",
   "id": "593eac55-b48c-4454-b0e8-73338f053717",
   "metadata": {},
   "source": [
    "Risolvere i seguenti tre sistemi non lineari:\n",
    "1) \n",
    "2x0-cos(x1)=0\n",
    "\n",
    "sin(x0)+2x1=0\n",
    "\n",
    "2) \n",
    "x0^2+x1^2-9=0\n",
    "\n",
    "x0^2+x1*2-2=0\n",
    "\n",
    "3) \n",
    "4x0^2+x_1^2^=4\n",
    "\n",
    "x0+x1=sin(x0-x1)\n",
    "\n"
   ]
  },
  {
   "cell_type": "markdown",
   "id": "2c279af1-357d-42ae-9669-d5160b0b6054",
   "metadata": {},
   "source": [
    "Per determinare l'iterato iniziale X 0 , servirsi del metodo grafico per individuare un \n",
    "iterato iniziale nell'intorno della soluzione che si vuole approssimare. Visualizzare le \n",
    "curve di livello corrisponenti a z=O delle due superfici z = fi (x1 ,x2 ) e z = h(x1 , x 2 ) e \n",
    "definire come iterato iniziale un vettore X 0 oppurtuno le cui componenti stanno in un \n",
    "intorno della soluzione (punti di intersezione tra le curve di livello delle due superfici) \n",
    " "
   ]
  },
  {
   "cell_type": "code",
   "execution_count": 150,
   "id": "1941c850-37d5-4f49-b3ed-cde0499dc8b1",
   "metadata": {
    "tags": []
   },
   "outputs": [
    {
     "name": "stdin",
     "output_type": "stream",
     "text": [
      "Scelta sistema 2\n"
     ]
    }
   ],
   "source": [
    "import numpy.linalg as npl\n",
    "from mpl_toolkits.mplot3d import Axes3D\n",
    "\n",
    "x = np.arange(-4, 4, 0.1)\n",
    "y = np.arange(-4, 4, 0.1)\n",
    "X, Y = np.meshgrid(x, y)\n",
    "\n",
    "scelta_sistema=int(input(\"Scelta sistema\"))\n",
    "\n",
    "if scelta_sistema==1:\n",
    "        F= lambda x : np.array([\n",
    "            x[0]**2 + x[1]**2-9,\n",
    "            x[0]+x[1]-3,\n",
    "        ])\n",
    "    \n",
    "        Jac= lambda x: np.array([[2*x[0], 2*x[1]],[1,1]])\n",
    "\n",
    "        Z=X**2+Y**2-9\n",
    "        Z1=X+Y-3\n",
    "\n",
    "elif scelta_sistema==2:\n",
    "        \n",
    "        F= lambda x : np.array([\n",
    "            2*x[0] -np.cos(x[1]),\n",
    "            np.sin(x[0])+2*x[1]])\n",
    "        Jac= lambda x: np.array([[2, np.sin(x[1])],[np.cos(x[0]),2]])\n",
    "        Z=2*X -np.cos(Y)\n",
    "        Z1=np.sin(X)+2*Y\n",
    "elif scelta_sistema==3:\n",
    "\n",
    "        F= lambda x : np.array([\n",
    "                    4*x[0]**2+x[1]**2-4,\n",
    "                    x[0]+x[1]-np.sin(x[0]-x[1])\n",
    "                   ])\n",
    "        Jac= lambda x: np.array([[8*x[0], 2*x[1]],[1-np.cos(x[0]-x[1]),1+np.cos(x[0]-x[1])]])\n",
    "        Z=4*X**2+Y**2-4\n",
    "        Z1=X+Y-np.sin(X-Y)\n",
    "\n",
    "        "
   ]
  },
  {
   "cell_type": "code",
   "execution_count": 151,
   "id": "cfce77de-3c4a-42b3-80aa-d1ef252eb0ce",
   "metadata": {
    "tags": []
   },
   "outputs": [
    {
     "data": {
      "image/png": "[encoded data removed]",
      "text/plain": [
       "<Figure size 432x288 with 1 Axes>"
      ]
     },
     "metadata": {
      "needs_background": "light"
     },
     "output_type": "display_data"
    },
    {
     "data": {
      "image/png": "[encoded data removed]",
      "text/plain": [
       "<Figure size 432x288 with 1 Axes>"
      ]
     },
     "metadata": {
      "needs_background": "light"
     },
     "output_type": "display_data"
    }
   ],
   "source": [
    "import numpy as np\n",
    "import matplotlib.pyplot as plt\n",
    "from mpl_toolkits.mplot3d import Axes3D\n",
    "\n",
    "\n",
    "\n",
    "# Plotta la superficie direttamente\n",
    "fig = plt.figure()\n",
    "ax = fig.add_subplot(111, projection='3d')\n",
    "\n",
    "# Plotta la superficie\n",
    "ax.plot_surface(X, Y, Z, cmap=plt.cm.viridis)\n",
    "\n",
    "# Mostra il grafico\n",
    "plt.show()\n",
    "\n",
    "fig = plt.figure()\n",
    "ax = fig.add_subplot(111, projection='3d')\n",
    "\n",
    "# Plotta la superficie\n",
    "ax.plot_surface(X, Y, Z1, cmap=plt.cm.viridis)\n",
    "\n",
    "# Mostra il grafico\n",
    "plt.show()"
   ]
  },
  {
   "cell_type": "code",
   "execution_count": 152,
   "id": "8d07ec71-8b55-47e5-9f65-c893ebb4ebcc",
   "metadata": {
    "tags": []
   },
   "outputs": [
    {
     "data": {
      "image/png": "[encoded data removed]",
      "text/plain": [
       "<Figure size 432x288 with 1 Axes>"
      ]
     },
     "metadata": {
      "needs_background": "light"
     },
     "output_type": "display_data"
    }
   ],
   "source": [
    "plt.contour(X, Y, Z, levels=[0], colors='black')\n",
    "plt.contour(X, Y, Z1, levels=[0], colors='red')\n",
    " \n",
    "plt.show()"
   ]
  },
  {
   "cell_type": "code",
   "execution_count": 153,
   "id": "62a83f70-59b3-417a-8140-f42a788c1b6e",
   "metadata": {
    "tags": []
   },
   "outputs": [],
   "source": [
    "def my_newtonSys(fun, jac, x0, tolx, tolf, nmax):\n",
    "\n",
    "  \"\"\"\n",
    "  Funzione per la risoluzione del sistema f(x)=0\n",
    "  mediante il metodo di Newton.\n",
    "\n",
    "  Parametri\n",
    "  ----------\n",
    "  fun : stringa\n",
    "    Nome del file contenente la funzione non lineare.\n",
    "  jac : stringa\n",
    "    Nome del file contenente la matrice Jacobiana della funzione.\n",
    "  x0 : array\n",
    "    Vettore contenente l'approssimazione iniziale della soluzione.\n",
    "  tolx : float\n",
    "    Parametro di tolleranza per l'errore assoluto.\n",
    "  tolf : float\n",
    "    Parametro di tolleranza per l'errore relativo.\n",
    "  nmax : int\n",
    "    Numero massimo di iterazioni.\n",
    "\n",
    "  Restituisce\n",
    "  -------\n",
    "  x : array\n",
    "    Vettore soluzione del sistema (o equazione) non lineare.\n",
    "  it : int\n",
    "    Numero di iterazioni fatte per ottenere l'approssimazione desiderata.\n",
    "  Xm : array\n",
    "    Vettore contenente la norma dell'errore relativo tra due iterati successivi.\n",
    "  \"\"\"\n",
    "\n",
    "  matjac = jac(x0)\n",
    "  if np.linalg.det(matjac) == 0:\n",
    "    print(\"La matrice dello Jacobiano calcolata nell'iterato precedente non è a rango massimo\")\n",
    "    return None, None,None\n",
    "\n",
    "  s = -np.linalg.solve(matjac, fun(x0))\n",
    "  # Aggiornamento della soluzione\n",
    "  it = 1\n",
    "  x1 = x0 + s\n",
    "  fx1 = fun(x1)\n",
    "\n",
    "  Xm = [np.linalg.norm(s, 1)/np.linalg.norm(x1,1)]\n",
    "\n",
    "  while it <= nmax and np.linalg.norm(fx1, 1) >= tolf and np.linalg.norm(s, 1) >= tolx * np.linalg.norm(x1, 1):\n",
    "    x0 = x1\n",
    "    it += 1\n",
    "    matjac = jac(x0)\n",
    "    if np.linalg.det(matjac) == 0:\n",
    "            print(\"La matrice dello Jacobiano calcolata nell'iterato precedente non è a rango massimo\")\n",
    "            return None, None,None\n",
    "\n",
    "    # Risolvo il sistema lineare avente come matrice dei coefficienti la\n",
    "    # matrice Jacobiana e come termine noto la Funzione vettoriale F valutata\n",
    "    # in x0\n",
    "    s = -np.linalg.solve(matjac, fun(x0))\n",
    "\n",
    "    # Aggiornamento della soluzione\n",
    "    x1 = x0 + s\n",
    "    fx1 = fun(x1)\n",
    "    Xm.append(np.linalg.norm(s, 1)/np.linalg.norm(x1,1))\n",
    "\n",
    "  return x1, it, Xm"
   ]
  },
  {
   "cell_type": "code",
   "execution_count": 154,
   "id": "33a55ada-3614-4020-8e20-8347c8411405",
   "metadata": {
    "tags": []
   },
   "outputs": [],
   "source": [
    "def my_newtonSys_corde(fun, jac, x0, tolx, tolf, nmax):\n",
    "\n",
    "  \"\"\"\n",
    "  Funzione per la risoluzione del sistema f(x)=0\n",
    "  mediante il metodo di Newton.\n",
    "\n",
    "  Parametri\n",
    "  ----------\n",
    "  fun : stringa\n",
    "    Nome del file contenente la funzione non lineare.\n",
    "  jac : stringa\n",
    "    Nome del file contenente la matrice Jacobiana della funzione.\n",
    "  x0 : array\n",
    "    Vettore contenente l'approssimazione iniziale della soluzione.\n",
    "  tolx : float\n",
    "    Parametro di tolleranza per l'errore assoluto.\n",
    "  tolf : float\n",
    "    Parametro di tolleranza per l'errore relativo.\n",
    "  nmax : int\n",
    "    Numero massimo di iterazioni.\n",
    "\n",
    "  Restituisce\n",
    "  -------\n",
    "  x : array\n",
    "    Vettore soluzione del sistema (o equazione) non lineare.\n",
    "  it : int\n",
    "    Numero di iterazioni fatte per ottenere l'approssimazione desiderata.\n",
    "  Xm : array\n",
    "      Vettore contenente la norma dell'errore relativo tra due iterati successivi.\n",
    "  \"\"\"\n",
    "\n",
    "  matjac = jac(x0)  #Utilizzo per tutte le iterazioni la matrice Jacobiana valutata nell'ierato iniziale, senza mai aggiornarla\n",
    "  if np.linalg.det(matjac) == 0:\n",
    "    print(\"La matrice dello Jacobiano calcolata nell'iterato precedente non è a rango massimo\")\n",
    "    return None, None,None\n",
    "  s = -np.linalg.solve(matjac, fun(x0))\n",
    "  # Aggiornamento della soluzione\n",
    "  it = 1\n",
    "  x1 = x0 + s\n",
    "  fx1 = fun(x1)\n",
    "\n",
    "  Xm = [np.linalg.norm(s, 1)/np.linalg.norm(x1,1)]\n",
    "\n",
    "  while it <= nmax and np.linalg.norm(fx1, 1) >= tolf and np.linalg.norm(s, 1) >= tolx * np.linalg.norm(x1, 1):\n",
    "    x0 = x1\n",
    "    it += 1\n",
    "   \n",
    "   \n",
    "    if np.linalg.det(matjac) == 0:\n",
    "        print(\"La matrice dello Jacobiano calcolata nell'iterato precedente non è a rango massimo\")\n",
    "        return None, None,None\n",
    "    \n",
    "    # Risolvo il sistema lineare avente come matrice dei coefficienti la\n",
    "    # matrice Jacobiana e come termine noto la Funzione vettoriale F valutata\n",
    "    # in x0\n",
    "    \n",
    "    s = -np.linalg.solve(matjac, fun(x0))\n",
    "\n",
    "    # Aggiornamento della soluzione\n",
    "    x1 = x0 + s\n",
    "    fx1 = fun(x1)\n",
    "    Xm.append(np.linalg.norm(s, 1)/np.linalg.norm(x1,1))\n",
    "\n",
    "  return x1, it, Xm"
   ]
  },
  {
   "cell_type": "code",
   "execution_count": 155,
   "id": "baf6e18f-b4a7-48ff-8505-7bc737d0ad6c",
   "metadata": {
    "tags": []
   },
   "outputs": [],
   "source": [
    "def my_newtonSys_sham(fun, jac, x0, tolx, tolf, nmax):\n",
    "\n",
    "  \"\"\"\n",
    "  Funzione per la risoluzione del sistema f(x)=0\n",
    "  mediante il metodo di Newton.\n",
    "\n",
    "  Parametri\n",
    "  ----------\n",
    "  fun : stringa\n",
    "    Nome del file contenente la funzione non lineare.\n",
    "  jac : stringa\n",
    "    Nome del file contenente la matrice Jacobiana della funzione.\n",
    "  x0 : array\n",
    "    Vettore contenente l'approssimazione iniziale della soluzione.\n",
    "  tolx : float\n",
    "    Parametro di tolleranza per l'errore assoluto.\n",
    "  tolf : float\n",
    "    Parametro di tolleranza per l'errore relativo.\n",
    "  nmax : int\n",
    "    Numero massimo di iterazioni.\n",
    "\n",
    "  Restituisce\n",
    "  -------\n",
    "  x : array\n",
    "    Vettore soluzione del sistema (o equazione) non lineare.\n",
    "  it : int\n",
    "    Numero di iterazioni fatte per ottenere l'approssimazione desiderata.\n",
    "  Xm : array\n",
    "      Vettore contenente la norma dell'errore relativo tra due iterati successivi.\n",
    "  \"\"\"\n",
    "\n",
    "  matjac = jac(x0)\n",
    "  if np.linalg.det(matjac) == 0:\n",
    "    print(\"La matrice dello Jacobiano calcolata nell'iterato precedente non è a rango massimo\")\n",
    "    return None,None,None\n",
    "\n",
    "  s = -np.linalg.solve(matjac, fun(x0))\n",
    "  # Aggiornamento della soluzione\n",
    "  it = 1\n",
    "  x1 = x0 + s\n",
    "  fx1 = fun(x1)\n",
    "\n",
    "  Xm = [np.linalg.norm(s, 1)/np.linalg.norm(x1,1)]\n",
    "  update=10  #Numero di iterazioni durante le quali non si aggiorna la valutazione dello Jacobiano nell'iterato attuale\n",
    "  while it <= nmax and np.linalg.norm(fx1, 1) >= tolf and np.linalg.norm(s, 1) >= tolx * np.linalg.norm(x1, 1):\n",
    "    x0 = x1\n",
    "    it += 1\n",
    "    if it%update==0:   #Valuto la matrice di iterazione nel nuovo iterato ogni \"update\" iterazioni\n",
    "        matjac=jac(x0)\n",
    "   \n",
    "        if np.linalg.det(matjac) == 0:\n",
    "           print(\"La matrice dello Jacobiano calcolata nell'iterato precedente non è a rango massimo\")\n",
    "           return None,None,None\n",
    "        else:\n",
    "         # Risolvo il sistema lineare avente come matrice dei coefficienti la\n",
    "        # matrice Jacobiana valutatata nell'iterato aggiornato x0  e come termine noto la Funzione vettoriale F valutata\n",
    "        # in x0\n",
    "           s = -np.linalg.solve(matjac, fun(x0))\n",
    "    else:\n",
    "         # Risolvo il sistema lineare avente come matrice dei coefficienti la\n",
    "        # matrice Jacobiana non aggiornata e come termine noto la Funzione vettoriale F valutata\n",
    "        # in x0\n",
    "           s = -np.linalg.solve(matjac, fun(x0))\n",
    "\n",
    "    # Aggiornamento della soluzione\n",
    "    x1 = x0 + s\n",
    "    fx1 = fun(x1)\n",
    "    Xm.append(np.linalg.norm(s, 1)/np.linalg.norm(x1,1))\n",
    "\n",
    "  return x1, it, Xm"
   ]
  },
  {
   "cell_type": "code",
   "execution_count": 156,
   "id": "ed85c287-ddaf-4e79-bc0e-64feb8269283",
   "metadata": {
    "tags": []
   },
   "outputs": [],
   "source": [
    "x0=np.array([-1,1])\n",
    "nmax=500\n",
    "xN,contN,XmN= my_newtonSys(F,Jac,x0,1e-10,1e-10,nmax)\n",
    "\n",
    "xNC,contNC,XmNC= my_newtonSys_corde(F,Jac,x0,1e-10,1e-10,nmax)\n",
    " \n",
    "xNsham,contNsham,XmNsham= my_newtonSys_sham(F,Jac,x0,1e-10,1e-10,nmax)\n",
    " "
   ]
  },
  {
   "cell_type": "code",
   "execution_count": 157,
   "id": "bcf2e922-3296-4d42-b240-1f9f3aacc158",
   "metadata": {
    "tags": []
   },
   "outputs": [
    {
     "data": {
      "image/png": "[encoded data removed]",
      "text/plain": [
       "<Figure size 432x288 with 1 Axes>"
      ]
     },
     "metadata": {
      "needs_background": "light"
     },
     "output_type": "display_data"
    }
   ],
   "source": [
    "plt.contour(X, Y, Z, levels=[0], colors='black')\n",
    "plt.contour(X, Y, Z1, levels=[0], colors='red')\n",
    "plt.plot(xN[0],xN[1],'go')\n",
    "plt.show()"
   ]
  },
  {
   "cell_type": "code",
   "execution_count": 158,
   "id": "b02a7bc0-1f95-45f3-986e-43b0a8c2bb47",
   "metadata": {
    "tags": []
   },
   "outputs": [
    {
     "data": {
      "text/plain": [
       "<matplotlib.legend.Legend at 0x1c4790c9460>"
      ]
     },
     "execution_count": 158,
     "metadata": {},
     "output_type": "execute_result"
    },
    {
     "data": {
      "image/png": "[encoded data removed]",
      "text/plain": [
       "<Figure size 432x288 with 1 Axes>"
      ]
     },
     "metadata": {
      "needs_background": "light"
     },
     "output_type": "display_data"
    }
   ],
   "source": [
    "plt.semilogy(range(contN),XmN,'r-o',range(contNC),XmNC,'g-d',range(contNsham),XmNsham,'c-s')\n",
    "plt.legend(['Newton Raphson','Corde','Shamanskii'])"
   ]
  },
  {
   "cell_type": "code",
   "execution_count": null,
   "id": "6ef8783d-cf30-4b01-b2c4-7dcb875ed268",
   "metadata": {},
   "outputs": [],
   "source": []
  },
  {
   "cell_type": "code",
   "execution_count": null,
   "id": "5d7b0327-4a4a-4d30-b865-be7aecbdb7c8",
   "metadata": {},
   "outputs": [],
   "source": []
  },
  {
   "cell_type": "code",
   "execution_count": null,
   "id": "83e66ace-8b99-44da-801e-942af903f21a",
   "metadata": {},
   "outputs": [],
   "source": []
  }
 ],
 "metadata": {
  "kernelspec": {
   "display_name": "Python 3 (ipykernel)",
   "language": "python",
   "name": "python3"
  },
  "language_info": {
   "codemirror_mode": {
    "name": "ipython",
    "version": 3
   },
   "file_extension": ".py",
   "mimetype": "text/x-python",
   "name": "python",
   "nbconvert_exporter": "python",
   "pygments_lexer": "ipython3",
   "version": "3.9.12"
  }
 },
 "nbformat": 4,
 "nbformat_minor": 5
}
