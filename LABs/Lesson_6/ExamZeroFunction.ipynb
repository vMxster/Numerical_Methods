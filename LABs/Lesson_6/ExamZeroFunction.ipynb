{
 "cells": [
  {
   "cell_type": "markdown",
   "id": "b4f4476f-c566-4557-b09d-70125661bf29",
   "metadata": {},
   "source": [
    "## Compito di esame"
   ]
  },
  {
   "cell_type": "markdown",
   "id": "3381875e-d0bd-40b8-adb6-4547ac35502a",
   "metadata": {},
   "source": [
    "Data la funzione\n",
    "\n",
    "$$f(x)=\\frac{sin^2(x+7/2)\\cdot exp(1/5-2\\cdot x)}{log(x+5)}$$\n",
    "\n",
    "Scrivere lo script python  in cui\n",
    "\n",
    "-  a) si disegni in figura 1 il grafico di f e si dica quanti zeri reali ha la funzione nel dominio [−2, 4];\n",
    "                                                 Punti: 2\n",
    "-  b) si utilizzi il metodo di Newton per determinare le radici dell’equazione f(x) = 0 con iterati iniziali x0 = −1 e x0 = 4, assumendo come tolleranza per il test d’arresto sull’incremento tolx = 1.e − 15 e come tolleranza per il test del residuo tolf = 1.e − 15; \n",
    "                                                                                                        Punti: 5\n",
    "\n",
    "-  c) si disegni in figura 2 l’andamento deegli iterati ottenute a partire dai valori di innesco x0 = −1 e x0 = 4;\n",
    "                                                                                                       Punti: 2\n",
    "\n",
    "- d) si calcoli, nei due casi implementati al punto b), una stima dell’ordine di convergenza del metodo;\n",
    "                                                 Punti: 3\n",
    "- e) qualora l’ordine di convergenza non risulti ottimale, si modifichi opportunamente il metodo di Newton per renderlo tale (motivando la modifica implementata). \n",
    "                                                Punti: 4\n"
   ]
  },
  {
   "cell_type": "code",
   "execution_count": null,
   "id": "77c038d7-6f4f-41f9-9107-49e34288519a",
   "metadata": {},
   "outputs": [],
   "source": []
  }
 ],
 "metadata": {
  "kernelspec": {
   "display_name": "Python 3 (ipykernel)",
   "language": "python",
   "name": "python3"
  },
  "language_info": {
   "codemirror_mode": {
    "name": "ipython",
    "version": 3
   },
   "file_extension": ".py",
   "mimetype": "text/x-python",
   "name": "python",
   "nbconvert_exporter": "python",
   "pygments_lexer": "ipython3",
   "version": "3.11.7"
  }
 },
 "nbformat": 4,
 "nbformat_minor": 5
}
