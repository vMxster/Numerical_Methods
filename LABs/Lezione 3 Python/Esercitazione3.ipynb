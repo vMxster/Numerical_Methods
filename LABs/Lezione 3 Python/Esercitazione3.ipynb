{
 "cells": [
  {
   "cell_type": "markdown",
   "id": "cd8d6a57-49d8-4eab-bb0f-107b277ad3d1",
   "metadata": {},
   "source": [
    "## Esercizi sui Numpy array  5 Marzo 2024\n"
   ]
  },
  {
   "cell_type": "markdown",
   "id": "d3445102-1135-4f49-8673-dcba181f883b",
   "metadata": {},
   "source": [
    "**Esercizio 1**\n",
    "\n",
    "Confrontare il tempo di esecuzione dei due metodi per la creazione di un numpy array di 2000000 di elementi equidistanti nell'intervallo [-4,4]:\n",
    "\n",
    "    1) costruzione con utilizzo di np.linspace\n",
    "    \n",
    "    2) Assegnazione manuale dei valori nel ciclo.\n",
    "    "
   ]
  },
  {
   "cell_type": "code",
   "execution_count": 2,
   "id": "c86f5605-10c3-4f13-85c7-021a80b9e780",
   "metadata": {},
   "outputs": [
    {
     "name": "stdout",
     "output_type": "stream",
     "text": [
      "Tempo with NumPy=  0.005951399999986506\n",
      "Tempo with Loop=  0.4833631000000196\n"
     ]
    }
   ],
   "source": [
    "import time\n",
    "import numpy as np\n",
    "\n",
    "start = time.perf_counter()\n",
    "a, step = np.linspace(-4, 4, 2000000, retstep=True)\n",
    "end = time.perf_counter()\n",
    "print(\"Tempo with NumPy= \", end - start)\n",
    "\n",
    "start = time.perf_counter()\n",
    "x = []\n",
    "for i in range(0,2000000): # range da 0 a 2000000 (in modo da andare a prendere sempre tra [-4,+4] in modo equidistante)\n",
    "    x.append(-4+i*step) # aggiungo in coda (estremoInf + elemDelRange * step)\n",
    "end = time.perf_counter()\n",
    "print(\"Tempo with Loop= \", end - start)"
   ]
  },
  {
   "cell_type": "markdown",
   "id": "59db5cfc-4e88-42a8-afc7-1d666abd0abc",
   "metadata": {},
   "source": [
    "**Esercizio 2**\n",
    "\n",
    "-     Creare un numpy array 1D (chiamato c) di valori equidistanti tra 7 e 41 con step 2.\n",
    "\n",
    "-      Trasformare l'array c in un numpy array 2d (chiamato c1) con shape (2,9) usando il metodo .reshape((m,n))\n",
    "\n",
    "-       Determinare se c1 e' una copia o una vista dell'originale."
   ]
  },
  {
   "cell_type": "code",
   "execution_count": 2,
   "id": "789febfa-5f11-4cd7-864f-4285dc9826bb",
   "metadata": {},
   "outputs": [
    {
     "name": "stdout",
     "output_type": "stream",
     "text": [
      "True\n"
     ]
    }
   ],
   "source": [
    "#1\n",
    "c = np.arange(7,42,2)\n",
    "#2\n",
    "c1 = c.reshape((2,9))\n",
    "#3\n",
    "print(np.shares_memory(c1,c)) # Se True, allora condividono area di memoria; se no, non condividono area di memoria"
   ]
  },
  {
   "cell_type": "markdown",
   "id": "7b81197a-a950-48ab-8e75-31855ac69d9d",
   "metadata": {},
   "source": [
    "**Esercizio 3**\n",
    "\n",
    "-     Costruire un numpy array 1d, denominato $C$ di valori che variano tra 15 e 41 con step 2\n",
    "\n",
    "-     Trasformarlo in un numpy array 2d con shape(7,2) usando il metodo . resize(7,2)  che lavora in-place,  (cioè  modifica l'array esistente, non è necessario creare una copia). Verificare la shape di C e dire se C è copia o vista?"
   ]
  },
  {
   "cell_type": "code",
   "execution_count": 3,
   "id": "57b7c83c-287b-46b6-b2a5-424f975844cf",
   "metadata": {},
   "outputs": [
    {
     "name": "stdout",
     "output_type": "stream",
     "text": [
      "False\n"
     ]
    }
   ],
   "source": [
    "#1\n",
    "c = np.arange(15,42,2)\n",
    "#2\n",
    "c1 = c.resize((7,2))\n",
    "#3\n",
    "print(np.shares_memory(c,c1))"
   ]
  },
  {
   "cell_type": "markdown",
   "id": "d1adc080-9ce4-404c-ba18-c831f2625214",
   "metadata": {},
   "source": [
    "**Esercizio 4**\n",
    "\n",
    "-      Costruire il numpy array  s  formato da 100 valori equidistanti in  [0,4],\n",
    "\n",
    "-      considerarne il reshape in un array 2d che ha 4 righe con un numero opportuno di colonne"
   ]
  },
  {
   "cell_type": "code",
   "execution_count": 5,
   "id": "180319dd-ced3-4e0d-a4fc-ccb09a7e0f0c",
   "metadata": {},
   "outputs": [],
   "source": [
    "#1\n",
    "s = np.linspace(0,4,100)\n",
    "#2\n",
    "s1 = np.reshape(s,(4,int(s.size/4)))"
   ]
  },
  {
   "cell_type": "markdown",
   "id": "d40f5d7a-4808-4004-b806-b8b75bcaa01b",
   "metadata": {},
   "source": [
    "**Esercizio 5**\n",
    "\n",
    "-     Costruire il numpy array s formato da 100 valori equidistanti in  [0,4]\n",
    "-     considerarne il reshape in un array 2d che ha 4 colonne con un numero opportuno di righe"
   ]
  },
  {
   "cell_type": "code",
   "execution_count": 6,
   "id": "4c517020-47cd-4540-b332-a03a3b837739",
   "metadata": {},
   "outputs": [],
   "source": [
    "#1\n",
    "s = np.linspace(0,4,100)\n",
    "#2\n",
    "s1 = np.reshape(s,(int(s.size/4),4))"
   ]
  },
  {
   "cell_type": "markdown",
   "id": "6df0f7e2-8d6d-45e3-b6c8-73ed973b62f0",
   "metadata": {},
   "source": [
    "**Esercizio 6**  \n",
    "\n",
    "-     Scrivere il numpy  array 2d, A, [[10,11,12],[13,14,15],[16,17,18]] \n",
    "-     trasformarlo in un numpy array 1d usando il metodo .ravel()  \n",
    "-     Si tratta di una copia o di una vista?"
   ]
  },
  {
   "cell_type": "code",
   "execution_count": 8,
   "id": "13f68cb2-b983-4d4c-b121-9d312b0e43c3",
   "metadata": {},
   "outputs": [
    {
     "name": "stdout",
     "output_type": "stream",
     "text": [
      "True\n"
     ]
    }
   ],
   "source": [
    "#1\n",
    "A = np.array([[10,11,12],[13,14,15],[16,17,18]])\n",
    "#2\n",
    "A1 = A.ravel()\n",
    "#3\n",
    "print(np.shares_memory(A,A1)) #View"
   ]
  },
  {
   "cell_type": "markdown",
   "id": "19559c2a-0ac7-4d4a-b6ff-38e58843b3b6",
   "metadata": {},
   "source": [
    "**Esercizio 7**  \n",
    "\n",
    "-     Scrivere il numpy  array 2d, A, [[10,11,12],[13,14,15],[16,17,18]] \n",
    "-     trasformarlo in un numpy array 1d usando il metodo  .flatten().\n",
    "-     Si tratta di una copia o di una vista?"
   ]
  },
  {
   "cell_type": "code",
   "execution_count": 9,
   "id": "d6546899-83f9-4da6-951d-19d5ff31e328",
   "metadata": {},
   "outputs": [
    {
     "name": "stdout",
     "output_type": "stream",
     "text": [
      "False\n"
     ]
    }
   ],
   "source": [
    "#1\n",
    "A = np.array([[10,11,12],[13,14,15],[16,17,18]])\n",
    "#2\n",
    "A1 = A.flatten()\n",
    "#3\n",
    "print(np.shares_memory(A,A1)) #Copy"
   ]
  },
  {
   "cell_type": "markdown",
   "id": "c77c2529-d680-42c9-9231-3aca724b1c12",
   "metadata": {},
   "source": [
    "**Esercizio 8** \n",
    "\n",
    "-     creare i due  numpy array 1d\n",
    "        f1= [ 0  1  2  3  4  5  6  7  8  9 10 11 12 13 14 15]  \n",
    "        f2= [16 17 18 19 20 21 22 23 24 25 26 27 28 29 30 31]\n",
    "-     \"vederli\" come matrici  4x4 ed effettuarne il prodotto scalare, memorizzando in f3 la matrice che nasce dal loro prodotto."
   ]
  },
  {
   "cell_type": "code",
   "execution_count": 10,
   "id": "9c013568-1e81-4c7a-afc9-ca8a86a9f603",
   "metadata": {},
   "outputs": [],
   "source": [
    "#1\n",
    "f1 = np.array([0,1,2,3,4,5,6,7,8,9,10,11,12,13,14,15])\n",
    "f2 = np.array([16,17,18,19,20,21,22,23,24,25,26,27,28,29,30,31])\n",
    "#2\n",
    "viewF1 = np.reshape(f1,(4,4))\n",
    "viewF2 = np.reshape(f2,(4,4))\n",
    "prodScal = np.dot(viewF1,viewF2)"
   ]
  },
  {
   "cell_type": "markdown",
   "id": "c9249961-c220-46c0-9e0d-e59dfefe662c",
   "metadata": {},
   "source": [
    "**Esercizio 9**    \n",
    "\n",
    " Costruire:\n",
    "-      Numpy Array A di shape (2,10) : array di valori random campionati da una distribuzione gaussiana con media 0 e varianza 1.\n",
    " -     Numpy array 1D B di shape (20,) formato dagli interi da 0 a 19.\n",
    " \n",
    " \"Vedere\" A come un array 1D di 20 elementi ed effettuare la somma di A+B\n",
    "\n"
   ]
  },
  {
   "cell_type": "code",
   "execution_count": 11,
   "id": "b255dccb-c0c3-40d4-9787-603519b67486",
   "metadata": {},
   "outputs": [],
   "source": [
    "#1\n",
    "A = np.random.rand(2,10)\n",
    "#2\n",
    "B = np.arange(0,20)\n",
    "#3\n",
    "viewA = A.reshape((20,))"
   ]
  },
  {
   "cell_type": "markdown",
   "id": "7f6cf29e-d14a-46c9-8f35-e66151a9e0a3",
   "metadata": {},
   "source": [
    "**Esercizio 10** \n",
    "-     Creare un array 2D di shape (5,5), denominato B2, con valori tutti uguali a 15.\n",
    "-     Creare una copia B3 di B2. Modificare l'elemento B3[0,0] assegnandogli il valore 150. \n",
    "-     Stampare il numpy array B2 ed il numpy array B3 e verificare che B2, dopo la modifica di B3, è rimasto inalterato"
   ]
  },
  {
   "cell_type": "code",
   "execution_count": 17,
   "id": "569ef95b-5cab-4dfc-add7-4db7c9af8e03",
   "metadata": {},
   "outputs": [],
   "source": [
    "#1\n",
    "B2 = np.full((5,5),15)\n",
    "#2\n",
    "B3 = B2.copy()\n",
    "B3[0,0] = 150"
   ]
  },
  {
   "cell_type": "markdown",
   "id": "22c456d1-2897-412c-99c1-e9b19cbab4e7",
   "metadata": {},
   "source": [
    "**Esercizio 11**   \n",
    "\n",
    "-     Costruire  un numpy array 1D, di shape (10,) denominato  f , costituito da 10 valori equidistanti nell'intervallo [0,1]\n",
    "-     aumentarne la dimensionalità, in maniera tale che abbia shape (10,1)"
   ]
  },
  {
   "cell_type": "code",
   "execution_count": 18,
   "id": "cb955c6f-69c0-4622-89f1-18441c112cb8",
   "metadata": {},
   "outputs": [],
   "source": [
    "#1\n",
    "f = np.linspace(0,1,10)\n",
    "#2\n",
    "f.resize((10,1))"
   ]
  },
  {
   "cell_type": "markdown",
   "id": "2866db7c-cbcb-431e-bc6a-2645577a65e8",
   "metadata": {},
   "source": [
    "- **Esercizio 12**\n",
    "-     Costruire i seguenti numpy array\n",
    "      a= np.array([14,13,12,11])\n",
    "      b=np.array([[4,3,2,1],[9,10,11,12]])\n",
    "\n",
    "  Costruire il numpy array che si ottiene concatenando a e b per righe\n"
   ]
  },
  {
   "cell_type": "code",
   "execution_count": 19,
   "id": "e4b11a70-c557-4d62-bca9-9bc951bde1ba",
   "metadata": {},
   "outputs": [],
   "source": [
    "#1\n",
    "a = np.array([14,13,12,11])\n",
    "b = np.array([[4,3,2,1],[9,10,11,12]])\n",
    "#2\n",
    "c = np.vstack((a,b))"
   ]
  },
  {
   "cell_type": "markdown",
   "id": "d57c7290-27ce-4dce-a8e2-6b89124ed223",
   "metadata": {},
   "source": [
    "- **Esercizio 13**\n",
    "-     Costruire i seguenti numpy array\n",
    "      a= np.array([14,13,12,11])\n",
    "      b=np.array([[4,3,2,1],[9,10,11,12],[4,3,2,1],[9,10,11,12]])\n",
    "\n",
    "-\n",
    "- Costruire il numpy array che si ottiene concatenando a e b per colonne"
   ]
  },
  {
   "cell_type": "code",
   "execution_count": 21,
   "id": "92e55f14-5d18-4e26-abe4-f0211272d616",
   "metadata": {},
   "outputs": [],
   "source": [
    "#1\n",
    "a = np.array([14,13,12,11])\n",
    "b = np.array([[4,3,2,1],[9,10,11,12],[4,3,2,1],[9,10,11,12]])\n",
    "#2\n",
    "c = np.hstack((a.reshape((4,1)),b)) # Rendo a di due dimensioni e faccio la concatenzione sulle colonne"
   ]
  },
  {
   "cell_type": "markdown",
   "id": "7c6eb421-0e1f-445b-b72f-7d2a2451fcb4",
   "metadata": {},
   "source": [
    "**Esercizio 14**\n",
    "\n",
    "Costruire, facendo uso di una sola riga di codice, la matrice A di ordine 10, che ha gli unici elementi diversi da zero, sulla diagonale princiaple, sulla codiagonale inferiore e sulla codiagonale superiore:\n",
    "\n",
    "elementi diagonali $A_{i,i}=10 \\quad$, i=1,20\n",
    "\n",
    "elementi nella codiagonale inferiore $A_{i-1,i}=-12, \\quad$ i=2,..,20, \n",
    "\n",
    "elementi nella codiagonale superiore $A_{i,i+1}=-2 \\quad$ i=1,..,19"
   ]
  },
  {
   "cell_type": "code",
   "execution_count": 4,
   "id": "acf96027-d498-4cf7-8c62-ad93afd4b466",
   "metadata": {},
   "outputs": [],
   "source": [
    "#1\n",
    "A = np.diag(np.full((10,),5))\n",
    "A = (A - 12*np.eye(10, k=-1)) - (2*np.eye(10,k=+1))"
   ]
  },
  {
   "cell_type": "markdown",
   "id": "bae8a3dc-e71c-4ff4-8062-2d66c377d63f",
   "metadata": {},
   "source": [
    "**Esercizio 15**\n",
    "\n",
    "Costruire la matrice identità, denominata *I*,  della stessa dimensione di *A*"
   ]
  },
  {
   "cell_type": "code",
   "execution_count": 15,
   "id": "97edd163-0f99-4c21-8b64-08030df4b5a1",
   "metadata": {},
   "outputs": [],
   "source": [
    "#1\n",
    "l = np.identity(int(A.size / int(np.sqrt(A.size))))"
   ]
  },
  {
   "cell_type": "markdown",
   "id": "612458f4-d8f6-4015-ae74-042d73cbd9f9",
   "metadata": {},
   "source": [
    "**Esercizio 16**\n",
    "\n",
    "Facendo uso dell'operatore slicing *:* ,costruire la matrice AA selezionando dalla matrice A le righe che vanno dalla 2 alla 9 con step 2 e le colonne che vanno dalla 3 alla 6 con step 2.\n",
    "La matrice AA è una vista o una copia?\n"
   ]
  },
  {
   "cell_type": "code",
   "execution_count": 19,
   "id": "773ff936-d256-48a8-84c2-a9bb141aae25",
   "metadata": {},
   "outputs": [
    {
     "name": "stdout",
     "output_type": "stream",
     "text": [
      "True\n"
     ]
    }
   ],
   "source": [
    "#1\n",
    "AA = A[2:9:2,3:6:2]\n",
    "#2\n",
    "print(np.shares_memory(AA,A)) #View"
   ]
  },
  {
   "cell_type": "markdown",
   "id": "db2a4f82-fe57-4763-bd58-9921869c671c",
   "metadata": {},
   "source": [
    "**Esercizio 17**\n",
    "\n",
    "Facendo uso dell'operatore slicing *:*, costruire la matrice A1 selezionando dalla matrice A le colonne che vanno dalla 1 alla 5 con step 2.  Trasforma la matrice A1 in una copia."
   ]
  },
  {
   "cell_type": "code",
   "execution_count": 22,
   "id": "6782b1a1-e875-4930-8fa6-48c98783b981",
   "metadata": {},
   "outputs": [
    {
     "name": "stdout",
     "output_type": "stream",
     "text": [
      "False\n"
     ]
    }
   ],
   "source": [
    "#1\n",
    "A1 = A[:,1:5:2].copy()\n",
    "#2\n",
    "print(np.shares_memory(A1,A)) #Copy"
   ]
  },
  {
   "cell_type": "markdown",
   "id": "f5a336bc-5cf9-4400-ae23-4be1f35521de",
   "metadata": {
    "tags": []
   },
   "source": [
    "**Esercizio 18**\n",
    "\n",
    "Costruisci due numpy array A e B di shape (5,5) \n",
    "   - A formata da numeri interi casuali  nell'intervallo [1,20]\n",
    "   - B formata da numeri interi casuali  nell'intervallo [1,6]\n",
    " \n",
    "  Costruisci con una sola riga di codice le seguenti matrici\n",
    "  \n",
    "  C=A+B   dove  $\\quad c_{ij}=a_{ij}+b_{ij} \\quad i=0,..,n, \\quad j=0,...,n$\n",
    "  \n",
    "  D=A-B   dove  $\\quad d_{ij}=a_{ij}-b_{ij} \\quad i=0,..,n, \\quad j=0,...,n$\n",
    "  \n",
    "  E=A*B   dove  $\\quad e_{ij}=a_{ij}*b_{ij} \\quad i=0,..,n, \\quad j=0,...,n$\n",
    "  \n",
    "  F=A\\B   dove  $\\quad f_{ij}=a_{ij}\\b_{ij} \\quad i=0,..,n, \\quad j=0,...,n$"
   ]
  },
  {
   "cell_type": "code",
   "execution_count": 46,
   "id": "a77850ad-5b86-4116-becb-dfcdb364c346",
   "metadata": {},
   "outputs": [],
   "source": [
    "#1\n",
    "A = np.random.randint(1,21,(5,5))\n",
    "B = np.random.randint(1,6,(5,5))\n",
    "#2\n",
    "C = A+B\n",
    "D = A-B\n",
    "E = A*B\n",
    "F = A/B"
   ]
  },
  {
   "cell_type": "markdown",
   "id": "43fad425-0411-4471-962e-c79247aecb83",
   "metadata": {},
   "source": [
    "**Esercizio 19**\n",
    "\n",
    "Costruisci la matrice ottenuta facendo il prodotto scalare tra le  matrici A e B (righe per colonne)"
   ]
  },
  {
   "cell_type": "code",
   "execution_count": 53,
   "id": "12af92f5-85c2-4071-a7a1-dafa375d7040",
   "metadata": {},
   "outputs": [],
   "source": [
    "#1\n",
    "C = np.dot(A,B)"
   ]
  },
  {
   "cell_type": "markdown",
   "id": "e6ae130a-1d6c-429b-ab62-718ff805d9bc",
   "metadata": {},
   "source": [
    "**Esercizio 20**\n",
    "\n",
    "Costruisci l'array ottenuto sommando gli elementi delle righe della matrice B usando l'appropriata funzione di Numpy."
   ]
  },
  {
   "cell_type": "code",
   "execution_count": 57,
   "id": "58896c73-4b3d-4355-a999-00421f9a0754",
   "metadata": {},
   "outputs": [],
   "source": [
    "#1\n",
    "C = np.sum(B, axis=0)"
   ]
  },
  {
   "cell_type": "markdown",
   "id": "4cb04c63-c9c6-41a8-8e62-bc4497a4251b",
   "metadata": {},
   "source": [
    "**Esercizio 21** \n",
    "\n",
    "Costruisci l'array ottenuto sommando gli elementi delle colonne della matrice B usando l'appropriata funzione di Numpy."
   ]
  },
  {
   "cell_type": "code",
   "execution_count": 58,
   "id": "541b1d70-c354-4331-a479-6bc8494f2718",
   "metadata": {},
   "outputs": [],
   "source": [
    "#1\n",
    "C = np.sum(B, axis=1)"
   ]
  },
  {
   "cell_type": "markdown",
   "id": "5715d0db-b005-4256-86a0-4a94a46fdd96",
   "metadata": {},
   "source": [
    "**Esercizio 22** \n",
    "\n",
    "Somma tutti gli elementi di B usando l'appropriata funzione di Numpy."
   ]
  },
  {
   "cell_type": "code",
   "execution_count": 6,
   "id": "2680fdb0-92db-4607-afc2-f658fe972e54",
   "metadata": {},
   "outputs": [],
   "source": [
    "#1\n",
    "C = np.sum(B)"
   ]
  },
  {
   "cell_type": "markdown",
   "id": "337c76cc-d82b-4bbb-a57c-52080a6aa9cb",
   "metadata": {},
   "source": [
    "**Esercizio 23**\n",
    "\n",
    "Calcolare il minimo degli elementi di B, tra le righe, tra le colonne, il minimo di tutta la matrice B"
   ]
  },
  {
   "cell_type": "code",
   "execution_count": 11,
   "id": "32fb7f58-5b42-4d40-8a8e-7f4e7da66ff3",
   "metadata": {},
   "outputs": [],
   "source": [
    "minRowsB = np.min(B, axis=0)\n",
    "minColsB = np.min(B, axis=1)\n",
    "minAllB = np.min(B)"
   ]
  },
  {
   "cell_type": "markdown",
   "id": "30bc84d9-f2ff-42aa-95ee-b10d69e50762",
   "metadata": {},
   "source": [
    "**Esercizio 24**\n",
    "\n",
    "Calcola e memorizza in un vettore la somma degli elementi di ogni colonna di $ |B |$. Calcola successivamente il massimo di questo vettore.\n",
    "$maxsc= \\max_{j=1,n} \\sum_{i} |b_{ij}|$"
   ]
  },
  {
   "cell_type": "code",
   "execution_count": 21,
   "id": "7a45b8fc-cd15-4f02-af10-31cfeec3aad6",
   "metadata": {},
   "outputs": [],
   "source": [
    "#1\n",
    "absB = np.abs(B)\n",
    "sumColsB = np.sum(absB, axis=0)\n",
    "#2\n",
    "maxColsB = np.max(sumColsB)"
   ]
  },
  {
   "cell_type": "markdown",
   "id": "7763e180-a6f1-41d3-9af7-4fb92bacd72d",
   "metadata": {},
   "source": [
    "**Esercizio 25**\n",
    "Calcola, memorizzando in un vettore, la somma degli elementi di ogni riga  di $ |B |$. Calcola successivamente il massimo di questo vettore.\n",
    "$maxsr= \\max_{i=1,n} \\sum_{j} |b_{ij}|$"
   ]
  },
  {
   "cell_type": "code",
   "execution_count": 31,
   "id": "8c440c42-0807-440b-a965-70577714bb42",
   "metadata": {},
   "outputs": [],
   "source": [
    "#1\n",
    "absB = np.abs(B)\n",
    "sumRowsB = np.sum(absB, axis=1)\n",
    "#2\n",
    "maxRowsB = np.max(sumRowsB)"
   ]
  },
  {
   "cell_type": "markdown",
   "id": "89a136bb-2e23-4fca-9717-d32434f5f5ce",
   "metadata": {},
   "source": [
    "**Esercizio 26**\n",
    "\n",
    "Effettua nella matrice B lo scambio tra la  riga 2 e  la riga 3"
   ]
  },
  {
   "cell_type": "code",
   "execution_count": 52,
   "id": "bbb0d30f-a105-4d57-be97-22ff3811e7fb",
   "metadata": {},
   "outputs": [],
   "source": [
    "B[1],B[2] = B[2].copy(), B[1].copy()"
   ]
  },
  {
   "cell_type": "markdown",
   "id": "5a00eaef-f14c-49f9-b9d1-c8ad90627935",
   "metadata": {},
   "source": [
    "**Esercizio 27**\n",
    "\n",
    "Calcola il valore massimo della colonna 0-esima della matrice B e l'indice di riga a cui appartiene"
   ]
  },
  {
   "cell_type": "code",
   "execution_count": 67,
   "id": "55e0a82d-a67d-4642-988b-4dd6eb09fb61",
   "metadata": {},
   "outputs": [],
   "source": [
    "maxZeroColB, indexMax = np.max(B[:,0]), np.argmax(B[:,0])"
   ]
  },
  {
   "cell_type": "markdown",
   "id": "12be327e-41a9-4700-82b2-f78709585ce3",
   "metadata": {},
   "source": [
    "**Esercizio 28**   \n",
    "\n",
    "\n",
    "Scrivi una funzione border(m,n,visualizza=False) che:\n",
    "-      crea un array 2D di shape(m,n) che abbia tutti valori nulli\n",
    "-     imposta ad 1  i valori degli elementi sul bordo dell'array (prima ed ultima riga, prima e l'ultima colonna)\n",
    "-      Preveda un argomento di default che se impostato a True visualizza la matrice"
   ]
  },
  {
   "cell_type": "code",
   "execution_count": 94,
   "id": "cbd6e32e-d265-41d3-b5d4-307807764dee",
   "metadata": {},
   "outputs": [],
   "source": [
    "#1\n",
    "def border(m,n,visualizza=False):\n",
    "    A = np.zeros((m,n))\n",
    "    A[0],A[A.shape[0]-1] = np.full((1,), 1), np.full((1,), 1)\n",
    "    A[:,0],A[:,A.shape[1]-1] = np.full((1,), 1), np.full((1,), 1)\n",
    "    if visualizza:\n",
    "        print(A)\n",
    "border(5,3)"
   ]
  },
  {
   "cell_type": "markdown",
   "id": "20e88028-91cf-4f99-90b9-5d2f8148b3a9",
   "metadata": {},
   "source": [
    "**Esercizio 29**\n",
    "\n",
    "Scrivi una funzione `visualizza(f,a,b)`che prende in input una lambda function f, gli estremi dell'intervallo [a,b] su cui è definita e la visualizzi in una finestra grafica\n",
    "\n",
    "Chaima la funzione passandogli la funzione f(x)=sin(2*$\\pi$*x), [a,b]=[0,2*$\\pi$]"
   ]
  },
  {
   "cell_type": "code",
   "execution_count": 137,
   "id": "5a1450bf-81df-4c3d-85b0-0f74aebe2aff",
   "metadata": {},
   "outputs": [
    {
     "data": {
      "image/png": "[encoded data removed]",
      "text/plain": [
       "<Figure size 640x480 with 1 Axes>"
      ]
     },
     "metadata": {},
     "output_type": "display_data"
    }
   ],
   "source": [
    "import matplotlib.pyplot as plt\n",
    "\n",
    "def visualizza(f, a, b):\n",
    "    x = np.linspace(a, b, 100000)\n",
    "    y = f(x)\n",
    "    plt.plot(x, y, \"g-\")\n",
    "    plt.xlabel('x')\n",
    "    plt.ylabel('f(x)')\n",
    "    plt.title('Grafico della funzione')\n",
    "    plt.grid(True)\n",
    "    plt.show()\n",
    "visualizza(lambda x: np.sin(2*np.pi*x), 0, 2*np.pi)"
   ]
  },
  {
   "cell_type": "markdown",
   "id": "c4e0b8d0-b590-4554-9954-7333715b3c63",
   "metadata": {},
   "source": [
    "**Esercizio 30**\n",
    "\n",
    "Scrivi una funzione `visualizza2(f,a,b,f2,a2,b2)`che prende in input una lambda function f e gli estremi dell'intervallo [a,b]  su cui è definita, una lambda function f2 e gli estremi dell'intervallo su cui è definita [a2,b2] e le visualizzi sulla stessa finestra grafica.\n",
    "\n",
    "Chaima la funzione passandogli  una funzione f(x) quadratica ed una funzione f2(x) exponenziale ed [a,b]=[0,2]"
   ]
  },
  {
   "cell_type": "code",
   "execution_count": 171,
   "id": "e67b133d-b095-44ad-a8c5-bcda330bacca",
   "metadata": {},
   "outputs": [
    {
     "data": {
      "image/png": "[encoded data removed]",
      "text/plain": [
       "<Figure size 640x480 with 2 Axes>"
      ]
     },
     "metadata": {},
     "output_type": "display_data"
    }
   ],
   "source": [
    "def visualizza2(f,a,b,f2,a2,b2):\n",
    "    x1 = np.linspace(a,b,100000)\n",
    "    x2 = np.linspace(a2,b2,100000)\n",
    "    y1 = f(x1)\n",
    "    y2 = f2(x2)\n",
    "    plt.subplot(1,2,1)\n",
    "    plt.plot(x1,y1,\"g--\")\n",
    "    plt.grid(True)\n",
    "    plt.title(\"Funzione Quadratica\")\n",
    "    plt.xlabel(\"x\")\n",
    "    plt.ylabel(\"y\")\n",
    "    plt.subplot(1,2,2)\n",
    "    plt.plot(x2,y2,\"b--\")\n",
    "    plt.grid(True)\n",
    "    plt.title(\"Funzione Esponenziale\")\n",
    "    plt.xlabel(\"x\")\n",
    "    plt.ylabel(\"y\")\n",
    "    plt.show()\n",
    "visualizza2(lambda x: x**2, 0,2, lambda x: np.e**x, 0,2)"
   ]
  }
 ],
 "metadata": {
  "kernelspec": {
   "display_name": "Python 3 (ipykernel)",
   "language": "python",
   "name": "python3"
  },
  "language_info": {
   "codemirror_mode": {
    "name": "ipython",
    "version": 3
   },
   "file_extension": ".py",
   "mimetype": "text/x-python",
   "name": "python",
   "nbconvert_exporter": "python",
   "pygments_lexer": "ipython3",
   "version": "3.11.5"
  }
 },
 "nbformat": 4,
 "nbformat_minor": 5
}
