{
 "cells": [
  {
   "cell_type": "markdown",
   "id": "436b21ca-81f4-4a28-b1b3-7bcec38b8ec9",
   "metadata": {},
   "source": [
    "## Simulazione II Esame di Metodi Numerici Soluzioni##"
   ]
  },
  {
   "cell_type": "markdown",
   "id": "9a338784-8746-4014-bec9-951026190441",
   "metadata": {},
   "source": [
    "Nel file ``Test_I.mat`` sono memorizzate le matrici A1, A2 ed A3 ed i vettori b1,b2,b3. \n",
    "- Risolvere i 3 sistemi lineari aventi matrice dei coefficienti A1 e termine noto b1, matrice dei coefficienti A2 e termine noto b2, matrice dei coefficienti A3 e terimine noto b3  utilizzando il metodo più adatto per ciascuno di essi e  commentare i risultati ottenuti  giustificandoli alla luce della teoria.\n",
    "\n",
    "                                                                                            punti 12\n",
    "                                                                                            \n",
    "- Verificare se le matrici sono malcondizionate. Indicare la formula matematica dell'indice di condizionamento e spiegare perchè è importante conoscere l'indice di condizionamento di una matrice.\n",
    "                                                                                           \n",
    "                                                                                           punti 2\n",
    "\n",
    "- Dopo aver copiato nel numpy array b1p il termine noto b1 del primo sistema lineare con matrice dei coefficienti A1, effettuarne una perturbazione della prima componente nel seguente modo b1p[0]=b1p[0]+0.001*b1p[0]. Risolvere il sistema lineare con matrice A1 e termine noto perturbato b1p. Calcolare l'errore relativo sulla soluzione e l'errore relativo sul termine noto, descrivere ciò che si verifica giustificandolo alla luce della teoria.\n",
    "\n",
    "                                                                                           punti 2\n",
    "\n",
    "\n",
    "Per la lettura dei dati procedere nel seguente modo:\n",
    "\n",
    "``from scipy.io import loadmat``\n",
    "\n",
    "``import numpy as np``\n",
    "\n",
    "``dati = loadmat('Test_II.mat')``\n",
    "\n",
    "``A1=dati[\"A1\"] ``\n",
    "\n",
    "``A1=A1.astype(float)``\n",
    "\n",
    "`` b1=dati[\"b1\"] ``\n",
    "\n",
    "`` b1=b1.astype(float)``\n",
    "\n",
    "``A2=dati[\"A2\"] ``\n",
    "\n",
    "``A2=A2.astype(float)``\n",
    "\n",
    "`` b2=dati[\"b2\"] ``\n",
    "\n",
    "`` b2=b2.astype(float)``\n",
    "\n",
    "``A3=dati[\"A3\"] ``\n",
    "\n",
    "``A3=A3.astype(float)``\n",
    "\n",
    "`` b3=dati[\"b3\"] ``\n",
    "\n",
    "`` b3=b3.astype(float)``\n",
    "\n",
    "\n",
    "\n",
    "                                                                    Punti 16"
   ]
  },
  {
   "cell_type": "code",
   "execution_count": 26,
   "id": "75751cd5-4dae-4a72-9b81-d7a57a68c71e",
   "metadata": {},
   "outputs": [],
   "source": [
    "from scipy.io import loadmat\n",
    "import scipy.linalg as spl\n",
    "import numpy as np\n",
    "import matplotlib.pyplot as plt\n",
    "from SolveTriangular import *"
   ]
  },
  {
   "cell_type": "code",
   "execution_count": 27,
   "id": "f56cd7e0-ce13-4b28-81a5-7f26fc4e6968",
   "metadata": {},
   "outputs": [],
   "source": [
    "dati = loadmat('Test_I.mat')\n",
    "A1 = dati[\"A1\"]\n",
    "b1 = dati[\"b1\"]\n",
    "A1=A1.astype(float)  #ATTENZIONE: è necessario fare il cast a float, A e b sono memorizzati nel file \n",
    "#come int e python fa i calcoli in int e ci sono rallentamenti nelle iterazioni\n",
    "b1=b1.astype(float)"
   ]
  },
  {
   "cell_type": "code",
   "execution_count": 28,
   "id": "b85cfdef-0d6c-4444-b70b-9115f4a39164",
   "metadata": {},
   "outputs": [
    {
     "name": "stdout",
     "output_type": "stream",
     "text": [
      "dimensioni dell matrice  10 10\n"
     ]
    }
   ],
   "source": [
    "m,n=A1.shape\n",
    "print(\"dimensioni dell matrice \",m,n)"
   ]
  },
  {
   "cell_type": "code",
   "execution_count": 29,
   "id": "3c6f0ee5-89b8-4814-b705-bcfb7c6eb48e",
   "metadata": {},
   "outputs": [
    {
     "name": "stdout",
     "output_type": "stream",
     "text": [
      "Percentuale elementi diversi da zero  100.0 %\n"
     ]
    }
   ],
   "source": [
    "nz=np.count_nonzero(A1)/(n*m)\n",
    "perc_nz=nz*100\n",
    "print(\"Percentuale elementi diversi da zero \",perc_nz,\"%\")"
   ]
  },
  {
   "cell_type": "code",
   "execution_count": 30,
   "id": "9377c27f-84d3-44be-9b02-826ae5b2c6ed",
   "metadata": {},
   "outputs": [
    {
     "name": "stdout",
     "output_type": "stream",
     "text": [
      "La matrice è simmetrica\n",
      "Matrice definita positiva  False\n"
     ]
    }
   ],
   "source": [
    "flag=A1==A1.T\n",
    "if np.all(flag)==0:\n",
    "    print(\"La matrice non è simmetrica\")\n",
    "else:\n",
    "    print(\"La matrice è simmetrica\")\n",
    "    autovalori_pos=np.all(np.linalg.eigvals(A1))\n",
    "    print(\"Matrice definita positiva \",np.all(np.linalg.eigvals(A1)>0))\n"
   ]
  },
  {
   "cell_type": "code",
   "execution_count": 31,
   "id": "15812fa6-361a-4c3b-a032-4e5f2ccc1dad",
   "metadata": {},
   "outputs": [
    {
     "name": "stdout",
     "output_type": "stream",
     "text": [
      "[[1.]\n",
      " [1.]\n",
      " [1.]\n",
      " [1.]\n",
      " [1.]\n",
      " [1.]\n",
      " [1.]\n",
      " [1.]\n",
      " [1.]\n",
      " [1.]]\n"
     ]
    }
   ],
   "source": [
    "P,L,U = spl.lu(A1)\n",
    "P=P.T\n",
    "#Le permutazioni di righe fatte sulla matrice vengono effettuate anche sul termine noto\n",
    "y,flag=Lsolve(L,P@b1)\n",
    "x,flag=Usolve(U,y)\n",
    "print(x)"
   ]
  },
  {
   "cell_type": "code",
   "execution_count": 32,
   "id": "0b7366ef-837e-4e91-9265-919491219904",
   "metadata": {},
   "outputs": [
    {
     "name": "stdout",
     "output_type": "stream",
     "text": [
      "errore percentuale dati  0.02484464675963486\n",
      "errore percentuale soluzione  1.6171130615839198\n",
      "Condizionamento A1  120.6148722322323\n"
     ]
    }
   ],
   "source": [
    "bp=b1.copy()\n",
    "bp[1]=bp[1]+0.001*bp[1]\n",
    "yp,flag=Lsolve(L,P@bp)\n",
    "xp,flag=Usolve(U,yp)\n",
    "err_dati=np.linalg.norm(b1-bp,2)/np.linalg.norm(b1,2)\n",
    "err_soluzione=np.linalg.norm(x-xp,2)/np.linalg.norm(x,2)\n",
    "print(\"errore percentuale dati \",err_dati*100)\n",
    "print(\"errore percentuale soluzione \",err_soluzione*100)\n",
    "print(\"Condizionamento A1 \",np.linalg.cond(A1,2))"
   ]
  },
  {
   "cell_type": "code",
   "execution_count": 33,
   "id": "d0bdea43-134b-4087-9392-affd44b276c4",
   "metadata": {},
   "outputs": [],
   "source": [
    "A2 = dati[\"A2\"]\n",
    "b2 = dati[\"b2\"]\n",
    "A2=A2.astype(float)  #ATTENZIONE: è necessario fare il cast a float, A e b sono memorizzati nel file \n",
    "#come int e python fa i calcoli in int e ci sono rallentamenti nelle iterazioni\n",
    "b2=b2.astype(float)"
   ]
  },
  {
   "cell_type": "code",
   "execution_count": 34,
   "id": "3eb3531a-b1b8-46e7-a013-a7cabafafffd",
   "metadata": {},
   "outputs": [
    {
     "name": "stdout",
     "output_type": "stream",
     "text": [
      "dimensioni dell matrice  25 10\n"
     ]
    }
   ],
   "source": [
    "m,n=A2.shape\n",
    "print(\"dimensioni dell matrice \",m,n)"
   ]
  },
  {
   "cell_type": "code",
   "execution_count": 35,
   "id": "01be042a-0227-453d-a587-a5d123ca9413",
   "metadata": {},
   "outputs": [
    {
     "name": "stdout",
     "output_type": "stream",
     "text": [
      "cond A2  10000.00000000046\n"
     ]
    }
   ],
   "source": [
    "condA2=np.linalg.cond(A2,2)\n",
    "print(\"cond A2 \",condA2)\n",
    "import scipy"
   ]
  },
  {
   "cell_type": "code",
   "execution_count": 36,
   "id": "ed3f6aa3-7ca5-4637-aa7a-8e21f29c42f8",
   "metadata": {},
   "outputs": [],
   "source": [
    "def qrLS(A,b):\n",
    "    n=A.shape[1]  # numero di colonne di A\n",
    "    Q,R=scipy.linalg.qr(A)\n",
    "    h=Q.T@b\n",
    "    x,flag=Usolve(R[0:n,:],h[0:n])\n",
    "    residuo=np.linalg.norm(h[n:])**2\n",
    "    return x,residuo\n",
    "    "
   ]
  },
  {
   "cell_type": "code",
   "execution_count": 37,
   "id": "92796258-6cfd-4a3c-b5f6-36ec0dbda554",
   "metadata": {},
   "outputs": [
    {
     "name": "stdout",
     "output_type": "stream",
     "text": [
      "[[1.]\n",
      " [1.]\n",
      " [1.]\n",
      " [1.]\n",
      " [1.]\n",
      " [1.]\n",
      " [1.]\n",
      " [1.]\n",
      " [1.]\n",
      " [1.]]\n"
     ]
    }
   ],
   "source": [
    "x2,residuo=qrLS(A2,b2)\n",
    "print(x2)"
   ]
  },
  {
   "cell_type": "code",
   "execution_count": 38,
   "id": "fd7e1631-ebd7-4fb4-a98d-19ec9115746d",
   "metadata": {},
   "outputs": [],
   "source": [
    "\n",
    "A3 = dati[\"A3\"]\n",
    "b3 = dati[\"b3\"]\n",
    "A3=A3.astype(float)  #ATTENZIONE: è necessario fare il cast a float, A e b sono memorizzati nel file \n",
    "#come int e python fa i calcoli in int e ci sono rallentamenti nelle iterazioni\n",
    "b3=b3.astype(float)"
   ]
  },
  {
   "cell_type": "code",
   "execution_count": 39,
   "id": "ea66923c-cee5-42d7-a8c4-e10fdb441f2c",
   "metadata": {},
   "outputs": [
    {
     "name": "stdout",
     "output_type": "stream",
     "text": [
      "dimensioni dell matrice  225 225\n"
     ]
    },
    {
     "data": {
      "text/plain": [
       "<matplotlib.image.AxesImage at 0x1edd1abed20>"
      ]
     },
     "execution_count": 39,
     "metadata": {},
     "output_type": "execute_result"
    },
    {
     "data": {
      "image/png": "[encoded data removed]",
      "text/plain": [
       "<Figure size 640x480 with 1 Axes>"
      ]
     },
     "metadata": {},
     "output_type": "display_data"
    }
   ],
   "source": [
    "m,n=A3.shape\n",
    "print(\"dimensioni dell matrice \",m,n)\n",
    "plt.spy(A3)"
   ]
  },
  {
   "cell_type": "code",
   "execution_count": 40,
   "id": "27493744-28b6-485f-8580-19f9db1f896a",
   "metadata": {},
   "outputs": [
    {
     "name": "stdout",
     "output_type": "stream",
     "text": [
      "La matrice è simmetrica\n",
      "Matrice definita positiva  True\n",
      "Condizionamento di A  103.08686891981725\n"
     ]
    }
   ],
   "source": [
    "flag=A3==A3.T\n",
    "if np.all(flag)==0:\n",
    "    print(\"La matrice non è simmetrica\")\n",
    "else:\n",
    "    print(\"La matrice è simmetrica\")\n",
    "    autovalori_pos=np.all(np.linalg.eigvals(A3)>0)\n",
    "    print(\"Matrice definita positiva \",autovalori_pos)\n",
    "    \n",
    "print(\"Condizionamento di A \",np.linalg.cond(A3))"
   ]
  },
  {
   "cell_type": "code",
   "execution_count": 41,
   "id": "4a4d2fa6-dd5e-490a-b04f-a143330cba39",
   "metadata": {},
   "outputs": [],
   "source": [
    "def steepestdescent(A,b,x0,itmax,tol):\n",
    " \n",
    "    n,m=A.shape\n",
    "    if n!=m:\n",
    "        print(\"Matrice non quadrata\")\n",
    "        return [],[]\n",
    "    \n",
    "    \n",
    "   # inizializzare le variabili necessarie\n",
    "    x = x0\n",
    "\n",
    "     \n",
    "    r = A@x-b\n",
    "    p = -r\n",
    "    it = 0\n",
    "    nb=np.linalg.norm(b)\n",
    "    errore=np.linalg.norm(r)/nb\n",
    "    vec_sol=[]\n",
    "    vec_sol.append(x)\n",
    "    vet_r=[]\n",
    "    vet_r.append(errore)\n",
    "     \n",
    "# utilizzare il metodo del gradiente per trovare la soluzione\n",
    "    while errore>= tol and it< itmax:\n",
    "        it=it+1\n",
    "        Ap=A@p\n",
    "       \n",
    "        alpha = -(r.T@p)/(p.T@Ap)\n",
    "                \n",
    "        x = x + alpha*p  #aggiornamento della soluzione nella direzione opposta a quella del gradiente: alpha mi dice dove fermarmi \n",
    "        #nella direzione del gradiente affinche F(xk+t p ) <F(xk)\n",
    "        \n",
    "         \n",
    "        vec_sol.append(x)\n",
    "        r=r+alpha*Ap\n",
    "        errore=np.linalg.norm(r)/nb\n",
    "        vet_r.append(errore)\n",
    "        p = -r #Direzione opposta alla direzione del gradiente\n",
    "        \n",
    "     \n",
    "    return x,vet_r,vec_sol,it\n",
    "\n",
    "\n",
    "def conjugate_gradient(A,b,x0,itmax,tol):\n",
    "    n,m=A.shape\n",
    "    if n!=m:\n",
    "        print(\"Matrice non quadrata\")\n",
    "        return [],[]\n",
    "    \n",
    "    \n",
    "   # inizializzare le variabili necessarie\n",
    "    x = x0\n",
    "    \n",
    "    r = A.dot(x)-b\n",
    "    p = -r\n",
    "    it = 0\n",
    "    nb=np.linalg.norm(b)\n",
    "    errore=np.linalg.norm(r)/nb\n",
    "    vec_sol=[]\n",
    "    vec_sol.append(x0)\n",
    "    vet_r=[]\n",
    "    vet_r.append(errore)\n",
    "# utilizzare il metodo del gradiente coniugato per calcolare la soluzione\n",
    "    while errore >= tol and it< itmax:\n",
    "        it=it+1\n",
    "        Ap=A.dot(p)\n",
    "        alpha = -(r.T@p)/(p.T@Ap)\n",
    "        x = x + alpha *p\n",
    "        vec_sol.append(x)\n",
    "        rtr_old=r.T@r\n",
    "        r=r+alpha*Ap\n",
    "        gamma=r.T@r/rtr_old\n",
    "        errore=np.linalg.norm(r)/nb\n",
    "        vet_r.append(errore)\n",
    "        p = -r+gamma*p  #La nuova direzione appartiene al piano individuato da -r e p. gamma è scelto in maniera tale che la nuova direzione\n",
    "        #sia coniugata rispetto alla direzione precedente( che geometricamente significa che punti verso il centro)\n",
    "   \n",
    "    \n",
    "    return x,vet_r,vec_sol,it\n"
   ]
  },
  {
   "cell_type": "code",
   "execution_count": 43,
   "id": "3f2414fa-c067-4e4f-b00e-1b464dcfac42",
   "metadata": {},
   "outputs": [
    {
     "name": "stdout",
     "output_type": "stream",
     "text": [
      "iterazioni SD 1212\n",
      "iterazioni CG 31\n",
      "Condizionamento di A3 103.08686891981725\n"
     ]
    },
    {
     "data": {
      "text/plain": [
       "[<matplotlib.lines.Line2D at 0x1edd1b614f0>,\n",
       " <matplotlib.lines.Line2D at 0x1edd1b61520>]"
      ]
     },
     "execution_count": 43,
     "metadata": {},
     "output_type": "execute_result"
    },
    {
     "data": {
      "image/png": "[encoded data removed]",
      "text/plain": [
       "<Figure size 640x480 with 1 Axes>"
      ]
     },
     "metadata": {},
     "output_type": "display_data"
    }
   ],
   "source": [
    "x0 = np.zeros_like(b3)\n",
    "itmax = 1500\n",
    "toll = 1e-11\n",
    "xSD,vet_rSD,vec_solSD,itSD=steepestdescent(A3,b3,x0,itmax,toll)\n",
    "xCG,vet_rCG,vec_solCG,itCG=conjugate_gradient(A3,b3,x0,itmax,toll)\n",
    "print('iterazioni SD', itSD)\n",
    "print('iterazioni CG', itCG)\n",
    "print(\"Condizionamento di A3\",np.linalg.cond(A3,2))\n",
    "plt.semilogy(np.arange(itSD+1),vet_rSD,np.arange(itCG+1),vet_rCG)"
   ]
  },
  {
   "cell_type": "markdown",
   "id": "c7c0fc1b-bc94-49c2-ac4f-7f5aef30ee48",
   "metadata": {},
   "source": [
    "## Esercizio 2 ##"
   ]
  },
  {
   "cell_type": "markdown",
   "id": "ac5bd596-03c0-403c-a91d-c009267ab3f7",
   "metadata": {},
   "source": [
    "Per ogni $k \\in N$ l'equazione di II grado $x^2+(2^{2k}-3^{-2k})x-2^{2k}3^{-2k}=0 $ ha come soluzioni esatte $x_1=-2^{2k}$,$x_2=3^{-2k}$,"
   ]
  },
  {
   "cell_type": "markdown",
   "id": "7199ac8a-fea4-41e2-a06b-95020434c852",
   "metadata": {},
   "source": [
    "Scrivere lo script python in cui\n",
    "- si implementa la formula risolutiva delle equazioni di II grado per calcolare le  due soluzioni per $k$ che  assume valori interi tra 6 e 16;  [**Punti 2**]"
   ]
  },
  {
   "cell_type": "code",
   "execution_count": null,
   "id": "c6ff8349-3eb5-49b2-9a43-72dba560170e",
   "metadata": {},
   "outputs": [],
   "source": [
    "import numpy as np\n",
    "import matplotlib.pyplot as plt\n"
   ]
  },
  {
   "cell_type": "code",
   "execution_count": null,
   "id": "27105d6e-8f64-4e1e-bec4-599d3f562e92",
   "metadata": {},
   "outputs": [],
   "source": [
    "k=np.linspace(6.0,16.0,11)\n",
    "a=1\n",
    "b=2**(2*k)-3**(-2*k)\n",
    "c=-2**(2*k)*3**(-2*k)\n",
    "\n",
    "x1_true=-2**(2*k)\n",
    "x2_true=3**(-2*k)\n",
    "Delta=b**2-4*a*c\n",
    "x1=(-b-np.sqrt(Delta))/2\n",
    "x2=(-b+np.sqrt(Delta))/2\n"
   ]
  },
  {
   "cell_type": "markdown",
   "id": "160a8638-ea35-489f-9ff4-ab13bd7c0603",
   "metadata": {},
   "source": [
    "- per entrambe le soluzioni, si calcoli l'errore relativo commesso al variare di k che assume valori interi tra 6 e 16;   [**Punti 1**]"
   ]
  },
  {
   "cell_type": "code",
   "execution_count": null,
   "id": "7171b784-f037-4b92-b4c1-eb278e272692",
   "metadata": {},
   "outputs": [],
   "source": [
    "err_x1=np.abs(x1-x1_true)/np.abs(x1_true)\n",
    "err_x2=np.abs(x2-x2_true)/np.abs(x2_true)\n"
   ]
  },
  {
   "cell_type": "markdown",
   "id": "d3874f87-91f9-47de-b05a-928d840e86bd",
   "metadata": {},
   "source": [
    "- si rappresentino in un grafico gli andamenti dei due errori relativi calcolati nel punto precedente; [**Punti 1**]"
   ]
  },
  {
   "cell_type": "code",
   "execution_count": null,
   "id": "864a26cb-185b-4536-9be1-8f11dd2a8f15",
   "metadata": {},
   "outputs": [],
   "source": [
    "\n",
    "plt.plot(np.linspace(6,16,11),err_x1,'o-',np.linspace(6,16,11),err_x2,'*--')\n",
    "plt.legend(['err_x1','err_x2'])"
   ]
  },
  {
   "cell_type": "markdown",
   "id": "0094aaef-c1e9-4aed-ace7-d1c89638e136",
   "metadata": {},
   "source": [
    "- osservando i grafici ottenuti, si dica se le formule utilizzate per calcolare le due soluzioni hanno dato luogo ad algoritmi stabili, motivando opportunamente la risposta alla luce della teoria. [**Punti 6**]"
   ]
  },
  {
   "cell_type": "code",
   "execution_count": null,
   "id": "d3b4b616-6c1c-418a-b40b-86dd49ba7e59",
   "metadata": {},
   "outputs": [],
   "source": [
    "\n",
    "print(\"b=\",b)\n",
    "print(\"c=\",c)\n",
    "Delta=b**2-4*a*c\n",
    "print('Spacing',np.spacing(b**2))\n",
    "print(\"4*a*c\",4*a*c)\n",
    "print(\"B**2\",b**2)\n",
    "print(\"4*a*c\",4*a*c)"
   ]
  },
  {
   "cell_type": "markdown",
   "id": "283a9ff0-0abb-4469-b868-8b9b9918ebb0",
   "metadata": {},
   "source": [
    "- in caso di instabilita', si fornisca un algoritmo di calcolo stabile e si mostrino in un nuovo grafico gli\n",
    "andamenti dei nuovi errori relativi ottenuti. [**Punti 6**]"
   ]
  },
  {
   "cell_type": "code",
   "execution_count": null,
   "id": "d2a7244a-db9e-4343-bfce-88253f70f676",
   "metadata": {},
   "outputs": [],
   "source": [
    "x2_new=c/(a*x1)\n",
    "err_x2_new=np.abs(x2_new-x2_true)/np.abs(x2_true)\n",
    "plt.plot(np.linspace(6,16,11),err_x2_new)\n",
    "plt.legend(['err_x2_new'])"
   ]
  },
  {
   "cell_type": "code",
   "execution_count": null,
   "id": "32431d25-5f1a-4501-9850-91acd59c8735",
   "metadata": {},
   "outputs": [],
   "source": []
  },
  {
   "cell_type": "code",
   "execution_count": null,
   "id": "2736096d-c976-411d-97e8-ae1bbdfd2ce1",
   "metadata": {},
   "outputs": [],
   "source": []
  }
 ],
 "metadata": {
  "kernelspec": {
   "display_name": "Python 3 (ipykernel)",
   "language": "python",
   "name": "python3"
  },
  "language_info": {
   "codemirror_mode": {
    "name": "ipython",
    "version": 3
   },
   "file_extension": ".py",
   "mimetype": "text/x-python",
   "name": "python",
   "nbconvert_exporter": "python",
   "pygments_lexer": "ipython3",
   "version": "3.12.3"
  }
 },
 "nbformat": 4,
 "nbformat_minor": 5
}
