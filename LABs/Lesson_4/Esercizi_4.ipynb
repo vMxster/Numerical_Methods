{
 "cells": [
  {
   "cell_type": "markdown",
   "id": "b97be3ab-d6dd-495f-a342-e5e837cfb8bc",
   "metadata": {},
   "source": [
    "# Esercitazione 4 - 12 Marzo 2024 - Soluzioni"
   ]
  },
  {
   "cell_type": "markdown",
   "id": "3f58ec10-478d-463a-9828-9f4d7fbd2f2c",
   "metadata": {},
   "source": [
    "Esplorate le caratteristiche dell'insieme dei numeri di macchina F($\\beta$,t,L,U) sul vostro calcolatore utilizzando il comando sys.float_info, dopo aver importato im modulo sys:\n",
    "\n",
    "import sys\n",
    "\n",
    "print(sys.float_info)"
   ]
  },
  {
   "cell_type": "code",
   "execution_count": 1,
   "id": "48a1d895-285d-4c9c-9565-864c1c1b37a0",
   "metadata": {
    "tags": []
   },
   "outputs": [],
   "source": [
    "import numpy as np"
   ]
  },
  {
   "cell_type": "code",
   "execution_count": 2,
   "id": "b28ed9cc-eb18-4d62-9ced-05fdabdab03e",
   "metadata": {
    "tags": []
   },
   "outputs": [
    {
     "name": "stdout",
     "output_type": "stream",
     "text": [
      "sys.float_info(max=1.7976931348623157e+308, max_exp=1024, max_10_exp=308, min=2.2250738585072014e-308, min_exp=-1021, min_10_exp=-307, dig=15, mant_dig=53, epsilon=2.220446049250313e-16, radix=2, rounds=1)\n"
     ]
    }
   ],
   "source": [
    "import sys\n",
    "print(sys.float_info)\n",
    " "
   ]
  },
  {
   "cell_type": "markdown",
   "id": "224ac7e6-31df-4f15-8ffc-9c82bd21c82e",
   "metadata": {},
   "source": [
    "- **1.**  Calcolare lo spacing in  $[2^{52}, 2^{53}]$.\n",
    "    - Sia $x=2^{52}$ individuare il numero successivo a $2^{52}$ ed assegnarlo ad una variabile  y.\n",
    "    - Cosa succede se consideriamo il valore z=x+0.5?\n",
    "    - Cosa succede se consideriamo il valore q=y+0.5?\n",
    "  "
   ]
  },
  {
   "cell_type": "code",
   "execution_count": 4,
   "id": "3c4bd904-36d8-4122-ad53-a9e13b1ad2c0",
   "metadata": {
    "tags": []
   },
   "outputs": [
    {
     "name": "stdout",
     "output_type": "stream",
     "text": [
      "Spacing  1\n",
      "Spacing  1.0\n",
      "x= 4503599627370496.0 y= 4503599627370497.0\n",
      "z= 4503599627370496.0 q= 4503599627370498.0\n"
     ]
    }
   ],
   "source": [
    "p=52\n",
    "t=53\n",
    "beta=2\n",
    "spacing=beta**(p+1-t)\n",
    "print(\"Spacing \",spacing)\n",
    "x=2.0**52   \n",
    "y=x+spacing #Numero di macchina successivo a 2**52        \n",
    "print(\"x=\",x, \"y=\",y)\n",
    "z= x+0.5  #Somma ad x (numero pari),  un numero inferiore allo spacing in 2**52,  z risulta uguale ad x\n",
    "q=y+0.5  #Somma ad y (numero dispari),  un numero inferiore allo spacing in 2**52, per il rounding to even z risulta uguale ad y+1\n",
    "print(\"z=\",z,\"q=\",q)\n"
   ]
  },
  {
   "cell_type": "markdown",
   "id": "c73d1758-eb82-48af-8618-6dfb522dcdd6",
   "metadata": {},
   "source": [
    "- **2** Calcolare la cardinalità dell'insieme dei numeri finiti di Python"
   ]
  },
  {
   "cell_type": "code",
   "execution_count": 5,
   "id": "32fae393-7a99-4a64-8131-49bc337528ad",
   "metadata": {
    "tags": []
   },
   "outputs": [
    {
     "name": "stdout",
     "output_type": "stream",
     "text": [
      "cardinalita'  dell'insieme dei numei finiti in Python 1.842873e+19\n"
     ]
    }
   ],
   "source": [
    "L=-1022\n",
    "U=1023\n",
    "t=53\n",
    "beta=2\n",
    "# la caridnalità dell'insieme dei numeri finiti di Python è $2 \\cdot \\beta(\\beta^{t-1} (U-L+1) +1$\n",
    "cardin=2*(beta-1)*beta**(t-1)*(U-L+1)+1\n",
    "print(\"cardinalita'  dell'insieme dei numei finiti in Python {:10e}\".format(cardin))"
   ]
  },
  {
   "cell_type": "markdown",
   "id": "cee853bd-aca6-47f4-980f-7e44473f7523",
   "metadata": {},
   "source": [
    "### - **3**  Verificare numericamente che $\\texttt{eps} = 2^{-52}$, spacing nell'intervallo $[1, 2]$,\n",
    "è il piu' piccolo $x$ tale che $fl(1 + x)$ è  diverso da $1$."
   ]
  },
  {
   "cell_type": "code",
   "execution_count": 10,
   "id": "b73c7363-7460-4b39-864a-20739ff12ad9",
   "metadata": {
    "tags": []
   },
   "outputs": [
    {
     "name": "stdout",
     "output_type": "stream",
     "text": [
      "Spacing in [1,2] 2.220446049250313e-16\n",
      "Valore di f  1.0\n",
      "Valore successuvi ad f, dato da f+s= 1.0000000000000002\n",
      "f+s/2= 1.0\n"
     ]
    }
   ],
   "source": [
    "p=0\n",
    "t=53\n",
    "\n",
    "f=2.0**p  #numero floating point\n",
    "s=2**(p+1-t) #spacing sul segmento [2^p, 2^(p+1)]=[1,2]\n",
    "print(\"Spacing in [1,2]\",s)\n",
    "#..............................................\n",
    "f1=f+s;     #numero floating point successivo a f\n",
    "f2=f+s/2;   #risulta f\n",
    "print(\"Valore di f \", f)\n",
    "print(\"Valore successuvi ad f, dato da f+s=\",f1)\n",
    "print(\"f+s/2=\",f2)  #Ho sommato ad una quantità più piccola dello spacing in [1,2]\n",
    "\n",
    "\n"
   ]
  },
  {
   "cell_type": "markdown",
   "id": "d19cd104-d1ea-4444-996c-0a9672063450",
   "metadata": {},
   "source": [
    "- **4.** Siano $a=1.234567890123400 e+15$, $b=-1.234567890123401 e+15$, $c=0.06$. \n",
    "  Calcolare $(a+b)+c$, $(a+c)+b$, $a+(b+c)$. Che cosa si osserva? Ripetere l'esercizio con $a=0.23371258 e-4$, $b=0.33678429 e+2$, $c=-0.33677911 e+2$."
   ]
  },
  {
   "cell_type": "code",
   "execution_count": 15,
   "id": "b8b8fe87-e2ed-41a1-85b6-11de176e56b7",
   "metadata": {
    "tags": []
   },
   "outputs": [
    {
     "name": "stdout",
     "output_type": "stream",
     "text": [
      "(a+b)+c= -0.94\n",
      "(a+c)+b= -1.0\n",
      "a+(b+c)= -1.0\n",
      "spacing  0.25\n"
     ]
    }
   ],
   "source": [
    "a=0.1234567890123400e+16  \n",
    "b=-0.1234567890123401e+16\n",
    "c=0.06\n",
    "ris1=(a+b)+c\n",
    "print('(a+b)+c=',ris1)\n",
    "ris2=(a+c)+b\n",
    "print('(a+c)+b=',ris2)\n",
    "ris3=a+(b+c)\n",
    "print('a+(b+c)=',ris2)\n",
    "#Da questo esprimento di trova che non vale la proprietà associativa tra i numeri di macchina.\n",
    "#Calcoliamo lo spacing del sottointervallo dell'asse reale a cui appartiengono a e b\n",
    "s=np.spacing(a)\n",
    "print(\"spacing \",s)\n",
    "#Poichè lo spacing è 0.25 quando ad a (oppure b) andiamo a sommare c=0.06, (più piccolo dello spacing), si verifica il fenomeno di\n",
    "# e di assorbimento (fl(a+c)=fl(a) e fl(b+c)=b"
   ]
  },
  {
   "cell_type": "code",
   "execution_count": 16,
   "id": "d66342b6-9654-4923-8f92-0824664579ef",
   "metadata": {
    "tags": []
   },
   "outputs": [
    {
     "name": "stdout",
     "output_type": "stream",
     "text": [
      "(a+b)+c= 0.0005413712580022434\n",
      "(a+c)+b= 0.0005413712580022434\n",
      "a+(b+c)= 0.0005413712580022434\n",
      "a 2.3371258e-05 b= 33.678429 a+c 33.678452371258004\n",
      "Spacing di b 7.105427357601002e-15\n"
     ]
    }
   ],
   "source": [
    "a=0.23371258e-4\n",
    "b=0.33678429e+2\n",
    "c=-0.33677911e+2\n",
    "ris1=(a+b)+c\n",
    "print('(a+b)+c=',ris1)\n",
    "ris2=(a+c)+b\n",
    "print('(a+c)+b=',ris2)\n",
    "ris3=a+(b+c)\n",
    "print('a+(b+c)=',ris2)\n",
    "print(\"a\",a,\"b=\",b,\"a+c\",a+b)\n",
    "print(\"Spacing di b\", np.spacing(b)) #In questo caso non si verificano problemi di assorbimento perchè le quantità in gioco che sommiamo a b sono più grandi dello spacing."
   ]
  },
  {
   "cell_type": "markdown",
   "id": "269a23ac-daeb-49f4-b1f1-26a3b5cd8300",
   "metadata": {},
   "source": [
    "- **4** Costruire un numpy array costituito da n=10 valori tutti uguali a 0.1\n",
    "-     Effettuate la somma utilizzando un ciclo for.\n",
    "-     Effettuate la somma effettuando la somma con la funzione sum del modulo numpy.\n",
    "  Cosa osservate? Cercate di giustificare i risultati "
   ]
  },
  {
   "cell_type": "code",
   "execution_count": 17,
   "id": "167a77c6-97a9-40ac-a9da-8fe4f10445c5",
   "metadata": {},
   "outputs": [
    {
     "name": "stdout",
     "output_type": "stream",
     "text": [
      "0.9999999999999999\n",
      "1.0\n"
     ]
    }
   ],
   "source": [
    "n=10\n",
    "x=np.ones((n,))*0.1\n",
    "s=0.0\n",
    "for i in range(n):\n",
    "    s=s+x[i];\n",
    "\n",
    "print(s)\n",
    "print(np.sum(x))\n",
    "#Ci aspetteremmo che sommamndo 10 valori uguali ad 0.1, la somma con il ciclo for restituisse il valore 1. Il valore approssimato 0.999999999999999 ottenuto è giustificato\n",
    "#dal fatto che il numero decimale 0.1, che ha un numero di cifre finito per la mantissa, in base b2, che è quella con cui il calcolatore rappresenta i numeri, ha una rappresentazione\n",
    "#periodica infinita, 0.1=0.0001100110011001100.......... per cui l'arrotondamento a 53 bit, provoca un errore\n",
    "#La funzione np.sum usa un algortimo più stabile e fornisce il risultato esatto."
   ]
  },
  {
   "cell_type": "markdown",
   "id": "960d25c1-9677-4b1e-92c1-c16870d520b6",
   "metadata": {},
   "source": [
    "- **5.** Si considerino le espressioni $y_1=\\sqrt{x^2+1}-x$ e $y_2=\\frac{1}{\\sqrt{x^2+1}+x}$. Calcolare il valore di $y_1$ e $y_2$ per $x=7777$ e $x=77777777$. Che cosa si osserva? Commentare i risultati ottenuti."
   ]
  },
  {
   "cell_type": "code",
   "execution_count": 24,
   "id": "09a21be0-d8a6-4c31-af92-3ce16da092a0",
   "metadata": {
    "tags": []
   },
   "outputs": [
    {
     "name": "stdout",
     "output_type": "stream",
     "text": [
      "x**2= 60481729.0 x**2+1= 60481730.0 sqrt(x^2+1)=2, 7777.000064292143\n",
      "x= 7777.0 y1(x)= 6.429214317904552e-05 y2(x)= 6.429214323431402e-05\n",
      "Spacing in x**2 =  60481729.0  dato da  7.450580596923828e-09\n",
      "errore relativo caso 1  8.59646147292077e-10\n",
      "-----------------------------------------\n",
      "Spacing in  x**2= 6049382595061729.0  dato da  1.0\n",
      "x**2= 6049382595061729.0 x**2+1= 6049382595061730.0 sqrt(x^2+1)=2, 77777777.0\n",
      "x= 77777777.0 y1(x)= 0.0 y2(x)= 6.428571492857143e-09\n",
      "errore relativo caso 2  1.0\n"
     ]
    }
   ],
   "source": [
    "import math\n",
    "\n",
    "#In aritmetica esatta, y1 e y2 sono equivalenti, ossia\n",
    "#y1=sqrt(x^2+1)-x=(sqrt(x^2+1)-x)*(sqrt(x^2+1)+x)/(sqrt(x^2+1)+x)=1/(sqrt(x^2+1)+x)=y2\n",
    "\n",
    "y1=lambda x: math.sqrt(x**2+1)-x\n",
    "y2= lambda x: 1/(math.sqrt(x**2+1)+x)\n",
    "\n",
    "\n",
    "#%%%%%%%%%%%%%%%%%%%%%%%%%%%%%%%%%%%%%%%%%%%%%%%%%%%%\n",
    "#Valutando  y1 e y2 per x=7777, le due formule danno lo stesso risultato perchè \n",
    "#sqrt(x^2+1) è una \"buona approssimazione\" della radice quadrata, e quindi y1 non è affetto da cancellazione numerica\n",
    "x=7777.0;\n",
    "print(\"x**2=\", x**2, \"x**2+1=\",x**2+1, \"sqrt(x^2+1)=2,\",math.sqrt(x**2+1))\n",
    "print(\"x=\",x,\"y1(x)=\",y1(x),\"y2(x)=\",y2(x))\n",
    "print(\"Spacing in x**2 = \",x**2,\" dato da \",np.spacing(x**2))\n",
    "err=abs((y1(x)-y2(x))/y2(x))\n",
    "print(\"errore relativo caso 1 \",err)\n",
    "print(\"-----------------------------------------\")\n",
    "\n",
    "\n",
    "#%%%%%%%%%%%%%%%%%%%%%%%%%%%%%%%%%%%%%%%%%%%%%%%%%%%%%\n",
    "#Valutando  y1 e y2 per x=77777777, le due formule non danno lo stesso risultato perchè, nonostante lo spacing per il valore di x**2 per questo valore di x è uguale ad 1,\n",
    "#l'algoritmo iterativo di estrazione della radice quadrata produce una perdita di cifre significative.\n",
    "\n",
    "x=77777777.0\n",
    "\n",
    "print(\"Spacing in  x**2=\",x**2,\" dato da \",np.spacing(x**2))\n",
    "print(\"x**2=\", x**2, \"x**2+1=\",x**2+1, \"sqrt(x^2+1)=2,\",math.sqrt(x**2+1))\n",
    "# Esempio di cancellazione numerica in y1:\n",
    "print(\"x=\",x,\"y1(x)=\",y1(x),\"y2(x)=\",y2(x))\n",
    "#La cancellazione di cifre significative è dovuta all'estrazione della radice quadrata\n",
    "err=abs((y1(x)-y2(x))/y2(x))\n",
    "print(\"errore relativo caso 2 \",err)"
   ]
  },
  {
   "cell_type": "markdown",
   "id": "e3d8c3b3-d514-41ec-a6f2-eb22311ab157",
   "metadata": {},
   "source": [
    "- **6.** Valutare in aritmetica floating point l'espressione\n",
    "$$A(x)=\\frac{1}{x}-\\frac{1}{(x+1)}$$  nel vettore   $x=[10^0, 10^1,... ,10^{20}]$ contenente potenze successive  di $10$,  Si calcoli per ogni elemento di x l'errore relativo considerando come valore esatto quello calcolato usando  l'espressione algebricamente equivalente\n",
    "$$\n",
    "B(x)=\\frac{1}{x (x+1)}.\n",
    "$$ Si visualizzi l'errore relativo in un grafico in scala logaritmica su $x$ e $y$"
   ]
  },
  {
   "cell_type": "code",
   "execution_count": 25,
   "id": "4e2ae582-3b6d-4afb-ac80-006ce1d03ae6",
   "metadata": {
    "tags": []
   },
   "outputs": [
    {
     "name": "stdout",
     "output_type": "stream",
     "text": [
      "x= [1.e+00 1.e+01 1.e+02 1.e+03 1.e+04 1.e+05 1.e+06 1.e+07 1.e+08 1.e+09\n",
      " 1.e+10 1.e+11 1.e+12 1.e+13 1.e+14 1.e+15 1.e+16 1.e+17 1.e+18 1.e+19\n",
      " 1.e+20]\n",
      "spacing  [2.22044605e-16 1.77635684e-15 1.42108547e-14 1.13686838e-13\n",
      " 1.81898940e-12 1.45519152e-11 1.16415322e-10 1.86264515e-09\n",
      " 1.49011612e-08 1.19209290e-07 1.90734863e-06 1.52587891e-05\n",
      " 1.22070312e-04 1.95312500e-03 1.56250000e-02 1.25000000e-01\n",
      " 2.00000000e+00 1.60000000e+01 1.28000000e+02 2.04800000e+03\n",
      " 1.63840000e+04]\n",
      "Errore relativo  [0.00000000e+00 3.81639165e-16 8.21283146e-16 2.16209395e-14\n",
      " 6.38647291e-14 6.25044601e-13 1.07548935e-10 9.28145750e-10\n",
      " 1.03187712e-08 1.50211282e-07 6.14600376e-07 3.17244773e-08\n",
      " 4.84358805e-05 9.06716545e-04 6.03525942e-03 1.39238685e-02\n",
      " 1.00000000e+00 1.00000000e+00 1.00000000e+00 1.00000000e+00\n",
      " 1.00000000e+00]\n"
     ]
    }
   ],
   "source": [
    "import numpy as np\n",
    "import matplotlib.pyplot as plt\n",
    "\n",
    "'''\n",
    "Utilizziamo il modulo numpy perche' lavorare con in numpy array ci permette di eseguire le operazioni su interi numpy array senza \n",
    "sviluppare i cicli\n",
    "'''\n",
    "\n",
    "#L'istruzione seguente calcola il numpy array [1,1e+1,1e+2,....,1e+20]\n",
    "x=10.0**np.arange(21)    #utilizzo 10.0 per avere un numpy array x con dtype float.\n",
    "\n",
    "#Valutiamo le espressioni A(x) e B(x) su tutto il numpay array x. Notare che A(x) e B(x) sono algebricamente equivalenti.\n",
    "\n",
    "Ax=1/x-1/(x+1);\n",
    "Bx=1/(x*(x+1));\n",
    "\n",
    "#Calcoliamo sperimentalmente l'errore relativo di fl(A(x)) rispetto alla formula esatta B(x)\n",
    "Erelx=np.abs(Ax-Bx)/np.abs(Bx)\n",
    "# Calcoliamo lo spacing per ogni componennte del vettore x\n",
    "print(\"x=\",x)\n",
    "print(\"spacing \",np.spacing(x))\n",
    "print(\"Errore relativo \",Erelx)\n",
    "#Notiamo che a partire da x= 1.e+16, lo spacing è maggiore di 1, quindi nella formula A(x)=1/x-1/(x+1), il valore 1/(x+1) \n",
    "#viene approssimato ad (1/x), quindi A(x) vale zero, e quindi, a partire da x=1.e+16, l'errore relativo rispetto al\n",
    "# valore esatto dato da B(x) risulta #1 cioè pari al 100%)"
   ]
  },
  {
   "cell_type": "code",
   "execution_count": 53,
   "id": "96673aa9-3c9e-4ad7-98e1-6d7c8999ed8b",
   "metadata": {
    "tags": []
   },
   "outputs": [
    {
     "data": {
      "text/plain": [
       "[<matplotlib.lines.Line2D at 0x1df1a15f880>]"
      ]
     },
     "execution_count": 53,
     "metadata": {},
     "output_type": "execute_result"
    },
    {
     "data": {
      "image/png": "[encoded data removed]",
      "text/plain": [
       "<Figure size 432x288 with 1 Axes>"
      ]
     },
     "metadata": {
      "needs_background": "light"
     },
     "output_type": "display_data"
    }
   ],
   "source": [
    "plt.loglog(x,Erelx,'b-')"
   ]
  },
  {
   "cell_type": "markdown",
   "id": "27155dcd-6580-4e3d-aac9-fa42b717bf70",
   "metadata": {},
   "source": [
    "- **7-**  Risolvere l'equazione $x^2+10^k x+1=0$ con k in range(1,9). \n",
    "\n",
    "- Scrivere un codice Python che calcola le due radici: x1=(-b+sqrt(Delta))/2  e x2=(-b-sqrt(Delta))/2, dove Delta=b^2-4ac,  per tutti i valori di k in range(1,9)\n",
    "\n",
    "- Calcolare l'errore relativo della soluzione numerica x1 rispetto alla soluzione in aritmetica reale, che per valori di k alti è  uguale a $10^{-k}$, altrimenti è una sua approssimazione. \n",
    "\n",
    "- Visualizzare l'errore relativo per ogni valore di k.\n",
    "\n",
    "- Proporre un algoritmo aleternativo per il calcolo di una delle due soluzioni, che fornisca errore relativo inferiore."
   ]
  },
  {
   "cell_type": "code",
   "execution_count": 29,
   "id": "20e9b59b-816d-490a-b389-e2c375a1439c",
   "metadata": {
    "tags": []
   },
   "outputs": [
    {
     "name": "stdout",
     "output_type": "stream",
     "text": [
      "(8,)\n",
      "[1.02051443e-02 1.00020005e-04 1.00002262e-06 1.11176632e-08\n",
      " 3.38535756e-07 7.61449337e-06 3.48484516e-03 2.54941940e-01]\n",
      "spacing per b**2  [1.42108547e-14 1.81898940e-12 1.16415322e-10 1.49011612e-08\n",
      " 1.90734863e-06 1.22070312e-04 1.56250000e-02 2.00000000e+00]\n",
      "-b -1.0000000000000000e+01  b**2-> 1.0000000000000000e+02 -4*a*c) -> -4.0000000000000000e+00 spacing 1.4210854715202004e-14  b**2-4*a*c -> 9.6000000000000000e+01   sqrt(b**2-4*a*c) -> 9.7979589711327115e+00\n",
      "-b -1.0000000000000000e+02  b**2-> 1.0000000000000000e+04 -4*a*c) -> -4.0000000000000000e+00 spacing 1.8189894035458565e-12  b**2-4*a*c -> 9.9960000000000000e+03   sqrt(b**2-4*a*c) -> 9.9979997999599902e+01\n",
      "-b -1.0000000000000000e+03  b**2-> 1.0000000000000000e+06 -4*a*c) -> -4.0000000000000000e+00 spacing 1.1641532182693481e-10  b**2-4*a*c -> 9.9999600000000000e+05   sqrt(b**2-4*a*c) -> 9.9999799999799995e+02\n",
      "-b -1.0000000000000000e+04  b**2-> 1.0000000000000000e+08 -4*a*c) -> -4.0000000000000000e+00 spacing 1.4901161193847656e-08  b**2-4*a*c -> 9.9999996000000000e+07   sqrt(b**2-4*a*c) -> 9.9999997999999978e+03\n",
      "-b -1.0000000000000000e+05  b**2-> 1.0000000000000000e+10 -4*a*c) -> -4.0000000000000000e+00 spacing 1.9073486328125000e-06  b**2-4*a*c -> 9.9999999960000000e+09   sqrt(b**2-4*a*c) -> 9.9999999979999993e+04\n",
      "-b -1.0000000000000000e+06  b**2-> 1.0000000000000000e+12 -4*a*c) -> -4.0000000000000000e+00 spacing 1.2207031250000000e-04  b**2-4*a*c -> 9.9999999999600000e+11   sqrt(b**2-4*a*c) -> 9.9999999999799998e+05\n",
      "-b -1.0000000000000000e+07  b**2-> 1.0000000000000000e+14 -4*a*c) -> -4.0000000000000000e+00 spacing 1.5625000000000000e-02  b**2-4*a*c -> 9.9999999999996000e+13   sqrt(b**2-4*a*c) -> 9.9999999999998007e+06\n",
      "-b -1.0000000000000000e+08  b**2-> 1.0000000000000000e+16 -4*a*c) -> -4.0000000000000000e+00 spacing 2.0000000000000000e+00  b**2-4*a*c -> 9.9999999999999960e+15   sqrt(b**2-4*a*c) -> 9.9999999999999985e+07\n"
     ]
    },
    {
     "data": {
      "text/plain": [
       "<matplotlib.legend.Legend at 0x1ed53c7b790>"
      ]
     },
     "execution_count": 29,
     "metadata": {},
     "output_type": "execute_result"
    },
    {
     "data": {
      "image/png": "[encoded data removed]",
      "text/plain": [
       "<Figure size 432x288 with 1 Axes>"
      ]
     },
     "metadata": {
      "needs_background": "light"
     },
     "output_type": "display_data"
    }
   ],
   "source": [
    "a=1\n",
    "c=1\n",
    "import numpy as np\n",
    "import matplotlib.pyplot as plt\n",
    "k=np.arange(1,9)\n",
    "b=10.0**k;\n",
    "print(b.shape)\n",
    "Delta= b**2-4*a*c\n",
    "'''\n",
    "La formula del calcolo della soluzione x1 può dare problemi numerici in base ai valori di b:\n",
    "quando b assume un valore molto elevato b**2-4ac è approssimabile a b**2, quindi nel calcolo\n",
    "di x1 si può verificare il fenomento di cancellazione dovuto al calcolo -b+ sqrt(Delta)\n",
    "in quanto sqrt(Delta) in questo caso è approssimabile a b.\n",
    "Per la formula del calcolo della soluzione x2 questo problema non si verifica.\n",
    "'''\n",
    "x1=(-b+np.sqrt(Delta))/(2*a)\n",
    "x2=(-b-np.sqrt(Delta))/(2*a)\n",
    "\n",
    "'''\n",
    "Usiamo una formula alternativa, nota in algebra, per cui il prodotto delle due radici dell'equazione di secondo grado è x1*x2=c/a\n",
    "per il calcolo della soluzione x1 a partire dalla soluzione x2, quindi x1=(c/a)*1/x2=c/(a*x2)\n",
    "'''\n",
    "x1new=c/(a*x2)\n",
    "#La soluzione esatta dell'equazione è:\n",
    "x1vera=-10.0**(-k)  #N.B. questa è la soluzione esatta per k grandi, altrimenti è un approssimazione.\n",
    "#Calcolo dell'errore relativo per il calcolo della soluzione x1\n",
    "err=np.abs(x1vera-x1)/np.abs(x1vera)\n",
    "print(err)\n",
    "#Calcolo dell'errore relativo per il calcolo della soluzione x1 con la formula alternativa\n",
    "errnew=np.abs(x1vera-x1new)/np.abs(x1vera)\n",
    "\n",
    "print(\"spacing per b**2 \",np.spacing(b**2))\n",
    "\n",
    "for i in range(b.shape[0]):\n",
    "   print(\"-b {:.16e}  b**2-> {:.16e} -4*a*c) -> {:.16e} spacing {:.16e}  b**2-4*a*c -> {:.16e}   sqrt(b**2-4*a*c) -> {:.16e}\".format(-b[i],b[i]**2,-4*a*c,np.spacing(b[i]**2),b[i]**2-4*a*c,np.sqrt(b[i]**2-4*a*c )))\n",
    " \n",
    "#Si nota che sottraiamo a b**2 una quantità più piccola dello spacing del sottointervallo dell'asse reale a cui b**2 appartiene \n",
    "#(infatti 4ac=4 e 4 è maggiore dello spacing per tutti i valori di b**2 considerati). La crescita dell'errore non è dovuto quindi al fenomeno dell'assorbimento.\n",
    "#L'errore viene propagato dall'estrazione della radice, all'aumentare del radicando.\n",
    "#Vengono confrontati gli errori relativi, rispetto alla soluzione vera, sia di x1, ottenuta utilizzando la formula risolutiva x1=(-b+np.sqrt(Delta))/(2*a)\n",
    "# che di x1new=c/(a*x2). Si nota che le due formule producono risultati con lo stesso errore relativo rispetto alla soluzione vera, per valori di k fino a 4. \n",
    "#Al crescere di k e quindi del radicando aumenta l'errore di approssimazione della radice quadrata e quindi aumenta l'errore relativo di x1, se confrontato \n",
    "#con l'errore relativo di x1new.\n",
    "#Una nota: la soluzione x1vera=-10.0**(-k)  è la soluzione esatta dell'equazione per k grandi, altrimenti è un approssimazione. Ecco perchè nel grafico l'errore relativo\n",
    "#commesso calcolando x1new decresce all'aumentare di k.\n",
    "\n",
    "plt.plot(k,err,'r-',k,errnew,'b:')\n",
    "plt.yscale('log')\n",
    "plt.legend([\"err x1\", \"err xnew 1\"])"
   ]
  },
  {
   "cell_type": "markdown",
   "id": "9f6294cc-b0df-40b8-a1f5-450f4e756ffa",
   "metadata": {},
   "source": [
    "- **8.** Scrivere uno script Matlab che fornisca le approssimazioni di $e=\\exp(1)$ ottenute con la formula\n",
    "$f(n)=(1/n+1)^n$ per $n=10^k$ e  $k=0, ..., 16$. Visualizzare: un grafico con i valori di $f(n)$ al variare di n ed un grafico con i valori dell'errore relativo (considerando come valore esatto il valore math.exp(1)).  Cosa si osserva? Commentare i risultati ottenuti."
   ]
  },
  {
   "cell_type": "code",
   "execution_count": 31,
   "id": "cb634321-9a0a-4fe2-98a5-e8f0cf7ffc6e",
   "metadata": {
    "tags": []
   },
   "outputs": [
    {
     "name": "stdout",
     "output_type": "stream",
     "text": [
      "Spacing in [1,2]  2.220446049250313e-16\n",
      "Valori di 1/n  [1.e+00 1.e-01 1.e-02 1.e-03 1.e-04 1.e-05 1.e-06 1.e-07 1.e-08 1.e-09\n",
      " 1.e-10 1.e-11 1.e-12 1.e-13 1.e-14 1.e-15 1.e-16]\n"
     ]
    },
    {
     "data": {
      "image/png": "[encoded data removed]",
      "text/plain": [
       "<Figure size 432x288 with 1 Axes>"
      ]
     },
     "metadata": {
      "needs_background": "light"
     },
     "output_type": "display_data"
    },
    {
     "data": {
      "image/png": "[encoded data removed]",
      "text/plain": [
       "<Figure size 432x288 with 1 Axes>"
      ]
     },
     "metadata": {
      "needs_background": "light"
     },
     "output_type": "display_data"
    }
   ],
   "source": [
    "import math\n",
    "import numpy as np\n",
    "import matplotlib.pyplot as plt\n",
    "#Approx di e=lim(1/n+1)^n, n->+infinito\n",
    "e=math.exp(1) #Valore esatto\n",
    "\n",
    "k1=np.arange(17)\n",
    "n=10.0**k1\n",
    "eapp1= (1+1/n)**n\n",
    "err_rel=np.abs(e-eapp1)/e;\n",
    "\n",
    "print(\"Spacing in [1,2] \",np.spacing(1))\n",
    "#Lo spacing in [1,2] è 2.e-16\n",
    "print(\"Valori di 1/n \",1/n)\n",
    "#Si nota che quando n=10**16, 1/n=1e-16  risulta più piccolo dello spacing in [1,2], per cui (1+1/n) \n",
    "# vale ad 1, ed il valore approssimato di \"e\" vale 1.\n",
    "#L'errore relativo cala per valori di k1 da 0 a 8 e quindi di n da 10**0 fino a 10**8.\n",
    "#Per  valori di n maggiori di 10**8,  nella formula (1+1/n) si cominciano a verificare gli errori \n",
    "#dovuti al fatto che si sommano valori di ordine di grandezza molto diversi, 1 ed 1/n molto piccolo al crescere di n. \n",
    "#Quando n=10**16, (1+1/n) vale 1 poichè 1/n è più piccolo dello spacing in [1,2] #e quindi il valore approssimato di \"e\" vale 1.\n",
    "\n",
    "plt.plot(k1 ,eapp1,'go-',k1,e*np.ones((17,1)),'r-')\n",
    "plt.legend(['approssimazione di e','e'],loc='center')  #La proprietà loc, serve per specificare la posizione della legend\n",
    "plt.show()\n",
    "\n",
    "plt.plot(k1,err_rel)\n",
    "plt.yscale('log')\n",
    "plt.legend([\"Errore relativo\"],loc='center')\n",
    "plt.show()\n",
    "\n"
   ]
  },
  {
   "cell_type": "code",
   "execution_count": null,
   "id": "9d72d963-fa73-4a83-be6d-c6058a4783c5",
   "metadata": {},
   "outputs": [],
   "source": []
  },
  {
   "cell_type": "code",
   "execution_count": null,
   "id": "707cbd56-e36a-444d-aec6-76a7531e7ebb",
   "metadata": {},
   "outputs": [],
   "source": []
  }
 ],
 "metadata": {
  "kernelspec": {
   "display_name": "Python 3 (ipykernel)",
   "language": "python",
   "name": "python3"
  },
  "language_info": {
   "codemirror_mode": {
    "name": "ipython",
    "version": 3
   },
   "file_extension": ".py",
   "mimetype": "text/x-python",
   "name": "python",
   "nbconvert_exporter": "python",
   "pygments_lexer": "ipython3",
   "version": "3.9.12"
  }
 },
 "nbformat": 4,
 "nbformat_minor": 5
}
